{
 "cells": [
  {
   "cell_type": "code",
   "execution_count": 1,
   "id": "702a5168",
   "metadata": {},
   "outputs": [],
   "source": [
    "import numpy as np\n",
    "import pandas as pd\n",
    "import requests\n",
    "import yaml\n",
    "\n",
    "\n",
    "# SOM ENERGIA API\n",
    "ENDPOINT_SOMENERGIA = \"https://opendata.somenergia.coop/v0.2/\"\n",
    "\n",
    "\n",
    "# List of cities we want to access\n",
    "cities = [\"17114\", \"17010\", \"17109\", \"17133\", \"17149\", \"17183\", \"17162\", \"17185\",\n",
    "            \"17200\", \"17208\", \"17139\", \"17154\", \"17161\", \"17165\", \"17184\", \"17207\", \"17021\"]\n",
    "\n",
    "cities_list = []\n",
    "\n",
    "\n",
    "# List of metrics  we want to access\n",
    "metrics = [\"members\", \"newmembers\", \"canceledmembers\", \"contracts\", \"newcontracts\", \"canceledcontracts\", \"selfconsumptioncontracts\", \"noobs2ninjas\",\n",
    "            \"newselfconsumptioncontracts\", \"canceledselfconsumptioncontracts\"]\n",
    "\n",
    "metrics_list = []\n"
   ]
  },
  {
   "cell_type": "code",
   "execution_count": 206,
   "id": "6b3dc817",
   "metadata": {},
   "outputs": [
    {
     "name": "stdout",
     "output_type": "stream",
     "text": [
      "https://opendata.somenergia.coop/v0.2/members/by/city/monthly/from/2021-06-01?city=17114&city=17010&city=17109&city=17133&city=17149&city=17183&city=17162&city=17185&city=17200&city=17208&city=17139&city=17154&city=17161&city=17165&city=17184&city=17207&city=17021\n"
     ]
    }
   ],
   "source": [
    "metric=\"members/by/city/monthly/from/2021-06-01\"\n",
    "#params=\"?city=17114&city=17021&format=tsv\"\n",
    "params=\"?city=17114&city=17010&city=17109&city=17133&city=17149&city=17183&city=17162&city=17185&city=17200&city=17208&city=17139&city=17154&city=17161&city=17165&city=17184&city=17207&city=17021\"\n",
    "URL=ENDPOINT_SOMENERGIA + metric + params\n",
    "print(URL)"
   ]
  },
  {
   "cell_type": "code",
   "execution_count": 207,
   "id": "d2debc67",
   "metadata": {
    "scrolled": true
   },
   "outputs": [
    {
     "data": {
      "text/plain": [
       "200"
      ]
     },
     "execution_count": 207,
     "metadata": {},
     "output_type": "execute_result"
    }
   ],
   "source": [
    "response = requests.get(URL)\n",
    "response.status_code"
   ]
  },
  {
   "cell_type": "code",
   "execution_count": 208,
   "id": "d7236be4",
   "metadata": {},
   "outputs": [
    {
     "data": {
      "text/plain": [
       "{'Server': 'nginx', 'Date': 'Sat, 31 Jul 2021 14:38:51 GMT', 'Content-Type': 'application/yaml', 'Content-Length': '2475', 'Connection': 'keep-alive'}"
      ]
     },
     "execution_count": 208,
     "metadata": {},
     "output_type": "execute_result"
    }
   ],
   "source": [
    "response.headers"
   ]
  },
  {
   "cell_type": "code",
   "execution_count": 209,
   "id": "94358032",
   "metadata": {},
   "outputs": [
    {
     "data": {
      "text/plain": [
       "b\"dates:\\n- 2021-06-01\\n- 2021-07-01\\nvalues:\\n- 374\\n- 377\\ncountries:\\n  ES:\\n    name: Espa\\xc3\\xb1a\\n    values:\\n    - 374\\n    - 377\\n    ccaas:\\n      09:\\n        name: Catalu\\xc3\\xb1a\\n        values:\\n        - 374\\n        - 377\\n        states:\\n          '17':\\n            name: Girona\\n            values:\\n            - 374\\n            - 377\\n            cities:\\n              '17010':\\n                name: Argelaguer\\n                values:\\n                - 10\\n                - 10\\n              '17021':\\n                name: Beuda\\n                values:\\n                - 4\\n                - 4\\n              '17109':\\n                name: Montagut i Oix\\n                values:\\n                - 9\\n                - 9\\n              '17114':\\n                name: Olot\\n                values:\\n                - 165\\n                - 165\\n              '17133':\\n                name: Planes d'Hostoles, Les\\n                values:\\n                - 21\\n                - 21\\n              '17139':\\n                name: Preses, Les\\n                values:\\n                - 14\\n                - 15\\n              '17149':\\n                name: Riudaura\\n                values:\\n                - 10\\n                - 10\\n              '17154':\\n                name: Sales de Llierca\\n                values:\\n                - 3\\n                - 3\\n              '17183':\\n                name: Sant Aniol de Finestres\\n                values:\\n                - 10\\n                - 10\\n              '17184':\\n                name: Santa Pau\\n                values:\\n                - 9\\n                - 9\\n              '17161':\\n                name: Sant Feliu de Pallerols\\n                values:\\n                - 25\\n                - 25\\n              '17162':\\n                name: Sant Ferriol\\n                values:\\n                - 1\\n                - 1\\n              '17165':\\n                name: Sant Jaume de Llierca\\n                values:\\n                - 6\\n                - 6\\n              '17185':\\n                name: Sant Joan les Fonts\\n                values:\\n                - 7\\n                - 7\\n              '17200':\\n                name: Tortell\\xc3\\xa0\\n                values:\\n                - 14\\n                - 14\\n              '17208':\\n                name: Vall de Bianya, La\\n                values:\\n                - 12\\n                - 12\\n              '17207':\\n                name: Vall d'en Bas, La\\n                values:\\n                - 54\\n                - 56\\n\""
      ]
     },
     "execution_count": 209,
     "metadata": {},
     "output_type": "execute_result"
    }
   ],
   "source": [
    "response.encoding = 'utf-8'\n",
    "response.content"
   ]
  },
  {
   "cell_type": "code",
   "execution_count": 210,
   "id": "4e53086f",
   "metadata": {},
   "outputs": [
    {
     "data": {
      "text/plain": [
       "requests.models.Response"
      ]
     },
     "execution_count": 210,
     "metadata": {},
     "output_type": "execute_result"
    }
   ],
   "source": [
    "type(response)"
   ]
  },
  {
   "cell_type": "code",
   "execution_count": 211,
   "id": "63728c37",
   "metadata": {},
   "outputs": [
    {
     "name": "stdout",
     "output_type": "stream",
     "text": [
      "dates:\n",
      "- 2021-06-01\n",
      "- 2021-07-01\n",
      "values:\n",
      "- 374\n",
      "- 377\n",
      "countries:\n",
      "  ES:\n",
      "    name: España\n",
      "    values:\n",
      "    - 374\n",
      "    - 377\n",
      "    ccaas:\n",
      "      09:\n",
      "        name: Cataluña\n",
      "        values:\n",
      "        - 374\n",
      "        - 377\n",
      "        states:\n",
      "          '17':\n",
      "            name: Girona\n",
      "            values:\n",
      "            - 374\n",
      "            - 377\n",
      "            cities:\n",
      "              '17010':\n",
      "                name: Argelaguer\n",
      "                values:\n",
      "                - 10\n",
      "                - 10\n",
      "              '17021':\n",
      "                name: Beuda\n",
      "                values:\n",
      "                - 4\n",
      "                - 4\n",
      "              '17109':\n",
      "                name: Montagut i Oix\n",
      "                values:\n",
      "                - 9\n",
      "                - 9\n",
      "              '17114':\n",
      "                name: Olot\n",
      "                values:\n",
      "                - 165\n",
      "                - 165\n",
      "              '17133':\n",
      "                name: Planes d'Hostoles, Les\n",
      "                values:\n",
      "                - 21\n",
      "                - 21\n",
      "              '17139':\n",
      "                name: Preses, Les\n",
      "                values:\n",
      "                - 14\n",
      "                - 15\n",
      "              '17149':\n",
      "                name: Riudaura\n",
      "                values:\n",
      "                - 10\n",
      "                - 10\n",
      "              '17154':\n",
      "                name: Sales de Llierca\n",
      "                values:\n",
      "                - 3\n",
      "                - 3\n",
      "              '17183':\n",
      "                name: Sant Aniol de Finestres\n",
      "                values:\n",
      "                - 10\n",
      "                - 10\n",
      "              '17184':\n",
      "                name: Santa Pau\n",
      "                values:\n",
      "                - 9\n",
      "                - 9\n",
      "              '17161':\n",
      "                name: Sant Feliu de Pallerols\n",
      "                values:\n",
      "                - 25\n",
      "                - 25\n",
      "              '17162':\n",
      "                name: Sant Ferriol\n",
      "                values:\n",
      "                - 1\n",
      "                - 1\n",
      "              '17165':\n",
      "                name: Sant Jaume de Llierca\n",
      "                values:\n",
      "                - 6\n",
      "                - 6\n",
      "              '17185':\n",
      "                name: Sant Joan les Fonts\n",
      "                values:\n",
      "                - 7\n",
      "                - 7\n",
      "              '17200':\n",
      "                name: Tortellà\n",
      "                values:\n",
      "                - 14\n",
      "                - 14\n",
      "              '17208':\n",
      "                name: Vall de Bianya, La\n",
      "                values:\n",
      "                - 12\n",
      "                - 12\n",
      "              '17207':\n",
      "                name: Vall d'en Bas, La\n",
      "                values:\n",
      "                - 54\n",
      "                - 56\n",
      "\n"
     ]
    }
   ],
   "source": [
    "print(response.text)"
   ]
  },
  {
   "cell_type": "code",
   "execution_count": 212,
   "id": "987941f9",
   "metadata": {},
   "outputs": [],
   "source": [
    "dades = yaml.safe_load(response.text)"
   ]
  },
  {
   "cell_type": "code",
   "execution_count": 213,
   "id": "fce7c5b6",
   "metadata": {},
   "outputs": [
    {
     "data": {
      "text/plain": [
       "{'dates': [datetime.date(2021, 6, 1), datetime.date(2021, 7, 1)],\n",
       " 'values': [374, 377],\n",
       " 'countries': {'ES': {'name': 'España',\n",
       "   'values': [374, 377],\n",
       "   'ccaas': {'09': {'name': 'Cataluña',\n",
       "     'values': [374, 377],\n",
       "     'states': {'17': {'name': 'Girona',\n",
       "       'values': [374, 377],\n",
       "       'cities': {'17010': {'name': 'Argelaguer', 'values': [10, 10]},\n",
       "        '17021': {'name': 'Beuda', 'values': [4, 4]},\n",
       "        '17109': {'name': 'Montagut i Oix', 'values': [9, 9]},\n",
       "        '17114': {'name': 'Olot', 'values': [165, 165]},\n",
       "        '17133': {'name': \"Planes d'Hostoles, Les\", 'values': [21, 21]},\n",
       "        '17139': {'name': 'Preses, Les', 'values': [14, 15]},\n",
       "        '17149': {'name': 'Riudaura', 'values': [10, 10]},\n",
       "        '17154': {'name': 'Sales de Llierca', 'values': [3, 3]},\n",
       "        '17183': {'name': 'Sant Aniol de Finestres', 'values': [10, 10]},\n",
       "        '17184': {'name': 'Santa Pau', 'values': [9, 9]},\n",
       "        '17161': {'name': 'Sant Feliu de Pallerols', 'values': [25, 25]},\n",
       "        '17162': {'name': 'Sant Ferriol', 'values': [1, 1]},\n",
       "        '17165': {'name': 'Sant Jaume de Llierca', 'values': [6, 6]},\n",
       "        '17185': {'name': 'Sant Joan les Fonts', 'values': [7, 7]},\n",
       "        '17200': {'name': 'Tortellà', 'values': [14, 14]},\n",
       "        '17208': {'name': 'Vall de Bianya, La', 'values': [12, 12]},\n",
       "        '17207': {'name': \"Vall d'en Bas, La\", 'values': [54, 56]}}}}}}}}}"
      ]
     },
     "execution_count": 213,
     "metadata": {},
     "output_type": "execute_result"
    }
   ],
   "source": [
    "dades"
   ]
  },
  {
   "cell_type": "code",
   "execution_count": 215,
   "id": "c2fca00c",
   "metadata": {},
   "outputs": [
    {
     "data": {
      "text/plain": [
       "dict"
      ]
     },
     "execution_count": 215,
     "metadata": {},
     "output_type": "execute_result"
    }
   ],
   "source": [
    "type(dades)"
   ]
  },
  {
   "cell_type": "code",
   "execution_count": 217,
   "id": "a1b0890a",
   "metadata": {},
   "outputs": [
    {
     "data": {
      "text/plain": [
       "dict_keys(['dates', 'values', 'countries'])"
      ]
     },
     "execution_count": 217,
     "metadata": {},
     "output_type": "execute_result"
    }
   ],
   "source": [
    "dades.keys()"
   ]
  },
  {
   "cell_type": "code",
   "execution_count": 218,
   "id": "a9480a1d",
   "metadata": {},
   "outputs": [
    {
     "data": {
      "text/plain": [
       "dict_values([[datetime.date(2021, 6, 1), datetime.date(2021, 7, 1)], [374, 377], {'ES': {'name': 'España', 'values': [374, 377], 'ccaas': {'09': {'name': 'Cataluña', 'values': [374, 377], 'states': {'17': {'name': 'Girona', 'values': [374, 377], 'cities': {'17010': {'name': 'Argelaguer', 'values': [10, 10]}, '17021': {'name': 'Beuda', 'values': [4, 4]}, '17109': {'name': 'Montagut i Oix', 'values': [9, 9]}, '17114': {'name': 'Olot', 'values': [165, 165]}, '17133': {'name': \"Planes d'Hostoles, Les\", 'values': [21, 21]}, '17139': {'name': 'Preses, Les', 'values': [14, 15]}, '17149': {'name': 'Riudaura', 'values': [10, 10]}, '17154': {'name': 'Sales de Llierca', 'values': [3, 3]}, '17183': {'name': 'Sant Aniol de Finestres', 'values': [10, 10]}, '17184': {'name': 'Santa Pau', 'values': [9, 9]}, '17161': {'name': 'Sant Feliu de Pallerols', 'values': [25, 25]}, '17162': {'name': 'Sant Ferriol', 'values': [1, 1]}, '17165': {'name': 'Sant Jaume de Llierca', 'values': [6, 6]}, '17185': {'name': 'Sant Joan les Fonts', 'values': [7, 7]}, '17200': {'name': 'Tortellà', 'values': [14, 14]}, '17208': {'name': 'Vall de Bianya, La', 'values': [12, 12]}, '17207': {'name': \"Vall d'en Bas, La\", 'values': [54, 56]}}}}}}}}])"
      ]
     },
     "execution_count": 218,
     "metadata": {},
     "output_type": "execute_result"
    }
   ],
   "source": [
    "dades.values()"
   ]
  },
  {
   "cell_type": "code",
   "execution_count": 219,
   "id": "db196e56",
   "metadata": {},
   "outputs": [
    {
     "data": {
      "text/plain": [
       "list"
      ]
     },
     "execution_count": 219,
     "metadata": {},
     "output_type": "execute_result"
    }
   ],
   "source": [
    "dates=dades['dates']\n",
    "type(dates)"
   ]
  },
  {
   "cell_type": "code",
   "execution_count": 220,
   "id": "b35b4416",
   "metadata": {},
   "outputs": [],
   "source": [
    "members= dades['values']"
   ]
  },
  {
   "cell_type": "code",
   "execution_count": 221,
   "id": "e30a6645",
   "metadata": {},
   "outputs": [
    {
     "name": "stdout",
     "output_type": "stream",
     "text": [
      "[datetime.date(2021, 6, 1), datetime.date(2021, 7, 1)] [374, 377]\n"
     ]
    }
   ],
   "source": [
    "print(dates, members)"
   ]
  },
  {
   "cell_type": "code",
   "execution_count": 222,
   "id": "7c4fe58c",
   "metadata": {},
   "outputs": [
    {
     "data": {
      "text/html": [
       "<div>\n",
       "<style scoped>\n",
       "    .dataframe tbody tr th:only-of-type {\n",
       "        vertical-align: middle;\n",
       "    }\n",
       "\n",
       "    .dataframe tbody tr th {\n",
       "        vertical-align: top;\n",
       "    }\n",
       "\n",
       "    .dataframe thead th {\n",
       "        text-align: right;\n",
       "    }\n",
       "</style>\n",
       "<table border=\"1\" class=\"dataframe\">\n",
       "  <thead>\n",
       "    <tr style=\"text-align: right;\">\n",
       "      <th></th>\n",
       "      <th>Date</th>\n",
       "      <th>Members</th>\n",
       "    </tr>\n",
       "  </thead>\n",
       "  <tbody>\n",
       "    <tr>\n",
       "      <th>0</th>\n",
       "      <td>2021-06-01</td>\n",
       "      <td>374</td>\n",
       "    </tr>\n",
       "    <tr>\n",
       "      <th>1</th>\n",
       "      <td>2021-07-01</td>\n",
       "      <td>377</td>\n",
       "    </tr>\n",
       "  </tbody>\n",
       "</table>\n",
       "</div>"
      ],
      "text/plain": [
       "         Date  Members\n",
       "0  2021-06-01      374\n",
       "1  2021-07-01      377"
      ]
     },
     "execution_count": 222,
     "metadata": {},
     "output_type": "execute_result"
    }
   ],
   "source": [
    "df = pd.DataFrame(list(zip(dates, members)),\n",
    "               columns =['Date', 'Members'])\n",
    "df"
   ]
  },
  {
   "cell_type": "code",
   "execution_count": 203,
   "id": "b48b17ee",
   "metadata": {},
   "outputs": [
    {
     "data": {
      "text/html": [
       "<div>\n",
       "<style scoped>\n",
       "    .dataframe tbody tr th:only-of-type {\n",
       "        vertical-align: middle;\n",
       "    }\n",
       "\n",
       "    .dataframe tbody tr th {\n",
       "        vertical-align: top;\n",
       "    }\n",
       "\n",
       "    .dataframe thead th {\n",
       "        text-align: right;\n",
       "    }\n",
       "</style>\n",
       "<table border=\"1\" class=\"dataframe\">\n",
       "  <thead>\n",
       "    <tr style=\"text-align: right;\">\n",
       "      <th></th>\n",
       "      <th>0</th>\n",
       "    </tr>\n",
       "  </thead>\n",
       "  <tbody>\n",
       "    <tr>\n",
       "      <th>169</th>\n",
       "      <td>2021-06-01</td>\n",
       "    </tr>\n",
       "    <tr>\n",
       "      <th>169</th>\n",
       "      <td>2021-07-01</td>\n",
       "    </tr>\n",
       "  </tbody>\n",
       "</table>\n",
       "</div>"
      ],
      "text/plain": [
       "              0\n",
       "169  2021-06-01\n",
       "169  2021-07-01"
      ]
     },
     "execution_count": 203,
     "metadata": {},
     "output_type": "execute_result"
    }
   ],
   "source": [
    "df"
   ]
  },
  {
   "cell_type": "code",
   "execution_count": null,
   "id": "8f3e0832",
   "metadata": {},
   "outputs": [],
   "source": []
  },
  {
   "cell_type": "code",
   "execution_count": null,
   "id": "8df73769",
   "metadata": {},
   "outputs": [],
   "source": []
  },
  {
   "cell_type": "code",
   "execution_count": null,
   "id": "ce89ecb4",
   "metadata": {},
   "outputs": [],
   "source": []
  },
  {
   "cell_type": "code",
   "execution_count": null,
   "id": "c6a25771",
   "metadata": {},
   "outputs": [],
   "source": []
  },
  {
   "cell_type": "code",
   "execution_count": null,
   "id": "b142ce57",
   "metadata": {},
   "outputs": [],
   "source": []
  },
  {
   "cell_type": "code",
   "execution_count": null,
   "id": "a5ad4886",
   "metadata": {},
   "outputs": [],
   "source": []
  },
  {
   "cell_type": "code",
   "execution_count": null,
   "id": "a454aa4c",
   "metadata": {},
   "outputs": [],
   "source": [
    "# For each metric, we access its information through its API\n",
    "for metric  in metrics:\n",
    "    JSONContent = requests.get(ENDPOINT_SOMENERGIA + metric).json()"
   ]
  },
  {
   "cell_type": "code",
   "execution_count": null,
   "id": "aec5089d",
   "metadata": {},
   "outputs": [],
   "source": [
    "import requests\n",
    "\n",
    "\n",
    "endpoint = \"https://www.googleapis.com/books/v1/volumes\"\n",
    "\n",
    "query = \"moby dick\"\n",
    "\n",
    "\n",
    "params = {\"q\": query, \"maxResults\": 3}\n",
    "\n",
    "response = requests.get(endpoint, params=params).json()\n",
    "\n",
    "for book in response[\"items\"]:\n",
    "\n",
    "    volume = book[\"volumeInfo\"]\n",
    "\n",
    "    title = volume[\"title\"]\n",
    "\n",
    "    published = volume[\"publishedDate\"]\n",
    "\n",
    "    description = volume[\"description\"]\n",
    "\n",
    "    print(f\"{title} ({published}) | {description}\")\n",
    "\n",
    "params = {\"city?city=\": cities}    \n",
    "# For each channel, we access its information through its API\n",
    "for metric  in metrics:\n",
    "    JSONContent = requests.get(ENDPOINT_SOMENERGIA + metric, params=params).json()\n",
    "    if 'error' not in JSONContent:\n",
    "        metrics_list.append([JSONContent['_id'], JSONContent['display_name'], JSONContent['status'],\n",
    "                             JSONContent['followers'], JSONContent['views']])\n",
    "                         \n",
    "df = pd.DataFrame(metrics_list)\n",
    "df.sample(5)"
   ]
  }
 ],
 "metadata": {
  "kernelspec": {
   "display_name": "Python 3",
   "language": "python",
   "name": "python3"
  },
  "language_info": {
   "codemirror_mode": {
    "name": "ipython",
    "version": 3
   },
   "file_extension": ".py",
   "mimetype": "text/x-python",
   "name": "python",
   "nbconvert_exporter": "python",
   "pygments_lexer": "ipython3",
   "version": "3.8.8"
  }
 },
 "nbformat": 4,
 "nbformat_minor": 5
}
