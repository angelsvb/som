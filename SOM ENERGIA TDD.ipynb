{
 "cells": [
  {
   "cell_type": "code",
   "execution_count": 24,
   "id": "16a68310",
   "metadata": {},
   "outputs": [],
   "source": [
    "import numpy as np\n",
    "import pandas as pd\n",
    "import requests\n",
    "import yaml\n",
    "import os\n",
    "\n",
    "import pytest\n",
    "import ipytest\n",
    "ipytest.autoconfig()\n",
    "\n",
    "# SOM ENERGIA API\n",
    "ENDPOINT_SOMENERGIA = \"https://opendata.somenergia.coop/v0.2/\"\n",
    "\n",
    "\n",
    "# List of cities we want to access\n",
    "cities = [\"17114\", \"17010\", \"17109\", \"17133\", \"17149\", \"17183\", \"17162\", \"17185\",\n",
    "            \"17200\", \"17208\", \"17139\", \"17154\", \"17161\", \"17165\", \"17184\", \"17207\", \"17021\"]\n",
    "\n",
    "cities_list = []\n",
    "\n",
    "\n",
    "# List of metrics  we want to access\n",
    "metrics = [\"members\", \"newmembers\", \"canceledmembers\", \"contracts\", \"newcontracts\", \"canceledcontracts\", \"selfconsumptioncontracts\",\n",
    "            \"newselfconsumptioncontracts\", \"canceledselfconsumptioncontracts\"]\n",
    "\n",
    "metrics_list = []\n",
    "\n",
    "# Construeixo parametres per consultar totes les ciutats de la Garrotxa\n",
    "params='/by/city/monthly/from/2010-01-01?'\n",
    "for c in cities:\n",
    "    params+='&city='+c"
   ]
  },
  {
   "cell_type": "code",
   "execution_count": 29,
   "id": "d529c657",
   "metadata": {},
   "outputs": [
    {
     "name": "stdout",
     "output_type": "stream",
     "text": [
      "\u001b[31mF\u001b[0m\u001b[31m                                                                                            [100%]\u001b[0m\n",
      "============================================ FAILURES =============================================\n",
      "\u001b[31m\u001b[1m__________________________ test_get_metrics_check_status_code_equals_200 __________________________\u001b[0m\n",
      "\n",
      "    \u001b[94mdef\u001b[39;49;00m \u001b[92mtest_get_metrics_check_status_code_equals_200\u001b[39;49;00m():\n",
      "        \u001b[90m# Per cada métrica, get dades API\u001b[39;49;00m\n",
      "        \u001b[94mfor\u001b[39;49;00m metric \u001b[95min\u001b[39;49;00m metrics:\n",
      "            response = requests.get(ENDPOINT_SOMENERGIA + metric + params)\n",
      "            \u001b[94massert\u001b[39;49;00m response.status_code == \u001b[94m200\u001b[39;49;00m\n",
      ">           \u001b[94massert\u001b[39;49;00m response.headers[\u001b[33m\"\u001b[39;49;00m\u001b[33mContent-Type\u001b[39;49;00m\u001b[33m\"\u001b[39;49;00m] == \u001b[33m\"\u001b[39;49;00m\u001b[33mapplication/json\u001b[39;49;00m\u001b[33m\"\u001b[39;49;00m\n",
      "\u001b[1m\u001b[31mE           AssertionError: assert 'application/yaml' == 'application/json'\u001b[0m\n",
      "\u001b[1m\u001b[31mE             - application/json\u001b[0m\n",
      "\u001b[1m\u001b[31mE             ?             ^^^^\u001b[0m\n",
      "\u001b[1m\u001b[31mE             + application/yaml\u001b[0m\n",
      "\u001b[1m\u001b[31mE             ?             ^^^^\u001b[0m\n",
      "\n",
      "\u001b[1m\u001b[31m<ipython-input-29-cbe5c24fdbf6>\u001b[0m:6: AssertionError\n",
      "===================================== short test summary info =====================================\n",
      "FAILED tmpv9_lg3r0.py::test_get_metrics_check_status_code_equals_200 - AssertionError: assert 'ap...\n",
      "\u001b[31m\u001b[31m\u001b[1m1 failed\u001b[0m\u001b[31m in 0.35s\u001b[0m\u001b[0m\n"
     ]
    }
   ],
   "source": [
    "%%ipytest\n",
    "def test_get_metrics_check_status_code_equals_200():\n",
    "    # Per cada métrica, get dades API \n",
    "    for metric in metrics:\n",
    "        response = requests.get(ENDPOINT_SOMENERGIA + metric + params)\n",
    "        assert response.status_code == 200\n",
    "        assert response.headers[\"Content-Type\"] == \"application/json\""
   ]
  }
 ],
 "metadata": {
  "kernelspec": {
   "display_name": "Python 3",
   "language": "python",
   "name": "python3"
  },
  "language_info": {
   "codemirror_mode": {
    "name": "ipython",
    "version": 3
   },
   "file_extension": ".py",
   "mimetype": "text/x-python",
   "name": "python",
   "nbconvert_exporter": "python",
   "pygments_lexer": "ipython3",
   "version": "3.8.8"
  }
 },
 "nbformat": 4,
 "nbformat_minor": 5
}
