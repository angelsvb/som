{
 "cells": [
  {
   "cell_type": "markdown",
   "id": "17c4fd4e",
   "metadata": {},
   "source": [
    "\n",
    "<img src=\"img/logo-som-energia.jpg\" alt=\"logo-som-energia\" width=\"25%\" align=\"center\" padding=\"160px\"/>\n"
   ]
  },
  {
   "cell_type": "markdown",
   "id": "45829e37",
   "metadata": {},
   "source": [
    "\n",
    "# PROVA TÈCNICA PROGRAMADORA I VISUALITZACIÓ DE DADES\n",
    "\n",
    "## Som Energia\n",
    "\n",
    "#### Àngels Villar\n",
    "\n",
    "#### Juliol 2021"
   ]
  },
  {
   "cell_type": "markdown",
   "id": "256d9a19",
   "metadata": {},
   "source": [
    "[\"Enunciat\"](./Prova-tecnica-programadora-dades.pdf)"
   ]
  },
  {
   "cell_type": "markdown",
   "id": "a436471c",
   "metadata": {},
   "source": [
    "\n",
    "- Obtenir dades de l'API\n",
    "    - Inicialitzacions: \n",
    "        carregar llibreries\n",
    "        inicialitzar variables\n",
    "        Definir funcions per a guardar/carregar dades a un fitxer\n",
    "    - Agafar dades des de l'API\n",
    "- Arreglar dades: creació dataframe per treballar amb més facilitat\n",
    "- EDA: \n",
    "    - Anàlisi exploratòri de dades\n",
    "    - Visualització dades\n",
    "    - Neteja de dades, si cal\n",
    "- Visualització de dades\n",
    "    - Funcions visualitzacions\n",
    "    - Dades últim any\n",
    "    - Gràfiques\n",
    "- A futur:\n",
    "    - Creació mòdels predictius\n",
    "    - Validació mòdel i test\n",
    "    "
   ]
  },
  {
   "cell_type": "markdown",
   "id": "2bf819f5",
   "metadata": {},
   "source": [
    "## Obtenir dades de l'API\n",
    "\n",
    "- [Documentació API](https://opendata.somenergia.coop/docs/)\n",
    "- [OpenData](https://opendata.somenergia.coop/ui/)\n"
   ]
  },
  {
   "cell_type": "code",
   "execution_count": 102,
   "id": "856a2728",
   "metadata": {
    "scrolled": true
   },
   "outputs": [
    {
     "data": {
      "text/html": [
       "\n",
       "    <div class=\"bk-root\">\n",
       "        <a href=\"https://bokeh.org\" target=\"_blank\" class=\"bk-logo bk-logo-small bk-logo-notebook\"></a>\n",
       "        <span id=\"9648\">Loading BokehJS ...</span>\n",
       "    </div>"
      ]
     },
     "metadata": {},
     "output_type": "display_data"
    },
    {
     "data": {
      "application/javascript": [
       "\n",
       "(function(root) {\n",
       "  function now() {\n",
       "    return new Date();\n",
       "  }\n",
       "\n",
       "  var force = true;\n",
       "\n",
       "  if (typeof root._bokeh_onload_callbacks === \"undefined\" || force === true) {\n",
       "    root._bokeh_onload_callbacks = [];\n",
       "    root._bokeh_is_loading = undefined;\n",
       "  }\n",
       "\n",
       "  var JS_MIME_TYPE = 'application/javascript';\n",
       "  var HTML_MIME_TYPE = 'text/html';\n",
       "  var EXEC_MIME_TYPE = 'application/vnd.bokehjs_exec.v0+json';\n",
       "  var CLASS_NAME = 'output_bokeh rendered_html';\n",
       "\n",
       "  /**\n",
       "   * Render data to the DOM node\n",
       "   */\n",
       "  function render(props, node) {\n",
       "    var script = document.createElement(\"script\");\n",
       "    node.appendChild(script);\n",
       "  }\n",
       "\n",
       "  /**\n",
       "   * Handle when an output is cleared or removed\n",
       "   */\n",
       "  function handleClearOutput(event, handle) {\n",
       "    var cell = handle.cell;\n",
       "\n",
       "    var id = cell.output_area._bokeh_element_id;\n",
       "    var server_id = cell.output_area._bokeh_server_id;\n",
       "    // Clean up Bokeh references\n",
       "    if (id != null && id in Bokeh.index) {\n",
       "      Bokeh.index[id].model.document.clear();\n",
       "      delete Bokeh.index[id];\n",
       "    }\n",
       "\n",
       "    if (server_id !== undefined) {\n",
       "      // Clean up Bokeh references\n",
       "      var cmd = \"from bokeh.io.state import curstate; print(curstate().uuid_to_server['\" + server_id + \"'].get_sessions()[0].document.roots[0]._id)\";\n",
       "      cell.notebook.kernel.execute(cmd, {\n",
       "        iopub: {\n",
       "          output: function(msg) {\n",
       "            var id = msg.content.text.trim();\n",
       "            if (id in Bokeh.index) {\n",
       "              Bokeh.index[id].model.document.clear();\n",
       "              delete Bokeh.index[id];\n",
       "            }\n",
       "          }\n",
       "        }\n",
       "      });\n",
       "      // Destroy server and session\n",
       "      var cmd = \"import bokeh.io.notebook as ion; ion.destroy_server('\" + server_id + \"')\";\n",
       "      cell.notebook.kernel.execute(cmd);\n",
       "    }\n",
       "  }\n",
       "\n",
       "  /**\n",
       "   * Handle when a new output is added\n",
       "   */\n",
       "  function handleAddOutput(event, handle) {\n",
       "    var output_area = handle.output_area;\n",
       "    var output = handle.output;\n",
       "\n",
       "    // limit handleAddOutput to display_data with EXEC_MIME_TYPE content only\n",
       "    if ((output.output_type != \"display_data\") || (!Object.prototype.hasOwnProperty.call(output.data, EXEC_MIME_TYPE))) {\n",
       "      return\n",
       "    }\n",
       "\n",
       "    var toinsert = output_area.element.find(\".\" + CLASS_NAME.split(' ')[0]);\n",
       "\n",
       "    if (output.metadata[EXEC_MIME_TYPE][\"id\"] !== undefined) {\n",
       "      toinsert[toinsert.length - 1].firstChild.textContent = output.data[JS_MIME_TYPE];\n",
       "      // store reference to embed id on output_area\n",
       "      output_area._bokeh_element_id = output.metadata[EXEC_MIME_TYPE][\"id\"];\n",
       "    }\n",
       "    if (output.metadata[EXEC_MIME_TYPE][\"server_id\"] !== undefined) {\n",
       "      var bk_div = document.createElement(\"div\");\n",
       "      bk_div.innerHTML = output.data[HTML_MIME_TYPE];\n",
       "      var script_attrs = bk_div.children[0].attributes;\n",
       "      for (var i = 0; i < script_attrs.length; i++) {\n",
       "        toinsert[toinsert.length - 1].firstChild.setAttribute(script_attrs[i].name, script_attrs[i].value);\n",
       "        toinsert[toinsert.length - 1].firstChild.textContent = bk_div.children[0].textContent\n",
       "      }\n",
       "      // store reference to server id on output_area\n",
       "      output_area._bokeh_server_id = output.metadata[EXEC_MIME_TYPE][\"server_id\"];\n",
       "    }\n",
       "  }\n",
       "\n",
       "  function register_renderer(events, OutputArea) {\n",
       "\n",
       "    function append_mime(data, metadata, element) {\n",
       "      // create a DOM node to render to\n",
       "      var toinsert = this.create_output_subarea(\n",
       "        metadata,\n",
       "        CLASS_NAME,\n",
       "        EXEC_MIME_TYPE\n",
       "      );\n",
       "      this.keyboard_manager.register_events(toinsert);\n",
       "      // Render to node\n",
       "      var props = {data: data, metadata: metadata[EXEC_MIME_TYPE]};\n",
       "      render(props, toinsert[toinsert.length - 1]);\n",
       "      element.append(toinsert);\n",
       "      return toinsert\n",
       "    }\n",
       "\n",
       "    /* Handle when an output is cleared or removed */\n",
       "    events.on('clear_output.CodeCell', handleClearOutput);\n",
       "    events.on('delete.Cell', handleClearOutput);\n",
       "\n",
       "    /* Handle when a new output is added */\n",
       "    events.on('output_added.OutputArea', handleAddOutput);\n",
       "\n",
       "    /**\n",
       "     * Register the mime type and append_mime function with output_area\n",
       "     */\n",
       "    OutputArea.prototype.register_mime_type(EXEC_MIME_TYPE, append_mime, {\n",
       "      /* Is output safe? */\n",
       "      safe: true,\n",
       "      /* Index of renderer in `output_area.display_order` */\n",
       "      index: 0\n",
       "    });\n",
       "  }\n",
       "\n",
       "  // register the mime type if in Jupyter Notebook environment and previously unregistered\n",
       "  if (root.Jupyter !== undefined) {\n",
       "    var events = require('base/js/events');\n",
       "    var OutputArea = require('notebook/js/outputarea').OutputArea;\n",
       "\n",
       "    if (OutputArea.prototype.mime_types().indexOf(EXEC_MIME_TYPE) == -1) {\n",
       "      register_renderer(events, OutputArea);\n",
       "    }\n",
       "  }\n",
       "\n",
       "  \n",
       "  if (typeof (root._bokeh_timeout) === \"undefined\" || force === true) {\n",
       "    root._bokeh_timeout = Date.now() + 5000;\n",
       "    root._bokeh_failed_load = false;\n",
       "  }\n",
       "\n",
       "  var NB_LOAD_WARNING = {'data': {'text/html':\n",
       "     \"<div style='background-color: #fdd'>\\n\"+\n",
       "     \"<p>\\n\"+\n",
       "     \"BokehJS does not appear to have successfully loaded. If loading BokehJS from CDN, this \\n\"+\n",
       "     \"may be due to a slow or bad network connection. Possible fixes:\\n\"+\n",
       "     \"</p>\\n\"+\n",
       "     \"<ul>\\n\"+\n",
       "     \"<li>re-rerun `output_notebook()` to attempt to load from CDN again, or</li>\\n\"+\n",
       "     \"<li>use INLINE resources instead, as so:</li>\\n\"+\n",
       "     \"</ul>\\n\"+\n",
       "     \"<code>\\n\"+\n",
       "     \"from bokeh.resources import INLINE\\n\"+\n",
       "     \"output_notebook(resources=INLINE)\\n\"+\n",
       "     \"</code>\\n\"+\n",
       "     \"</div>\"}};\n",
       "\n",
       "  function display_loaded() {\n",
       "    var el = document.getElementById(\"9648\");\n",
       "    if (el != null) {\n",
       "      el.textContent = \"BokehJS is loading...\";\n",
       "    }\n",
       "    if (root.Bokeh !== undefined) {\n",
       "      if (el != null) {\n",
       "        el.textContent = \"BokehJS \" + root.Bokeh.version + \" successfully loaded.\";\n",
       "      }\n",
       "    } else if (Date.now() < root._bokeh_timeout) {\n",
       "      setTimeout(display_loaded, 100)\n",
       "    }\n",
       "  }\n",
       "\n",
       "\n",
       "  function run_callbacks() {\n",
       "    try {\n",
       "      root._bokeh_onload_callbacks.forEach(function(callback) {\n",
       "        if (callback != null)\n",
       "          callback();\n",
       "      });\n",
       "    } finally {\n",
       "      delete root._bokeh_onload_callbacks\n",
       "    }\n",
       "    console.debug(\"Bokeh: all callbacks have finished\");\n",
       "  }\n",
       "\n",
       "  function load_libs(css_urls, js_urls, callback) {\n",
       "    if (css_urls == null) css_urls = [];\n",
       "    if (js_urls == null) js_urls = [];\n",
       "\n",
       "    root._bokeh_onload_callbacks.push(callback);\n",
       "    if (root._bokeh_is_loading > 0) {\n",
       "      console.debug(\"Bokeh: BokehJS is being loaded, scheduling callback at\", now());\n",
       "      return null;\n",
       "    }\n",
       "    if (js_urls == null || js_urls.length === 0) {\n",
       "      run_callbacks();\n",
       "      return null;\n",
       "    }\n",
       "    console.debug(\"Bokeh: BokehJS not loaded, scheduling load and callback at\", now());\n",
       "    root._bokeh_is_loading = css_urls.length + js_urls.length;\n",
       "\n",
       "    function on_load() {\n",
       "      root._bokeh_is_loading--;\n",
       "      if (root._bokeh_is_loading === 0) {\n",
       "        console.debug(\"Bokeh: all BokehJS libraries/stylesheets loaded\");\n",
       "        run_callbacks()\n",
       "      }\n",
       "    }\n",
       "\n",
       "    function on_error(url) {\n",
       "      console.error(\"failed to load \" + url);\n",
       "    }\n",
       "\n",
       "    for (let i = 0; i < css_urls.length; i++) {\n",
       "      const url = css_urls[i];\n",
       "      const element = document.createElement(\"link\");\n",
       "      element.onload = on_load;\n",
       "      element.onerror = on_error.bind(null, url);\n",
       "      element.rel = \"stylesheet\";\n",
       "      element.type = \"text/css\";\n",
       "      element.href = url;\n",
       "      console.debug(\"Bokeh: injecting link tag for BokehJS stylesheet: \", url);\n",
       "      document.body.appendChild(element);\n",
       "    }\n",
       "\n",
       "    const hashes = {\"https://cdn.bokeh.org/bokeh/release/bokeh-2.3.2.min.js\": \"XypntL49z55iwGVUW4qsEu83zKL3XEcz0MjuGOQ9SlaaQ68X/g+k1FcioZi7oQAc\", \"https://cdn.bokeh.org/bokeh/release/bokeh-tables-2.3.2.min.js\": \"bEsM86IHGDTLCS0Zod8a8WM6Y4+lafAL/eSiyQcuPzinmWNgNO2/olUF0Z2Dkn5i\", \"https://cdn.bokeh.org/bokeh/release/bokeh-widgets-2.3.2.min.js\": \"TX0gSQTdXTTeScqxj6PVQxTiRW8DOoGVwinyi1D3kxv7wuxQ02XkOxv0xwiypcAH\"};\n",
       "\n",
       "    for (let i = 0; i < js_urls.length; i++) {\n",
       "      const url = js_urls[i];\n",
       "      const element = document.createElement('script');\n",
       "      element.onload = on_load;\n",
       "      element.onerror = on_error.bind(null, url);\n",
       "      element.async = false;\n",
       "      element.src = url;\n",
       "      if (url in hashes) {\n",
       "        element.crossOrigin = \"anonymous\";\n",
       "        element.integrity = \"sha384-\" + hashes[url];\n",
       "      }\n",
       "      console.debug(\"Bokeh: injecting script tag for BokehJS library: \", url);\n",
       "      document.head.appendChild(element);\n",
       "    }\n",
       "  };\n",
       "\n",
       "  function inject_raw_css(css) {\n",
       "    const element = document.createElement(\"style\");\n",
       "    element.appendChild(document.createTextNode(css));\n",
       "    document.body.appendChild(element);\n",
       "  }\n",
       "\n",
       "  \n",
       "  var js_urls = [\"https://cdn.bokeh.org/bokeh/release/bokeh-2.3.2.min.js\", \"https://cdn.bokeh.org/bokeh/release/bokeh-widgets-2.3.2.min.js\", \"https://cdn.bokeh.org/bokeh/release/bokeh-tables-2.3.2.min.js\"];\n",
       "  var css_urls = [];\n",
       "  \n",
       "\n",
       "  var inline_js = [\n",
       "    function(Bokeh) {\n",
       "      Bokeh.set_log_level(\"info\");\n",
       "    },\n",
       "    function(Bokeh) {\n",
       "    \n",
       "    \n",
       "    }\n",
       "  ];\n",
       "\n",
       "  function run_inline_js() {\n",
       "    \n",
       "    if (root.Bokeh !== undefined || force === true) {\n",
       "      \n",
       "    for (var i = 0; i < inline_js.length; i++) {\n",
       "      inline_js[i].call(root, root.Bokeh);\n",
       "    }\n",
       "    if (force === true) {\n",
       "        display_loaded();\n",
       "      }} else if (Date.now() < root._bokeh_timeout) {\n",
       "      setTimeout(run_inline_js, 100);\n",
       "    } else if (!root._bokeh_failed_load) {\n",
       "      console.log(\"Bokeh: BokehJS failed to load within specified timeout.\");\n",
       "      root._bokeh_failed_load = true;\n",
       "    } else if (force !== true) {\n",
       "      var cell = $(document.getElementById(\"9648\")).parents('.cell').data().cell;\n",
       "      cell.output_area.append_execute_result(NB_LOAD_WARNING)\n",
       "    }\n",
       "\n",
       "  }\n",
       "\n",
       "  if (root._bokeh_is_loading === 0) {\n",
       "    console.debug(\"Bokeh: BokehJS loaded, going straight to plotting\");\n",
       "    run_inline_js();\n",
       "  } else {\n",
       "    load_libs(css_urls, js_urls, function() {\n",
       "      console.debug(\"Bokeh: BokehJS plotting callback run at\", now());\n",
       "      run_inline_js();\n",
       "    });\n",
       "  }\n",
       "}(window));"
      ],
      "application/vnd.bokehjs_load.v0+json": "\n(function(root) {\n  function now() {\n    return new Date();\n  }\n\n  var force = true;\n\n  if (typeof root._bokeh_onload_callbacks === \"undefined\" || force === true) {\n    root._bokeh_onload_callbacks = [];\n    root._bokeh_is_loading = undefined;\n  }\n\n  \n\n  \n  if (typeof (root._bokeh_timeout) === \"undefined\" || force === true) {\n    root._bokeh_timeout = Date.now() + 5000;\n    root._bokeh_failed_load = false;\n  }\n\n  var NB_LOAD_WARNING = {'data': {'text/html':\n     \"<div style='background-color: #fdd'>\\n\"+\n     \"<p>\\n\"+\n     \"BokehJS does not appear to have successfully loaded. If loading BokehJS from CDN, this \\n\"+\n     \"may be due to a slow or bad network connection. Possible fixes:\\n\"+\n     \"</p>\\n\"+\n     \"<ul>\\n\"+\n     \"<li>re-rerun `output_notebook()` to attempt to load from CDN again, or</li>\\n\"+\n     \"<li>use INLINE resources instead, as so:</li>\\n\"+\n     \"</ul>\\n\"+\n     \"<code>\\n\"+\n     \"from bokeh.resources import INLINE\\n\"+\n     \"output_notebook(resources=INLINE)\\n\"+\n     \"</code>\\n\"+\n     \"</div>\"}};\n\n  function display_loaded() {\n    var el = document.getElementById(\"9648\");\n    if (el != null) {\n      el.textContent = \"BokehJS is loading...\";\n    }\n    if (root.Bokeh !== undefined) {\n      if (el != null) {\n        el.textContent = \"BokehJS \" + root.Bokeh.version + \" successfully loaded.\";\n      }\n    } else if (Date.now() < root._bokeh_timeout) {\n      setTimeout(display_loaded, 100)\n    }\n  }\n\n\n  function run_callbacks() {\n    try {\n      root._bokeh_onload_callbacks.forEach(function(callback) {\n        if (callback != null)\n          callback();\n      });\n    } finally {\n      delete root._bokeh_onload_callbacks\n    }\n    console.debug(\"Bokeh: all callbacks have finished\");\n  }\n\n  function load_libs(css_urls, js_urls, callback) {\n    if (css_urls == null) css_urls = [];\n    if (js_urls == null) js_urls = [];\n\n    root._bokeh_onload_callbacks.push(callback);\n    if (root._bokeh_is_loading > 0) {\n      console.debug(\"Bokeh: BokehJS is being loaded, scheduling callback at\", now());\n      return null;\n    }\n    if (js_urls == null || js_urls.length === 0) {\n      run_callbacks();\n      return null;\n    }\n    console.debug(\"Bokeh: BokehJS not loaded, scheduling load and callback at\", now());\n    root._bokeh_is_loading = css_urls.length + js_urls.length;\n\n    function on_load() {\n      root._bokeh_is_loading--;\n      if (root._bokeh_is_loading === 0) {\n        console.debug(\"Bokeh: all BokehJS libraries/stylesheets loaded\");\n        run_callbacks()\n      }\n    }\n\n    function on_error(url) {\n      console.error(\"failed to load \" + url);\n    }\n\n    for (let i = 0; i < css_urls.length; i++) {\n      const url = css_urls[i];\n      const element = document.createElement(\"link\");\n      element.onload = on_load;\n      element.onerror = on_error.bind(null, url);\n      element.rel = \"stylesheet\";\n      element.type = \"text/css\";\n      element.href = url;\n      console.debug(\"Bokeh: injecting link tag for BokehJS stylesheet: \", url);\n      document.body.appendChild(element);\n    }\n\n    const hashes = {\"https://cdn.bokeh.org/bokeh/release/bokeh-2.3.2.min.js\": \"XypntL49z55iwGVUW4qsEu83zKL3XEcz0MjuGOQ9SlaaQ68X/g+k1FcioZi7oQAc\", \"https://cdn.bokeh.org/bokeh/release/bokeh-tables-2.3.2.min.js\": \"bEsM86IHGDTLCS0Zod8a8WM6Y4+lafAL/eSiyQcuPzinmWNgNO2/olUF0Z2Dkn5i\", \"https://cdn.bokeh.org/bokeh/release/bokeh-widgets-2.3.2.min.js\": \"TX0gSQTdXTTeScqxj6PVQxTiRW8DOoGVwinyi1D3kxv7wuxQ02XkOxv0xwiypcAH\"};\n\n    for (let i = 0; i < js_urls.length; i++) {\n      const url = js_urls[i];\n      const element = document.createElement('script');\n      element.onload = on_load;\n      element.onerror = on_error.bind(null, url);\n      element.async = false;\n      element.src = url;\n      if (url in hashes) {\n        element.crossOrigin = \"anonymous\";\n        element.integrity = \"sha384-\" + hashes[url];\n      }\n      console.debug(\"Bokeh: injecting script tag for BokehJS library: \", url);\n      document.head.appendChild(element);\n    }\n  };\n\n  function inject_raw_css(css) {\n    const element = document.createElement(\"style\");\n    element.appendChild(document.createTextNode(css));\n    document.body.appendChild(element);\n  }\n\n  \n  var js_urls = [\"https://cdn.bokeh.org/bokeh/release/bokeh-2.3.2.min.js\", \"https://cdn.bokeh.org/bokeh/release/bokeh-widgets-2.3.2.min.js\", \"https://cdn.bokeh.org/bokeh/release/bokeh-tables-2.3.2.min.js\"];\n  var css_urls = [];\n  \n\n  var inline_js = [\n    function(Bokeh) {\n      Bokeh.set_log_level(\"info\");\n    },\n    function(Bokeh) {\n    \n    \n    }\n  ];\n\n  function run_inline_js() {\n    \n    if (root.Bokeh !== undefined || force === true) {\n      \n    for (var i = 0; i < inline_js.length; i++) {\n      inline_js[i].call(root, root.Bokeh);\n    }\n    if (force === true) {\n        display_loaded();\n      }} else if (Date.now() < root._bokeh_timeout) {\n      setTimeout(run_inline_js, 100);\n    } else if (!root._bokeh_failed_load) {\n      console.log(\"Bokeh: BokehJS failed to load within specified timeout.\");\n      root._bokeh_failed_load = true;\n    } else if (force !== true) {\n      var cell = $(document.getElementById(\"9648\")).parents('.cell').data().cell;\n      cell.output_area.append_execute_result(NB_LOAD_WARNING)\n    }\n\n  }\n\n  if (root._bokeh_is_loading === 0) {\n    console.debug(\"Bokeh: BokehJS loaded, going straight to plotting\");\n    run_inline_js();\n  } else {\n    load_libs(css_urls, js_urls, function() {\n      console.debug(\"Bokeh: BokehJS plotting callback run at\", now());\n      run_inline_js();\n    });\n  }\n}(window));"
     },
     "metadata": {},
     "output_type": "display_data"
    }
   ],
   "source": [
    "output_notebook()"
   ]
  },
  {
   "cell_type": "markdown",
   "id": "b73d66e5",
   "metadata": {},
   "source": [
    "### Inicialitzacions\n",
    "\n",
    "Importem llibreries i inicialitzem variables.\n",
    "\n"
   ]
  },
  {
   "cell_type": "code",
   "execution_count": 1,
   "id": "16a68310",
   "metadata": {},
   "outputs": [],
   "source": [
    "import numpy as np\n",
    "import pandas as pd\n",
    "import requests\n",
    "import yaml\n",
    "import os\n",
    "\n",
    "\n",
    "# SOM ENERGIA API\n",
    "ENDPOINT_SOMENERGIA = \"https://opendata.somenergia.coop/v0.2/\"\n",
    "\n",
    "\n",
    "# List of cities we want to access\n",
    "cities = [\"17114\", \"17010\", \"17109\", \"17133\", \"17149\", \"17183\", \"17162\", \"17185\",\n",
    "            \"17200\", \"17208\", \"17139\", \"17154\", \"17161\", \"17165\", \"17184\", \"17207\", \"17021\"]\n",
    "\n",
    "cities_list = []\n",
    "\n",
    "\n",
    "# List of metrics  we want to access\n",
    "metrics = [\"members\", \"newmembers\", \"canceledmembers\", \"contracts\", \"newcontracts\", \"canceledcontracts\", \"selfconsumptioncontracts\",\n",
    "            \"newselfconsumptioncontracts\", \"canceledselfconsumptioncontracts\"]\n",
    "\n",
    "metrics_list = []\n",
    "\n"
   ]
  },
  {
   "cell_type": "markdown",
   "id": "d671ac4a",
   "metadata": {},
   "source": [
    "### Funcions auxiliars _pickle_\n",
    "\n",
    "Els pickles son una eina que ens permet serialitzar les dades sobre les que estem treballant.\n",
    "\n",
    "Quan tingui el dataset construit ho guardo i així no cal que estigui fent més crides a l'API.\n",
    "En qualsevol moment que necessiti puc carregar ell datasete amb les dades guardades.\n",
    "\n"
   ]
  },
  {
   "cell_type": "markdown",
   "id": "0c155815",
   "metadata": {},
   "source": [
    "**Variables**\n",
    "\n",
    "Defineixo el diirectori on guardo fitxers i quins fitxers tindré.\n",
    "\n",
    "Em serveixen de valors per defecte a les funcions que treballen amb pickles.\n"
   ]
  },
  {
   "cell_type": "code",
   "execution_count": 2,
   "id": "86c56f65",
   "metadata": {},
   "outputs": [],
   "source": [
    "DATASETS_PATH = \".\"\n",
    "datos_pickle = \"somenergia_data.pickle\""
   ]
  },
  {
   "cell_type": "markdown",
   "id": "47560775",
   "metadata": {},
   "source": [
    "**Funció save_pickle**\n",
    "\n",
    "Guarda el dataset en format __pickle__.\n",
    "\n",
    "Arguments: \n",
    "\n",
    "- dir_data: directorio donde se guardan ficheros \n",
    "- pickle_file: fichero donde guardaremos el dataset \n",
    "- mydataframe: el dataframe a guardar, per defecte es df\n"
   ]
  },
  {
   "cell_type": "code",
   "execution_count": 3,
   "id": "d0658498",
   "metadata": {},
   "outputs": [
    {
     "ename": "NameError",
     "evalue": "name 'df' is not defined",
     "output_type": "error",
     "traceback": [
      "\u001b[1;31m---------------------------------------------------------------------------\u001b[0m",
      "\u001b[1;31mNameError\u001b[0m                                 Traceback (most recent call last)",
      "\u001b[1;32m<ipython-input-3-4f6d294f6109>\u001b[0m in \u001b[0;36m<module>\u001b[1;34m\u001b[0m\n\u001b[1;32m----> 1\u001b[1;33m \u001b[1;32mdef\u001b[0m \u001b[0msave_pickle\u001b[0m\u001b[1;33m(\u001b[0m\u001b[0mdir_data\u001b[0m\u001b[1;33m=\u001b[0m\u001b[0mDATASETS_PATH\u001b[0m\u001b[1;33m,\u001b[0m\u001b[0mpickle_file\u001b[0m\u001b[1;33m=\u001b[0m\u001b[0mdatos_pickle\u001b[0m\u001b[1;33m,\u001b[0m\u001b[0mmydataframe\u001b[0m\u001b[1;33m=\u001b[0m\u001b[0mdf\u001b[0m\u001b[1;33m)\u001b[0m\u001b[1;33m:\u001b[0m\u001b[1;33m\u001b[0m\u001b[1;33m\u001b[0m\u001b[0m\n\u001b[0m\u001b[0;32m      2\u001b[0m \u001b[1;33m\u001b[0m\u001b[0m\n\u001b[0;32m      3\u001b[0m     \u001b[1;31m# Directori correcte?\u001b[0m\u001b[1;33m\u001b[0m\u001b[1;33m\u001b[0m\u001b[1;33m\u001b[0m\u001b[0m\n\u001b[0;32m      4\u001b[0m     \u001b[1;32mif\u001b[0m \u001b[1;32mnot\u001b[0m \u001b[0mos\u001b[0m\u001b[1;33m.\u001b[0m\u001b[0mpath\u001b[0m\u001b[1;33m.\u001b[0m\u001b[0misdir\u001b[0m\u001b[1;33m(\u001b[0m\u001b[0mdir_data\u001b[0m\u001b[1;33m)\u001b[0m\u001b[1;33m:\u001b[0m\u001b[1;33m\u001b[0m\u001b[1;33m\u001b[0m\u001b[0m\n\u001b[0;32m      5\u001b[0m         \u001b[0mprint\u001b[0m\u001b[1;33m(\u001b[0m\u001b[0mdirectorio_datos\u001b[0m\u001b[1;33m,\u001b[0m\u001b[1;34m\"does not exist!!\"\u001b[0m\u001b[1;33m)\u001b[0m\u001b[1;33m\u001b[0m\u001b[1;33m\u001b[0m\u001b[0m\n",
      "\u001b[1;31mNameError\u001b[0m: name 'df' is not defined"
     ]
    }
   ],
   "source": [
    "def save_pickle(dir_data=DATASETS_PATH,pickle_file=datos_pickle,mydataframe=df):\n",
    "\n",
    "    # Directori correcte?\n",
    "    if not os.path.isdir(dir_data):\n",
    "        print(directorio_datos,\"does not exist!!\")\n",
    "        return print(\"Error!\")\n",
    "\n",
    "    # construixo on trobar fitxer\n",
    "    picklefile_path = os.path.join(dir_data, pickle_file)\n",
    "\n",
    "    # carrego dataframe al fitxer\n",
    "    mydataframe.to_pickle(picklefile_path)\n",
    "    return picklefile_path\n",
    "\n"
   ]
  },
  {
   "cell_type": "markdown",
   "id": "7bb4eb7a",
   "metadata": {},
   "source": [
    "**Funció load_pickle**\n",
    "\n",
    "\n",
    "Carrego el dataframe en formato __pickle__ que he desat a disc.\n",
    "\n",
    "Arguments:\n",
    "\n",
    "    - dir_data: directori on deso fitxers\n",
    "\n",
    "    - pickle_file: fitxer __pickle__ per carregar\n",
    "    \n",
    "Retorna dataframe\n"
   ]
  },
  {
   "cell_type": "code",
   "execution_count": 4,
   "id": "cea3c8e7",
   "metadata": {},
   "outputs": [],
   "source": [
    "def load_pickle(dir_data=DATASETS_PATH,pickle_file=datos_pickle):\n",
    "\n",
    "    # construixo on trobar fitxer\n",
    "    picklefile_path = os.path.join(dir_data, pickle_file)\n",
    "\n",
    "    # Directori correcte?\n",
    "    if not os.path.isfile(pickle_file):\n",
    "        print(picklefile_path,\"does not exist!!\")\n",
    "        return print(\"Error!\")    \n",
    "\n",
    "    # Devolvemos el pickle\n",
    "    return pd.read_pickle(picklefile_path)"
   ]
  },
  {
   "cell_type": "markdown",
   "id": "ab01e644",
   "metadata": {},
   "source": [
    "### Càrrega de dades\n",
    "\n",
    "Per cada mètrica (members, newmembers...) recullo les dades de totes les poblacions que formen la garrotxa, no he trobat grup local de la Garrotxa a què fa referència l'enunciat,  des de 1 gener de 2010.\n"
   ]
  },
  {
   "cell_type": "code",
   "execution_count": 5,
   "id": "9d737575",
   "metadata": {},
   "outputs": [],
   "source": [
    "# Construeixo parametres per consultar totes les ciutats de la Garrotxa\n",
    "params='/by/city/monthly/from/2010-01-01?'\n",
    "for c in cities:\n",
    "    params+='&city='+c"
   ]
  },
  {
   "cell_type": "code",
   "execution_count": 6,
   "id": "a6505ad5",
   "metadata": {},
   "outputs": [
    {
     "name": "stdout",
     "output_type": "stream",
     "text": [
      "fet response\n",
      "fet response\n",
      "fet response\n",
      "fet response\n",
      "fet response\n",
      "fet response\n",
      "fet response\n",
      "fet response\n",
      "fet response\n"
     ]
    }
   ],
   "source": [
    "# Per cada métrica, get dades aPI \n",
    "metrics_list = []\n",
    "for metric in metrics:\n",
    "    response = requests.get(ENDPOINT_SOMENERGIA + metric + params)\n",
    "    print(\"fet response\")\n",
    "    dades = yaml.safe_load(response.text)\n",
    "    metrics_list.append(dades['values'])"
   ]
  },
  {
   "cell_type": "markdown",
   "id": "dfae9a9c",
   "metadata": {},
   "source": [
    "### Arreglar dades\n"
   ]
  },
  {
   "cell_type": "markdown",
   "id": "2e38f8ae",
   "metadata": {},
   "source": [
    "Converteixo a dataframe per facilitar les tasques d'anàlisi de dades i visualització. També millora eficiència."
   ]
  },
  {
   "cell_type": "code",
   "execution_count": 7,
   "id": "681311e2",
   "metadata": {},
   "outputs": [
    {
     "data": {
      "text/html": [
       "<div>\n",
       "<style scoped>\n",
       "    .dataframe tbody tr th:only-of-type {\n",
       "        vertical-align: middle;\n",
       "    }\n",
       "\n",
       "    .dataframe tbody tr th {\n",
       "        vertical-align: top;\n",
       "    }\n",
       "\n",
       "    .dataframe thead th {\n",
       "        text-align: right;\n",
       "    }\n",
       "</style>\n",
       "<table border=\"1\" class=\"dataframe\">\n",
       "  <thead>\n",
       "    <tr style=\"text-align: right;\">\n",
       "      <th></th>\n",
       "      <th>members</th>\n",
       "      <th>newmembers</th>\n",
       "      <th>canceledmembers</th>\n",
       "      <th>contracts</th>\n",
       "      <th>newcontracts</th>\n",
       "      <th>canceledcontracts</th>\n",
       "      <th>selfconsumptioncontracts</th>\n",
       "      <th>newselfconsumptioncontracts</th>\n",
       "      <th>canceledselfconsumptioncontracts</th>\n",
       "    </tr>\n",
       "  </thead>\n",
       "  <tbody>\n",
       "    <tr>\n",
       "      <th>2010-01-01</th>\n",
       "      <td>0</td>\n",
       "      <td>0</td>\n",
       "      <td>0</td>\n",
       "      <td>0</td>\n",
       "      <td>0</td>\n",
       "      <td>0</td>\n",
       "      <td>0</td>\n",
       "      <td>0</td>\n",
       "      <td>0</td>\n",
       "    </tr>\n",
       "    <tr>\n",
       "      <th>2010-02-01</th>\n",
       "      <td>0</td>\n",
       "      <td>0</td>\n",
       "      <td>0</td>\n",
       "      <td>0</td>\n",
       "      <td>0</td>\n",
       "      <td>0</td>\n",
       "      <td>0</td>\n",
       "      <td>0</td>\n",
       "      <td>0</td>\n",
       "    </tr>\n",
       "    <tr>\n",
       "      <th>2010-03-01</th>\n",
       "      <td>0</td>\n",
       "      <td>0</td>\n",
       "      <td>0</td>\n",
       "      <td>0</td>\n",
       "      <td>0</td>\n",
       "      <td>0</td>\n",
       "      <td>0</td>\n",
       "      <td>0</td>\n",
       "      <td>0</td>\n",
       "    </tr>\n",
       "    <tr>\n",
       "      <th>2010-04-01</th>\n",
       "      <td>0</td>\n",
       "      <td>0</td>\n",
       "      <td>0</td>\n",
       "      <td>0</td>\n",
       "      <td>0</td>\n",
       "      <td>0</td>\n",
       "      <td>0</td>\n",
       "      <td>0</td>\n",
       "      <td>0</td>\n",
       "    </tr>\n",
       "    <tr>\n",
       "      <th>2010-05-01</th>\n",
       "      <td>0</td>\n",
       "      <td>0</td>\n",
       "      <td>0</td>\n",
       "      <td>0</td>\n",
       "      <td>0</td>\n",
       "      <td>0</td>\n",
       "      <td>0</td>\n",
       "      <td>0</td>\n",
       "      <td>0</td>\n",
       "    </tr>\n",
       "    <tr>\n",
       "      <th>...</th>\n",
       "      <td>...</td>\n",
       "      <td>...</td>\n",
       "      <td>...</td>\n",
       "      <td>...</td>\n",
       "      <td>...</td>\n",
       "      <td>...</td>\n",
       "      <td>...</td>\n",
       "      <td>...</td>\n",
       "      <td>...</td>\n",
       "    </tr>\n",
       "    <tr>\n",
       "      <th>2021-04-01</th>\n",
       "      <td>366</td>\n",
       "      <td>5</td>\n",
       "      <td>1</td>\n",
       "      <td>561</td>\n",
       "      <td>14</td>\n",
       "      <td>7</td>\n",
       "      <td>31</td>\n",
       "      <td>1</td>\n",
       "      <td>0</td>\n",
       "    </tr>\n",
       "    <tr>\n",
       "      <th>2021-05-01</th>\n",
       "      <td>371</td>\n",
       "      <td>5</td>\n",
       "      <td>0</td>\n",
       "      <td>571</td>\n",
       "      <td>11</td>\n",
       "      <td>1</td>\n",
       "      <td>31</td>\n",
       "      <td>0</td>\n",
       "      <td>0</td>\n",
       "    </tr>\n",
       "    <tr>\n",
       "      <th>2021-06-01</th>\n",
       "      <td>374</td>\n",
       "      <td>3</td>\n",
       "      <td>0</td>\n",
       "      <td>576</td>\n",
       "      <td>8</td>\n",
       "      <td>3</td>\n",
       "      <td>31</td>\n",
       "      <td>0</td>\n",
       "      <td>0</td>\n",
       "    </tr>\n",
       "    <tr>\n",
       "      <th>2021-07-01</th>\n",
       "      <td>377</td>\n",
       "      <td>3</td>\n",
       "      <td>0</td>\n",
       "      <td>581</td>\n",
       "      <td>13</td>\n",
       "      <td>8</td>\n",
       "      <td>32</td>\n",
       "      <td>1</td>\n",
       "      <td>0</td>\n",
       "    </tr>\n",
       "    <tr>\n",
       "      <th>2021-08-01</th>\n",
       "      <td>377</td>\n",
       "      <td>0</td>\n",
       "      <td>0</td>\n",
       "      <td>581</td>\n",
       "      <td>2</td>\n",
       "      <td>2</td>\n",
       "      <td>36</td>\n",
       "      <td>4</td>\n",
       "      <td>0</td>\n",
       "    </tr>\n",
       "  </tbody>\n",
       "</table>\n",
       "<p>140 rows × 9 columns</p>\n",
       "</div>"
      ],
      "text/plain": [
       "            members  newmembers  canceledmembers  contracts  newcontracts  \\\n",
       "2010-01-01        0           0                0          0             0   \n",
       "2010-02-01        0           0                0          0             0   \n",
       "2010-03-01        0           0                0          0             0   \n",
       "2010-04-01        0           0                0          0             0   \n",
       "2010-05-01        0           0                0          0             0   \n",
       "...             ...         ...              ...        ...           ...   \n",
       "2021-04-01      366           5                1        561            14   \n",
       "2021-05-01      371           5                0        571            11   \n",
       "2021-06-01      374           3                0        576             8   \n",
       "2021-07-01      377           3                0        581            13   \n",
       "2021-08-01      377           0                0        581             2   \n",
       "\n",
       "            canceledcontracts  selfconsumptioncontracts  \\\n",
       "2010-01-01                  0                         0   \n",
       "2010-02-01                  0                         0   \n",
       "2010-03-01                  0                         0   \n",
       "2010-04-01                  0                         0   \n",
       "2010-05-01                  0                         0   \n",
       "...                       ...                       ...   \n",
       "2021-04-01                  7                        31   \n",
       "2021-05-01                  1                        31   \n",
       "2021-06-01                  3                        31   \n",
       "2021-07-01                  8                        32   \n",
       "2021-08-01                  2                        36   \n",
       "\n",
       "            newselfconsumptioncontracts  canceledselfconsumptioncontracts  \n",
       "2010-01-01                            0                                 0  \n",
       "2010-02-01                            0                                 0  \n",
       "2010-03-01                            0                                 0  \n",
       "2010-04-01                            0                                 0  \n",
       "2010-05-01                            0                                 0  \n",
       "...                                 ...                               ...  \n",
       "2021-04-01                            1                                 0  \n",
       "2021-05-01                            0                                 0  \n",
       "2021-06-01                            0                                 0  \n",
       "2021-07-01                            1                                 0  \n",
       "2021-08-01                            4                                 0  \n",
       "\n",
       "[140 rows x 9 columns]"
      ]
     },
     "execution_count": 7,
     "metadata": {},
     "output_type": "execute_result"
    }
   ],
   "source": [
    "dates=dades['dates']\n",
    "df = pd.DataFrame(list(zip(metrics_list[0],metrics_list[1],metrics_list[2],metrics_list[3],metrics_list[4],metrics_list[5],metrics_list[6],metrics_list[7],metrics_list[8])),index=dates, \n",
    "           columns =[\"members\", \"newmembers\", \"canceledmembers\", \"contracts\", \"newcontracts\", \"canceledcontracts\", \"selfconsumptioncontracts\",\n",
    "            \"newselfconsumptioncontracts\", \"canceledselfconsumptioncontracts\"])\n",
    "df"
   ]
  },
  {
   "cell_type": "markdown",
   "id": "f432e90a",
   "metadata": {},
   "source": [
    "### Guardo el dataframe en _pickle_\n",
    "\n",
    "Ara que ja tinc el conjunt de dades sobre el que vull treballa m'ho guardo en un fitxer.\n"
   ]
  },
  {
   "cell_type": "code",
   "execution_count": 8,
   "id": "9436bc98",
   "metadata": {},
   "outputs": [
    {
     "ename": "NameError",
     "evalue": "name 'save_pickle' is not defined",
     "output_type": "error",
     "traceback": [
      "\u001b[1;31m---------------------------------------------------------------------------\u001b[0m",
      "\u001b[1;31mNameError\u001b[0m                                 Traceback (most recent call last)",
      "\u001b[1;32m<ipython-input-8-5e68f114c3ed>\u001b[0m in \u001b[0;36m<module>\u001b[1;34m\u001b[0m\n\u001b[1;32m----> 1\u001b[1;33m \u001b[0msave_pickle\u001b[0m\u001b[1;33m(\u001b[0m\u001b[1;33m)\u001b[0m\u001b[1;33m\u001b[0m\u001b[1;33m\u001b[0m\u001b[0m\n\u001b[0m",
      "\u001b[1;31mNameError\u001b[0m: name 'save_pickle' is not defined"
     ]
    }
   ],
   "source": [
    "save_pickle()"
   ]
  },
  {
   "cell_type": "code",
   "execution_count": null,
   "id": "295c1f59",
   "metadata": {},
   "outputs": [],
   "source": [
    "df\n"
   ]
  },
  {
   "cell_type": "markdown",
   "id": "f94fc0a2",
   "metadata": {},
   "source": [
    "### Carrego el  _pickle_ al meu dataframe\n",
    "\n",
    "Com he estat eliminat NaN, nulls i trastejant el dataframe i penso que pot estar malmès, torno a carregar les dades originals.\n",
    "\n"
   ]
  },
  {
   "cell_type": "code",
   "execution_count": 100,
   "id": "4b6147ca",
   "metadata": {
    "scrolled": true
   },
   "outputs": [
    {
     "data": {
      "text/html": [
       "<div>\n",
       "<style scoped>\n",
       "    .dataframe tbody tr th:only-of-type {\n",
       "        vertical-align: middle;\n",
       "    }\n",
       "\n",
       "    .dataframe tbody tr th {\n",
       "        vertical-align: top;\n",
       "    }\n",
       "\n",
       "    .dataframe thead th {\n",
       "        text-align: right;\n",
       "    }\n",
       "</style>\n",
       "<table border=\"1\" class=\"dataframe\">\n",
       "  <thead>\n",
       "    <tr style=\"text-align: right;\">\n",
       "      <th></th>\n",
       "      <th>members</th>\n",
       "      <th>newmembers</th>\n",
       "      <th>canceledmembers</th>\n",
       "      <th>contracts</th>\n",
       "      <th>newcontracts</th>\n",
       "      <th>canceledcontracts</th>\n",
       "      <th>selfconsumptioncontracts</th>\n",
       "      <th>newselfconsumptioncontracts</th>\n",
       "      <th>canceledselfconsumptioncontracts</th>\n",
       "    </tr>\n",
       "  </thead>\n",
       "  <tbody>\n",
       "    <tr>\n",
       "      <th>2010-01-01</th>\n",
       "      <td>0</td>\n",
       "      <td>0</td>\n",
       "      <td>0</td>\n",
       "      <td>0</td>\n",
       "      <td>0</td>\n",
       "      <td>0</td>\n",
       "      <td>0</td>\n",
       "      <td>0</td>\n",
       "      <td>0</td>\n",
       "    </tr>\n",
       "    <tr>\n",
       "      <th>2010-02-01</th>\n",
       "      <td>0</td>\n",
       "      <td>0</td>\n",
       "      <td>0</td>\n",
       "      <td>0</td>\n",
       "      <td>0</td>\n",
       "      <td>0</td>\n",
       "      <td>0</td>\n",
       "      <td>0</td>\n",
       "      <td>0</td>\n",
       "    </tr>\n",
       "    <tr>\n",
       "      <th>2010-03-01</th>\n",
       "      <td>0</td>\n",
       "      <td>0</td>\n",
       "      <td>0</td>\n",
       "      <td>0</td>\n",
       "      <td>0</td>\n",
       "      <td>0</td>\n",
       "      <td>0</td>\n",
       "      <td>0</td>\n",
       "      <td>0</td>\n",
       "    </tr>\n",
       "    <tr>\n",
       "      <th>2010-04-01</th>\n",
       "      <td>0</td>\n",
       "      <td>0</td>\n",
       "      <td>0</td>\n",
       "      <td>0</td>\n",
       "      <td>0</td>\n",
       "      <td>0</td>\n",
       "      <td>0</td>\n",
       "      <td>0</td>\n",
       "      <td>0</td>\n",
       "    </tr>\n",
       "    <tr>\n",
       "      <th>2010-05-01</th>\n",
       "      <td>0</td>\n",
       "      <td>0</td>\n",
       "      <td>0</td>\n",
       "      <td>0</td>\n",
       "      <td>0</td>\n",
       "      <td>0</td>\n",
       "      <td>0</td>\n",
       "      <td>0</td>\n",
       "      <td>0</td>\n",
       "    </tr>\n",
       "    <tr>\n",
       "      <th>...</th>\n",
       "      <td>...</td>\n",
       "      <td>...</td>\n",
       "      <td>...</td>\n",
       "      <td>...</td>\n",
       "      <td>...</td>\n",
       "      <td>...</td>\n",
       "      <td>...</td>\n",
       "      <td>...</td>\n",
       "      <td>...</td>\n",
       "    </tr>\n",
       "    <tr>\n",
       "      <th>2021-03-01</th>\n",
       "      <td>362</td>\n",
       "      <td>7</td>\n",
       "      <td>0</td>\n",
       "      <td>553</td>\n",
       "      <td>10</td>\n",
       "      <td>2</td>\n",
       "      <td>30</td>\n",
       "      <td>3</td>\n",
       "      <td>0</td>\n",
       "    </tr>\n",
       "    <tr>\n",
       "      <th>2021-04-01</th>\n",
       "      <td>366</td>\n",
       "      <td>5</td>\n",
       "      <td>1</td>\n",
       "      <td>561</td>\n",
       "      <td>14</td>\n",
       "      <td>7</td>\n",
       "      <td>31</td>\n",
       "      <td>1</td>\n",
       "      <td>0</td>\n",
       "    </tr>\n",
       "    <tr>\n",
       "      <th>2021-05-01</th>\n",
       "      <td>371</td>\n",
       "      <td>5</td>\n",
       "      <td>0</td>\n",
       "      <td>571</td>\n",
       "      <td>11</td>\n",
       "      <td>1</td>\n",
       "      <td>31</td>\n",
       "      <td>0</td>\n",
       "      <td>0</td>\n",
       "    </tr>\n",
       "    <tr>\n",
       "      <th>2021-06-01</th>\n",
       "      <td>374</td>\n",
       "      <td>3</td>\n",
       "      <td>0</td>\n",
       "      <td>576</td>\n",
       "      <td>8</td>\n",
       "      <td>3</td>\n",
       "      <td>31</td>\n",
       "      <td>0</td>\n",
       "      <td>0</td>\n",
       "    </tr>\n",
       "    <tr>\n",
       "      <th>2021-07-01</th>\n",
       "      <td>377</td>\n",
       "      <td>3</td>\n",
       "      <td>0</td>\n",
       "      <td>581</td>\n",
       "      <td>13</td>\n",
       "      <td>8</td>\n",
       "      <td>32</td>\n",
       "      <td>1</td>\n",
       "      <td>0</td>\n",
       "    </tr>\n",
       "  </tbody>\n",
       "</table>\n",
       "<p>139 rows × 9 columns</p>\n",
       "</div>"
      ],
      "text/plain": [
       "            members  newmembers  canceledmembers  contracts  newcontracts  \\\n",
       "2010-01-01        0           0                0          0             0   \n",
       "2010-02-01        0           0                0          0             0   \n",
       "2010-03-01        0           0                0          0             0   \n",
       "2010-04-01        0           0                0          0             0   \n",
       "2010-05-01        0           0                0          0             0   \n",
       "...             ...         ...              ...        ...           ...   \n",
       "2021-03-01      362           7                0        553            10   \n",
       "2021-04-01      366           5                1        561            14   \n",
       "2021-05-01      371           5                0        571            11   \n",
       "2021-06-01      374           3                0        576             8   \n",
       "2021-07-01      377           3                0        581            13   \n",
       "\n",
       "            canceledcontracts  selfconsumptioncontracts  \\\n",
       "2010-01-01                  0                         0   \n",
       "2010-02-01                  0                         0   \n",
       "2010-03-01                  0                         0   \n",
       "2010-04-01                  0                         0   \n",
       "2010-05-01                  0                         0   \n",
       "...                       ...                       ...   \n",
       "2021-03-01                  2                        30   \n",
       "2021-04-01                  7                        31   \n",
       "2021-05-01                  1                        31   \n",
       "2021-06-01                  3                        31   \n",
       "2021-07-01                  8                        32   \n",
       "\n",
       "            newselfconsumptioncontracts  canceledselfconsumptioncontracts  \n",
       "2010-01-01                            0                                 0  \n",
       "2010-02-01                            0                                 0  \n",
       "2010-03-01                            0                                 0  \n",
       "2010-04-01                            0                                 0  \n",
       "2010-05-01                            0                                 0  \n",
       "...                                 ...                               ...  \n",
       "2021-03-01                            3                                 0  \n",
       "2021-04-01                            1                                 0  \n",
       "2021-05-01                            0                                 0  \n",
       "2021-06-01                            0                                 0  \n",
       "2021-07-01                            1                                 0  \n",
       "\n",
       "[139 rows x 9 columns]"
      ]
     },
     "execution_count": 100,
     "metadata": {},
     "output_type": "execute_result"
    }
   ],
   "source": [
    "df = load_pickle()\n",
    "df"
   ]
  },
  {
   "cell_type": "markdown",
   "id": "34494ef6",
   "metadata": {},
   "source": [
    "## EDA\n",
    "\n",
    "### Descripció de dades\n",
    "Començo a analitzar les dades que acabo d'obtenir.\n"
   ]
  },
  {
   "cell_type": "code",
   "execution_count": null,
   "id": "4d0af1f3",
   "metadata": {},
   "outputs": [],
   "source": [
    "df.tail(5)"
   ]
  },
  {
   "cell_type": "markdown",
   "id": "87683f3f",
   "metadata": {},
   "source": [
    "A simple vista sense fer massa exploració de les dades, es veu alguna cosa extranya:\n",
    "\n",
    "\n",
    "fila 136: 371 membres, afegeix 5, cap baixa i el següent valor\n",
    "\n",
    "\n",
    "fila 137: 374?!"
   ]
  },
  {
   "cell_type": "markdown",
   "id": "d4122957",
   "metadata": {},
   "source": [
    "Mirem si ha valors nulls:"
   ]
  },
  {
   "cell_type": "code",
   "execution_count": 9,
   "id": "12566fe6",
   "metadata": {
    "scrolled": true
   },
   "outputs": [
    {
     "data": {
      "text/plain": [
       "members                             0\n",
       "newmembers                          0\n",
       "canceledmembers                     0\n",
       "contracts                           0\n",
       "newcontracts                        0\n",
       "canceledcontracts                   0\n",
       "selfconsumptioncontracts            0\n",
       "newselfconsumptioncontracts         0\n",
       "canceledselfconsumptioncontracts    0\n",
       "dtype: int64"
      ]
     },
     "execution_count": 9,
     "metadata": {},
     "output_type": "execute_result"
    }
   ],
   "source": [
    "df.isnull().sum()"
   ]
  },
  {
   "cell_type": "code",
   "execution_count": 10,
   "id": "31be325b",
   "metadata": {},
   "outputs": [
    {
     "name": "stdout",
     "output_type": "stream",
     "text": [
      "<class 'pandas.core.frame.DataFrame'>\n",
      "Index: 140 entries, 2010-01-01 to 2021-08-01\n",
      "Data columns (total 9 columns):\n",
      " #   Column                            Non-Null Count  Dtype\n",
      "---  ------                            --------------  -----\n",
      " 0   members                           140 non-null    int64\n",
      " 1   newmembers                        140 non-null    int64\n",
      " 2   canceledmembers                   140 non-null    int64\n",
      " 3   contracts                         140 non-null    int64\n",
      " 4   newcontracts                      140 non-null    int64\n",
      " 5   canceledcontracts                 140 non-null    int64\n",
      " 6   selfconsumptioncontracts          140 non-null    int64\n",
      " 7   newselfconsumptioncontracts       140 non-null    int64\n",
      " 8   canceledselfconsumptioncontracts  140 non-null    int64\n",
      "dtypes: int64(9)\n",
      "memory usage: 10.9+ KB\n"
     ]
    }
   ],
   "source": [
    "df.info()"
   ]
  },
  {
   "cell_type": "markdown",
   "id": "747023b0",
   "metadata": {},
   "source": [
    "Els valors semblen correctes, hi ha el mateix número de files en totes les columnes.\n",
    "\n",
    "Ara mirarem les principals variables estadístiques:\n",
    "\n"
   ]
  },
  {
   "cell_type": "code",
   "execution_count": 101,
   "id": "76780646",
   "metadata": {},
   "outputs": [
    {
     "data": {
      "text/html": [
       "<div>\n",
       "<style scoped>\n",
       "    .dataframe tbody tr th:only-of-type {\n",
       "        vertical-align: middle;\n",
       "    }\n",
       "\n",
       "    .dataframe tbody tr th {\n",
       "        vertical-align: top;\n",
       "    }\n",
       "\n",
       "    .dataframe thead th {\n",
       "        text-align: right;\n",
       "    }\n",
       "</style>\n",
       "<table border=\"1\" class=\"dataframe\">\n",
       "  <thead>\n",
       "    <tr style=\"text-align: right;\">\n",
       "      <th></th>\n",
       "      <th>members</th>\n",
       "      <th>newmembers</th>\n",
       "      <th>canceledmembers</th>\n",
       "      <th>contracts</th>\n",
       "      <th>newcontracts</th>\n",
       "      <th>canceledcontracts</th>\n",
       "      <th>selfconsumptioncontracts</th>\n",
       "      <th>newselfconsumptioncontracts</th>\n",
       "      <th>canceledselfconsumptioncontracts</th>\n",
       "    </tr>\n",
       "  </thead>\n",
       "  <tbody>\n",
       "    <tr>\n",
       "      <th>count</th>\n",
       "      <td>139.00</td>\n",
       "      <td>139.00</td>\n",
       "      <td>139.00</td>\n",
       "      <td>139.00</td>\n",
       "      <td>139.00</td>\n",
       "      <td>139.00</td>\n",
       "      <td>139.00</td>\n",
       "      <td>139.00</td>\n",
       "      <td>139.00</td>\n",
       "    </tr>\n",
       "    <tr>\n",
       "      <th>mean</th>\n",
       "      <td>139.83</td>\n",
       "      <td>2.77</td>\n",
       "      <td>0.06</td>\n",
       "      <td>173.37</td>\n",
       "      <td>5.28</td>\n",
       "      <td>1.13</td>\n",
       "      <td>2.79</td>\n",
       "      <td>0.24</td>\n",
       "      <td>0.01</td>\n",
       "    </tr>\n",
       "    <tr>\n",
       "      <th>std</th>\n",
       "      <td>113.04</td>\n",
       "      <td>2.41</td>\n",
       "      <td>0.23</td>\n",
       "      <td>182.59</td>\n",
       "      <td>5.46</td>\n",
       "      <td>1.85</td>\n",
       "      <td>7.57</td>\n",
       "      <td>0.72</td>\n",
       "      <td>0.08</td>\n",
       "    </tr>\n",
       "    <tr>\n",
       "      <th>min</th>\n",
       "      <td>0.00</td>\n",
       "      <td>0.00</td>\n",
       "      <td>0.00</td>\n",
       "      <td>0.00</td>\n",
       "      <td>0.00</td>\n",
       "      <td>0.00</td>\n",
       "      <td>0.00</td>\n",
       "      <td>0.00</td>\n",
       "      <td>0.00</td>\n",
       "    </tr>\n",
       "    <tr>\n",
       "      <th>25%</th>\n",
       "      <td>40.00</td>\n",
       "      <td>1.00</td>\n",
       "      <td>0.00</td>\n",
       "      <td>14.50</td>\n",
       "      <td>1.00</td>\n",
       "      <td>0.00</td>\n",
       "      <td>0.00</td>\n",
       "      <td>0.00</td>\n",
       "      <td>0.00</td>\n",
       "    </tr>\n",
       "    <tr>\n",
       "      <th>50%</th>\n",
       "      <td>107.00</td>\n",
       "      <td>2.00</td>\n",
       "      <td>0.00</td>\n",
       "      <td>95.00</td>\n",
       "      <td>4.00</td>\n",
       "      <td>0.00</td>\n",
       "      <td>0.00</td>\n",
       "      <td>0.00</td>\n",
       "      <td>0.00</td>\n",
       "    </tr>\n",
       "    <tr>\n",
       "      <th>75%</th>\n",
       "      <td>227.50</td>\n",
       "      <td>4.00</td>\n",
       "      <td>0.00</td>\n",
       "      <td>298.50</td>\n",
       "      <td>9.00</td>\n",
       "      <td>1.50</td>\n",
       "      <td>0.50</td>\n",
       "      <td>0.00</td>\n",
       "      <td>0.00</td>\n",
       "    </tr>\n",
       "    <tr>\n",
       "      <th>max</th>\n",
       "      <td>377.00</td>\n",
       "      <td>10.00</td>\n",
       "      <td>1.00</td>\n",
       "      <td>581.00</td>\n",
       "      <td>21.00</td>\n",
       "      <td>8.00</td>\n",
       "      <td>32.00</td>\n",
       "      <td>4.00</td>\n",
       "      <td>1.00</td>\n",
       "    </tr>\n",
       "  </tbody>\n",
       "</table>\n",
       "</div>"
      ],
      "text/plain": [
       "       members  newmembers  canceledmembers  contracts  newcontracts  \\\n",
       "count   139.00      139.00           139.00     139.00        139.00   \n",
       "mean    139.83        2.77             0.06     173.37          5.28   \n",
       "std     113.04        2.41             0.23     182.59          5.46   \n",
       "min       0.00        0.00             0.00       0.00          0.00   \n",
       "25%      40.00        1.00             0.00      14.50          1.00   \n",
       "50%     107.00        2.00             0.00      95.00          4.00   \n",
       "75%     227.50        4.00             0.00     298.50          9.00   \n",
       "max     377.00       10.00             1.00     581.00         21.00   \n",
       "\n",
       "       canceledcontracts  selfconsumptioncontracts  \\\n",
       "count             139.00                    139.00   \n",
       "mean                1.13                      2.79   \n",
       "std                 1.85                      7.57   \n",
       "min                 0.00                      0.00   \n",
       "25%                 0.00                      0.00   \n",
       "50%                 0.00                      0.00   \n",
       "75%                 1.50                      0.50   \n",
       "max                 8.00                     32.00   \n",
       "\n",
       "       newselfconsumptioncontracts  canceledselfconsumptioncontracts  \n",
       "count                       139.00                            139.00  \n",
       "mean                          0.24                              0.01  \n",
       "std                           0.72                              0.08  \n",
       "min                           0.00                              0.00  \n",
       "25%                           0.00                              0.00  \n",
       "50%                           0.00                              0.00  \n",
       "75%                           0.00                              0.00  \n",
       "max                           4.00                              1.00  "
      ]
     },
     "execution_count": 101,
     "metadata": {},
     "output_type": "execute_result"
    }
   ],
   "source": [
    "from IPython.display import display\n",
    "pd.options.display.float_format = '{:,.2f}'.format\n",
    "\n",
    "\n",
    "df.describe()\n"
   ]
  },
  {
   "cell_type": "markdown",
   "id": "4d59b763",
   "metadata": {},
   "source": [
    "### Anàlisi de dades\n",
    "\n",
    "Farem servir el mòdul _ProfileReport_  de la llibreria _pandas_profiling_ per a generar un fitxer amb la descripció de les dades del dataframe."
   ]
  },
  {
   "cell_type": "code",
   "execution_count": 18,
   "id": "0ccf1c4b",
   "metadata": {},
   "outputs": [
    {
     "data": {
      "application/vnd.jupyter.widget-view+json": {
       "model_id": "77638035fe8e44b2b3e4b8f12a41b81c",
       "version_major": 2,
       "version_minor": 0
      },
      "text/plain": [
       "Summarize dataset:   0%|          | 0/23 [00:00<?, ?it/s]"
      ]
     },
     "metadata": {},
     "output_type": "display_data"
    },
    {
     "data": {
      "application/vnd.jupyter.widget-view+json": {
       "model_id": "2e984796718e4d668aee82f71aa6afd1",
       "version_major": 2,
       "version_minor": 0
      },
      "text/plain": [
       "Generate report structure:   0%|          | 0/1 [00:00<?, ?it/s]"
      ]
     },
     "metadata": {},
     "output_type": "display_data"
    },
    {
     "data": {
      "application/vnd.jupyter.widget-view+json": {
       "model_id": "2ec54a8f2d0646c590cd7bf650348fbe",
       "version_major": 2,
       "version_minor": 0
      },
      "text/plain": [
       "Render HTML:   0%|          | 0/1 [00:00<?, ?it/s]"
      ]
     },
     "metadata": {},
     "output_type": "display_data"
    },
    {
     "data": {
      "application/vnd.jupyter.widget-view+json": {
       "model_id": "46ed29daf81646e3b563005e6f32d43b",
       "version_major": 2,
       "version_minor": 0
      },
      "text/plain": [
       "Export report to file:   0%|          | 0/1 [00:00<?, ?it/s]"
      ]
     },
     "metadata": {},
     "output_type": "display_data"
    }
   ],
   "source": [
    "from pandas_profiling import ProfileReport\n",
    "\n",
    "fichero_profile = \"reportprofile.html\"\n",
    "\n",
    "profile = ProfileReport(df, title=\"Profile\")\n",
    "profile.to_file(fichero_profile)"
   ]
  },
  {
   "cell_type": "markdown",
   "id": "cd783775",
   "metadata": {},
   "source": [
    "**[Acces al fitxer creat per pandas_profile](./reportprofile.html)**"
   ]
  },
  {
   "cell_type": "markdown",
   "id": "19dd4a08",
   "metadata": {},
   "source": [
    "**Funció veure porcentatge canvis**\n",
    "\n",
    "Para ver la variación màxima i mínima utilizamos la funcion __pct_change()__ de la libreria pandas.\n",
    "\n",
    "Pandas dataframe.pct_change() calcula el porcentatge de canvi entre l'element actual i l'anterior, per defecte és entre la fila actual i l'anterior.\n"
   ]
  },
  {
   "cell_type": "code",
   "execution_count": 19,
   "id": "e7c168aa",
   "metadata": {
    "scrolled": false
   },
   "outputs": [
    {
     "data": {
      "text/html": [
       "<div>\n",
       "<style scoped>\n",
       "    .dataframe tbody tr th:only-of-type {\n",
       "        vertical-align: middle;\n",
       "    }\n",
       "\n",
       "    .dataframe tbody tr th {\n",
       "        vertical-align: top;\n",
       "    }\n",
       "\n",
       "    .dataframe thead th {\n",
       "        text-align: right;\n",
       "    }\n",
       "</style>\n",
       "<table border=\"1\" class=\"dataframe\">\n",
       "  <thead>\n",
       "    <tr style=\"text-align: right;\">\n",
       "      <th></th>\n",
       "      <th>members</th>\n",
       "      <th>newmembers</th>\n",
       "      <th>canceledmembers</th>\n",
       "      <th>contracts</th>\n",
       "      <th>newcontracts</th>\n",
       "      <th>canceledcontracts</th>\n",
       "      <th>selfconsumptioncontracts</th>\n",
       "      <th>newselfconsumptioncontracts</th>\n",
       "      <th>canceledselfconsumptioncontracts</th>\n",
       "    </tr>\n",
       "  </thead>\n",
       "  <tbody>\n",
       "    <tr>\n",
       "      <th>2020-10-01</th>\n",
       "      <td>0.01</td>\n",
       "      <td>0.25</td>\n",
       "      <td>inf</td>\n",
       "      <td>0.01</td>\n",
       "      <td>0.29</td>\n",
       "      <td>-0.25</td>\n",
       "      <td>0.06</td>\n",
       "      <td>0.00</td>\n",
       "      <td>NaN</td>\n",
       "    </tr>\n",
       "    <tr>\n",
       "      <th>2020-11-01</th>\n",
       "      <td>0.01</td>\n",
       "      <td>-0.60</td>\n",
       "      <td>-1.00</td>\n",
       "      <td>0.02</td>\n",
       "      <td>0.00</td>\n",
       "      <td>-0.67</td>\n",
       "      <td>0.16</td>\n",
       "      <td>2.00</td>\n",
       "      <td>NaN</td>\n",
       "    </tr>\n",
       "    <tr>\n",
       "      <th>2020-12-01</th>\n",
       "      <td>0.01</td>\n",
       "      <td>1.50</td>\n",
       "      <td>NaN</td>\n",
       "      <td>0.02</td>\n",
       "      <td>0.44</td>\n",
       "      <td>3.00</td>\n",
       "      <td>0.14</td>\n",
       "      <td>0.00</td>\n",
       "      <td>NaN</td>\n",
       "    </tr>\n",
       "    <tr>\n",
       "      <th>2021-01-01</th>\n",
       "      <td>0.01</td>\n",
       "      <td>-0.20</td>\n",
       "      <td>NaN</td>\n",
       "      <td>0.01</td>\n",
       "      <td>-0.23</td>\n",
       "      <td>0.50</td>\n",
       "      <td>0.00</td>\n",
       "      <td>-0.67</td>\n",
       "      <td>inf</td>\n",
       "    </tr>\n",
       "    <tr>\n",
       "      <th>2021-02-01</th>\n",
       "      <td>0.02</td>\n",
       "      <td>0.75</td>\n",
       "      <td>inf</td>\n",
       "      <td>0.03</td>\n",
       "      <td>1.10</td>\n",
       "      <td>0.17</td>\n",
       "      <td>0.08</td>\n",
       "      <td>1.00</td>\n",
       "      <td>-1.00</td>\n",
       "    </tr>\n",
       "    <tr>\n",
       "      <th>2021-03-01</th>\n",
       "      <td>0.02</td>\n",
       "      <td>0.00</td>\n",
       "      <td>-1.00</td>\n",
       "      <td>0.01</td>\n",
       "      <td>-0.52</td>\n",
       "      <td>-0.71</td>\n",
       "      <td>0.11</td>\n",
       "      <td>0.50</td>\n",
       "      <td>NaN</td>\n",
       "    </tr>\n",
       "    <tr>\n",
       "      <th>2021-04-01</th>\n",
       "      <td>0.01</td>\n",
       "      <td>-0.29</td>\n",
       "      <td>inf</td>\n",
       "      <td>0.01</td>\n",
       "      <td>0.40</td>\n",
       "      <td>2.50</td>\n",
       "      <td>0.03</td>\n",
       "      <td>-0.67</td>\n",
       "      <td>NaN</td>\n",
       "    </tr>\n",
       "    <tr>\n",
       "      <th>2021-05-01</th>\n",
       "      <td>0.01</td>\n",
       "      <td>0.00</td>\n",
       "      <td>-1.00</td>\n",
       "      <td>0.02</td>\n",
       "      <td>-0.21</td>\n",
       "      <td>-0.86</td>\n",
       "      <td>0.00</td>\n",
       "      <td>-1.00</td>\n",
       "      <td>NaN</td>\n",
       "    </tr>\n",
       "    <tr>\n",
       "      <th>2021-06-01</th>\n",
       "      <td>0.01</td>\n",
       "      <td>-0.40</td>\n",
       "      <td>NaN</td>\n",
       "      <td>0.01</td>\n",
       "      <td>-0.27</td>\n",
       "      <td>2.00</td>\n",
       "      <td>0.00</td>\n",
       "      <td>NaN</td>\n",
       "      <td>NaN</td>\n",
       "    </tr>\n",
       "    <tr>\n",
       "      <th>2021-07-01</th>\n",
       "      <td>0.01</td>\n",
       "      <td>0.00</td>\n",
       "      <td>NaN</td>\n",
       "      <td>0.01</td>\n",
       "      <td>0.62</td>\n",
       "      <td>1.67</td>\n",
       "      <td>0.03</td>\n",
       "      <td>inf</td>\n",
       "      <td>NaN</td>\n",
       "    </tr>\n",
       "  </tbody>\n",
       "</table>\n",
       "</div>"
      ],
      "text/plain": [
       "            members  newmembers  canceledmembers  contracts  newcontracts  \\\n",
       "2020-10-01     0.01        0.25              inf       0.01          0.29   \n",
       "2020-11-01     0.01       -0.60            -1.00       0.02          0.00   \n",
       "2020-12-01     0.01        1.50              NaN       0.02          0.44   \n",
       "2021-01-01     0.01       -0.20              NaN       0.01         -0.23   \n",
       "2021-02-01     0.02        0.75              inf       0.03          1.10   \n",
       "2021-03-01     0.02        0.00            -1.00       0.01         -0.52   \n",
       "2021-04-01     0.01       -0.29              inf       0.01          0.40   \n",
       "2021-05-01     0.01        0.00            -1.00       0.02         -0.21   \n",
       "2021-06-01     0.01       -0.40              NaN       0.01         -0.27   \n",
       "2021-07-01     0.01        0.00              NaN       0.01          0.62   \n",
       "\n",
       "            canceledcontracts  selfconsumptioncontracts  \\\n",
       "2020-10-01              -0.25                      0.06   \n",
       "2020-11-01              -0.67                      0.16   \n",
       "2020-12-01               3.00                      0.14   \n",
       "2021-01-01               0.50                      0.00   \n",
       "2021-02-01               0.17                      0.08   \n",
       "2021-03-01              -0.71                      0.11   \n",
       "2021-04-01               2.50                      0.03   \n",
       "2021-05-01              -0.86                      0.00   \n",
       "2021-06-01               2.00                      0.00   \n",
       "2021-07-01               1.67                      0.03   \n",
       "\n",
       "            newselfconsumptioncontracts  canceledselfconsumptioncontracts  \n",
       "2020-10-01                         0.00                               NaN  \n",
       "2020-11-01                         2.00                               NaN  \n",
       "2020-12-01                         0.00                               NaN  \n",
       "2021-01-01                        -0.67                               inf  \n",
       "2021-02-01                         1.00                             -1.00  \n",
       "2021-03-01                         0.50                               NaN  \n",
       "2021-04-01                        -0.67                               NaN  \n",
       "2021-05-01                        -1.00                               NaN  \n",
       "2021-06-01                          NaN                               NaN  \n",
       "2021-07-01                          inf                               NaN  "
      ]
     },
     "execution_count": 19,
     "metadata": {},
     "output_type": "execute_result"
    }
   ],
   "source": [
    "df_variacions = df.pct_change(fill_method ='bfill')\n",
    "df_variacions.tail(10)"
   ]
  },
  {
   "cell_type": "markdown",
   "id": "33a13c72",
   "metadata": {},
   "source": [
    "\n",
    "\n",
    "Revisem estadístics bàsics que ens ajudin a fer-nos una idea de la variació de dades.\n"
   ]
  },
  {
   "cell_type": "code",
   "execution_count": 20,
   "id": "879ad27c",
   "metadata": {
    "scrolled": false
   },
   "outputs": [
    {
     "name": "stderr",
     "output_type": "stream",
     "text": [
      "C:\\Users\\angels\\anaconda3\\lib\\site-packages\\numpy\\lib\\function_base.py:3961: RuntimeWarning: invalid value encountered in subtract\n",
      "  diff_b_a = subtract(b, a)\n",
      "C:\\Users\\angels\\anaconda3\\lib\\site-packages\\numpy\\lib\\function_base.py:3963: RuntimeWarning: invalid value encountered in multiply\n",
      "  lerp_interpolation = asanyarray(add(a, diff_b_a*t, out=out))\n",
      "C:\\Users\\angels\\anaconda3\\lib\\site-packages\\numpy\\lib\\function_base.py:3964: RuntimeWarning: invalid value encountered in subtract\n",
      "  subtract(b, diff_b_a * (1 - t), out=lerp_interpolation, where=t>=0.5)\n"
     ]
    },
    {
     "data": {
      "text/html": [
       "<div>\n",
       "<style scoped>\n",
       "    .dataframe tbody tr th:only-of-type {\n",
       "        vertical-align: middle;\n",
       "    }\n",
       "\n",
       "    .dataframe tbody tr th {\n",
       "        vertical-align: top;\n",
       "    }\n",
       "\n",
       "    .dataframe thead th {\n",
       "        text-align: right;\n",
       "    }\n",
       "</style>\n",
       "<table border=\"1\" class=\"dataframe\">\n",
       "  <thead>\n",
       "    <tr style=\"text-align: right;\">\n",
       "      <th></th>\n",
       "      <th>members</th>\n",
       "      <th>newmembers</th>\n",
       "      <th>canceledmembers</th>\n",
       "      <th>contracts</th>\n",
       "      <th>newcontracts</th>\n",
       "      <th>canceledcontracts</th>\n",
       "      <th>selfconsumptioncontracts</th>\n",
       "      <th>newselfconsumptioncontracts</th>\n",
       "      <th>canceledselfconsumptioncontracts</th>\n",
       "    </tr>\n",
       "  </thead>\n",
       "  <tbody>\n",
       "    <tr>\n",
       "      <th>count</th>\n",
       "      <td>128.00</td>\n",
       "      <td>126.00</td>\n",
       "      <td>15.00</td>\n",
       "      <td>113.00</td>\n",
       "      <td>111.00</td>\n",
       "      <td>67.00</td>\n",
       "      <td>35.00</td>\n",
       "      <td>21.00</td>\n",
       "      <td>2.00</td>\n",
       "    </tr>\n",
       "    <tr>\n",
       "      <th>mean</th>\n",
       "      <td>inf</td>\n",
       "      <td>inf</td>\n",
       "      <td>inf</td>\n",
       "      <td>inf</td>\n",
       "      <td>inf</td>\n",
       "      <td>inf</td>\n",
       "      <td>inf</td>\n",
       "      <td>inf</td>\n",
       "      <td>inf</td>\n",
       "    </tr>\n",
       "    <tr>\n",
       "      <th>std</th>\n",
       "      <td>NaN</td>\n",
       "      <td>NaN</td>\n",
       "      <td>NaN</td>\n",
       "      <td>NaN</td>\n",
       "      <td>NaN</td>\n",
       "      <td>NaN</td>\n",
       "      <td>NaN</td>\n",
       "      <td>NaN</td>\n",
       "      <td>NaN</td>\n",
       "    </tr>\n",
       "    <tr>\n",
       "      <th>min</th>\n",
       "      <td>0.00</td>\n",
       "      <td>-1.00</td>\n",
       "      <td>-1.00</td>\n",
       "      <td>0.00</td>\n",
       "      <td>-1.00</td>\n",
       "      <td>-1.00</td>\n",
       "      <td>0.00</td>\n",
       "      <td>-1.00</td>\n",
       "      <td>-1.00</td>\n",
       "    </tr>\n",
       "    <tr>\n",
       "      <th>25%</th>\n",
       "      <td>0.01</td>\n",
       "      <td>-0.50</td>\n",
       "      <td>-1.00</td>\n",
       "      <td>0.01</td>\n",
       "      <td>-0.33</td>\n",
       "      <td>-0.67</td>\n",
       "      <td>0.00</td>\n",
       "      <td>-0.50</td>\n",
       "      <td>inf</td>\n",
       "    </tr>\n",
       "    <tr>\n",
       "      <th>50%</th>\n",
       "      <td>0.02</td>\n",
       "      <td>0.00</td>\n",
       "      <td>NaN</td>\n",
       "      <td>0.03</td>\n",
       "      <td>0.00</td>\n",
       "      <td>0.00</td>\n",
       "      <td>0.00</td>\n",
       "      <td>0.00</td>\n",
       "      <td>NaN</td>\n",
       "    </tr>\n",
       "    <tr>\n",
       "      <th>75%</th>\n",
       "      <td>0.03</td>\n",
       "      <td>1.00</td>\n",
       "      <td>NaN</td>\n",
       "      <td>0.05</td>\n",
       "      <td>0.93</td>\n",
       "      <td>2.25</td>\n",
       "      <td>0.15</td>\n",
       "      <td>2.00</td>\n",
       "      <td>NaN</td>\n",
       "    </tr>\n",
       "    <tr>\n",
       "      <th>max</th>\n",
       "      <td>inf</td>\n",
       "      <td>inf</td>\n",
       "      <td>inf</td>\n",
       "      <td>inf</td>\n",
       "      <td>inf</td>\n",
       "      <td>inf</td>\n",
       "      <td>inf</td>\n",
       "      <td>inf</td>\n",
       "      <td>inf</td>\n",
       "    </tr>\n",
       "  </tbody>\n",
       "</table>\n",
       "</div>"
      ],
      "text/plain": [
       "       members  newmembers  canceledmembers  contracts  newcontracts  \\\n",
       "count   128.00      126.00            15.00     113.00        111.00   \n",
       "mean       inf         inf              inf        inf           inf   \n",
       "std        NaN         NaN              NaN        NaN           NaN   \n",
       "min       0.00       -1.00            -1.00       0.00         -1.00   \n",
       "25%       0.01       -0.50            -1.00       0.01         -0.33   \n",
       "50%       0.02        0.00              NaN       0.03          0.00   \n",
       "75%       0.03        1.00              NaN       0.05          0.93   \n",
       "max        inf         inf              inf        inf           inf   \n",
       "\n",
       "       canceledcontracts  selfconsumptioncontracts  \\\n",
       "count              67.00                     35.00   \n",
       "mean                 inf                       inf   \n",
       "std                  NaN                       NaN   \n",
       "min                -1.00                      0.00   \n",
       "25%                -0.67                      0.00   \n",
       "50%                 0.00                      0.00   \n",
       "75%                 2.25                      0.15   \n",
       "max                  inf                       inf   \n",
       "\n",
       "       newselfconsumptioncontracts  canceledselfconsumptioncontracts  \n",
       "count                        21.00                              2.00  \n",
       "mean                           inf                               inf  \n",
       "std                            NaN                               NaN  \n",
       "min                          -1.00                             -1.00  \n",
       "25%                          -0.50                               inf  \n",
       "50%                           0.00                               NaN  \n",
       "75%                           2.00                               NaN  \n",
       "max                            inf                               inf  "
      ]
     },
     "execution_count": 20,
     "metadata": {},
     "output_type": "execute_result"
    }
   ],
   "source": [
    "df_variacions.describe()"
   ]
  },
  {
   "cell_type": "markdown",
   "id": "d03a1d89",
   "metadata": {},
   "source": [
    "### Neteja dades\n",
    "\n",
    "Elimino nulls i NaNs.\n",
    "\n"
   ]
  },
  {
   "cell_type": "code",
   "execution_count": 15,
   "id": "5784323b",
   "metadata": {},
   "outputs": [
    {
     "data": {
      "text/html": [
       "<div>\n",
       "<style scoped>\n",
       "    .dataframe tbody tr th:only-of-type {\n",
       "        vertical-align: middle;\n",
       "    }\n",
       "\n",
       "    .dataframe tbody tr th {\n",
       "        vertical-align: top;\n",
       "    }\n",
       "\n",
       "    .dataframe thead th {\n",
       "        text-align: right;\n",
       "    }\n",
       "</style>\n",
       "<table border=\"1\" class=\"dataframe\">\n",
       "  <thead>\n",
       "    <tr style=\"text-align: right;\">\n",
       "      <th></th>\n",
       "      <th>members</th>\n",
       "      <th>newmembers</th>\n",
       "      <th>canceledmembers</th>\n",
       "      <th>contracts</th>\n",
       "      <th>newcontracts</th>\n",
       "      <th>canceledcontracts</th>\n",
       "      <th>selfconsumptioncontracts</th>\n",
       "      <th>newselfconsumptioncontracts</th>\n",
       "      <th>canceledselfconsumptioncontracts</th>\n",
       "    </tr>\n",
       "  </thead>\n",
       "  <tbody>\n",
       "    <tr>\n",
       "      <th>2021-02-01</th>\n",
       "      <td>0.02</td>\n",
       "      <td>0.75</td>\n",
       "      <td>inf</td>\n",
       "      <td>0.03</td>\n",
       "      <td>1.10</td>\n",
       "      <td>0.17</td>\n",
       "      <td>0.08</td>\n",
       "      <td>1.00</td>\n",
       "      <td>-1.00</td>\n",
       "    </tr>\n",
       "  </tbody>\n",
       "</table>\n",
       "</div>"
      ],
      "text/plain": [
       "            members  newmembers  canceledmembers  contracts  newcontracts  \\\n",
       "2021-02-01     0.02        0.75              inf       0.03          1.10   \n",
       "\n",
       "            canceledcontracts  selfconsumptioncontracts  \\\n",
       "2021-02-01               0.17                      0.08   \n",
       "\n",
       "            newselfconsumptioncontracts  canceledselfconsumptioncontracts  \n",
       "2021-02-01                         1.00                             -1.00  "
      ]
     },
     "execution_count": 15,
     "metadata": {},
     "output_type": "execute_result"
    }
   ],
   "source": [
    "df_variacions.replace([np.inf, -np.inf], np.nan)\n",
    "\n",
    "df_variacions.dropna(inplace=True)\n",
    "df_variacions"
   ]
  },
  {
   "cell_type": "markdown",
   "id": "6632b88e",
   "metadata": {},
   "source": [
    "### Càlcul de variacions\n",
    "\n",
    "Cerco les dates amb els valors de variació  màxims i mínma  sobre les mètriques:"
   ]
  },
  {
   "cell_type": "code",
   "execution_count": 21,
   "id": "29b5954a",
   "metadata": {
    "scrolled": true
   },
   "outputs": [
    {
     "data": {
      "text/plain": [
       "[['members', datetime.date(2011, 2, 1), datetime.date(2010, 12, 1)],\n",
       " ['newmembers', datetime.date(2011, 2, 1), datetime.date(2010, 12, 1)],\n",
       " ['canceledmembers', datetime.date(2018, 7, 1), datetime.date(2018, 6, 1)],\n",
       " ['contracts', datetime.date(2012, 6, 1), datetime.date(2012, 3, 1)],\n",
       " ['newcontracts', datetime.date(2012, 6, 1), datetime.date(2012, 3, 1)],\n",
       " ['canceledcontracts', datetime.date(2014, 3, 1), datetime.date(2014, 2, 1)],\n",
       " ['selfconsumptioncontracts',\n",
       "  datetime.date(2018, 10, 1),\n",
       "  datetime.date(2018, 9, 1)],\n",
       " ['newselfconsumptioncontracts',\n",
       "  datetime.date(2018, 10, 1),\n",
       "  datetime.date(2018, 9, 1)],\n",
       " ['canceledselfconsumptioncontracts',\n",
       "  datetime.date(2021, 2, 1),\n",
       "  datetime.date(2021, 1, 1)]]"
      ]
     },
     "execution_count": 21,
     "metadata": {},
     "output_type": "execute_result"
    }
   ],
   "source": [
    "# Per cada métrica, mínim i màxim\n",
    "variacio_metrics_min_max = []\n",
    "for metric in metrics:\n",
    "    variacio_metrics_min_max.append([metric,df_variacions[metric].idxmin(),df_variacions[metric].idxmax()])\n",
    "variacio_metrics_min_max"
   ]
  },
  {
   "cell_type": "code",
   "execution_count": 22,
   "id": "2fb0a505",
   "metadata": {},
   "outputs": [
    {
     "data": {
      "text/html": [
       "<div>\n",
       "<style scoped>\n",
       "    .dataframe tbody tr th:only-of-type {\n",
       "        vertical-align: middle;\n",
       "    }\n",
       "\n",
       "    .dataframe tbody tr th {\n",
       "        vertical-align: top;\n",
       "    }\n",
       "\n",
       "    .dataframe thead th {\n",
       "        text-align: right;\n",
       "    }\n",
       "</style>\n",
       "<table border=\"1\" class=\"dataframe\">\n",
       "  <thead>\n",
       "    <tr style=\"text-align: right;\">\n",
       "      <th></th>\n",
       "      <th>mètrica</th>\n",
       "      <th>Mínim</th>\n",
       "      <th>Màxim</th>\n",
       "    </tr>\n",
       "  </thead>\n",
       "  <tbody>\n",
       "    <tr>\n",
       "      <th>0</th>\n",
       "      <td>members</td>\n",
       "      <td>2011-02-01</td>\n",
       "      <td>2010-12-01</td>\n",
       "    </tr>\n",
       "    <tr>\n",
       "      <th>1</th>\n",
       "      <td>newmembers</td>\n",
       "      <td>2011-02-01</td>\n",
       "      <td>2010-12-01</td>\n",
       "    </tr>\n",
       "    <tr>\n",
       "      <th>2</th>\n",
       "      <td>canceledmembers</td>\n",
       "      <td>2018-07-01</td>\n",
       "      <td>2018-06-01</td>\n",
       "    </tr>\n",
       "    <tr>\n",
       "      <th>3</th>\n",
       "      <td>contracts</td>\n",
       "      <td>2012-06-01</td>\n",
       "      <td>2012-03-01</td>\n",
       "    </tr>\n",
       "    <tr>\n",
       "      <th>4</th>\n",
       "      <td>newcontracts</td>\n",
       "      <td>2012-06-01</td>\n",
       "      <td>2012-03-01</td>\n",
       "    </tr>\n",
       "    <tr>\n",
       "      <th>5</th>\n",
       "      <td>canceledcontracts</td>\n",
       "      <td>2014-03-01</td>\n",
       "      <td>2014-02-01</td>\n",
       "    </tr>\n",
       "    <tr>\n",
       "      <th>6</th>\n",
       "      <td>selfconsumptioncontracts</td>\n",
       "      <td>2018-10-01</td>\n",
       "      <td>2018-09-01</td>\n",
       "    </tr>\n",
       "    <tr>\n",
       "      <th>7</th>\n",
       "      <td>newselfconsumptioncontracts</td>\n",
       "      <td>2018-10-01</td>\n",
       "      <td>2018-09-01</td>\n",
       "    </tr>\n",
       "    <tr>\n",
       "      <th>8</th>\n",
       "      <td>canceledselfconsumptioncontracts</td>\n",
       "      <td>2021-02-01</td>\n",
       "      <td>2021-01-01</td>\n",
       "    </tr>\n",
       "  </tbody>\n",
       "</table>\n",
       "</div>"
      ],
      "text/plain": [
       "                            mètrica       Mínim       Màxim\n",
       "0                           members  2011-02-01  2010-12-01\n",
       "1                        newmembers  2011-02-01  2010-12-01\n",
       "2                   canceledmembers  2018-07-01  2018-06-01\n",
       "3                         contracts  2012-06-01  2012-03-01\n",
       "4                      newcontracts  2012-06-01  2012-03-01\n",
       "5                 canceledcontracts  2014-03-01  2014-02-01\n",
       "6          selfconsumptioncontracts  2018-10-01  2018-09-01\n",
       "7       newselfconsumptioncontracts  2018-10-01  2018-09-01\n",
       "8  canceledselfconsumptioncontracts  2021-02-01  2021-01-01"
      ]
     },
     "execution_count": 22,
     "metadata": {},
     "output_type": "execute_result"
    }
   ],
   "source": [
    "# Create the pandas DataFrame\n",
    "df_variacio_metrics_min_max = pd.DataFrame(variacio_metrics_min_max, columns = [\"mètrica\",\"Mínim\", \"Màxim\"])\n",
    "\n",
    "# print dataframe.\n",
    "df_variacio_metrics_min_max"
   ]
  },
  {
   "cell_type": "code",
   "execution_count": 23,
   "id": "930d813e",
   "metadata": {},
   "outputs": [
    {
     "data": {
      "text/html": [
       "<div>\n",
       "<style scoped>\n",
       "    .dataframe tbody tr th:only-of-type {\n",
       "        vertical-align: middle;\n",
       "    }\n",
       "\n",
       "    .dataframe tbody tr th {\n",
       "        vertical-align: top;\n",
       "    }\n",
       "\n",
       "    .dataframe thead th {\n",
       "        text-align: right;\n",
       "    }\n",
       "</style>\n",
       "<table border=\"1\" class=\"dataframe\">\n",
       "  <thead>\n",
       "    <tr style=\"text-align: right;\">\n",
       "      <th></th>\n",
       "      <th>Mínim</th>\n",
       "      <th>Màxim</th>\n",
       "    </tr>\n",
       "    <tr>\n",
       "      <th>mètrica</th>\n",
       "      <th></th>\n",
       "      <th></th>\n",
       "    </tr>\n",
       "  </thead>\n",
       "  <tbody>\n",
       "    <tr>\n",
       "      <th>members</th>\n",
       "      <td>2011-02-01</td>\n",
       "      <td>2010-12-01</td>\n",
       "    </tr>\n",
       "    <tr>\n",
       "      <th>newmembers</th>\n",
       "      <td>2011-02-01</td>\n",
       "      <td>2010-12-01</td>\n",
       "    </tr>\n",
       "    <tr>\n",
       "      <th>canceledmembers</th>\n",
       "      <td>2018-07-01</td>\n",
       "      <td>2018-06-01</td>\n",
       "    </tr>\n",
       "    <tr>\n",
       "      <th>contracts</th>\n",
       "      <td>2012-06-01</td>\n",
       "      <td>2012-03-01</td>\n",
       "    </tr>\n",
       "    <tr>\n",
       "      <th>newcontracts</th>\n",
       "      <td>2012-06-01</td>\n",
       "      <td>2012-03-01</td>\n",
       "    </tr>\n",
       "    <tr>\n",
       "      <th>canceledcontracts</th>\n",
       "      <td>2014-03-01</td>\n",
       "      <td>2014-02-01</td>\n",
       "    </tr>\n",
       "    <tr>\n",
       "      <th>selfconsumptioncontracts</th>\n",
       "      <td>2018-10-01</td>\n",
       "      <td>2018-09-01</td>\n",
       "    </tr>\n",
       "    <tr>\n",
       "      <th>newselfconsumptioncontracts</th>\n",
       "      <td>2018-10-01</td>\n",
       "      <td>2018-09-01</td>\n",
       "    </tr>\n",
       "    <tr>\n",
       "      <th>canceledselfconsumptioncontracts</th>\n",
       "      <td>2021-02-01</td>\n",
       "      <td>2021-01-01</td>\n",
       "    </tr>\n",
       "  </tbody>\n",
       "</table>\n",
       "</div>"
      ],
      "text/plain": [
       "                                       Mínim       Màxim\n",
       "mètrica                                                 \n",
       "members                           2011-02-01  2010-12-01\n",
       "newmembers                        2011-02-01  2010-12-01\n",
       "canceledmembers                   2018-07-01  2018-06-01\n",
       "contracts                         2012-06-01  2012-03-01\n",
       "newcontracts                      2012-06-01  2012-03-01\n",
       "canceledcontracts                 2014-03-01  2014-02-01\n",
       "selfconsumptioncontracts          2018-10-01  2018-09-01\n",
       "newselfconsumptioncontracts       2018-10-01  2018-09-01\n",
       "canceledselfconsumptioncontracts  2021-02-01  2021-01-01"
      ]
     },
     "execution_count": 23,
     "metadata": {},
     "output_type": "execute_result"
    }
   ],
   "source": [
    "df_variacio_metrics_min_max.set_index('mètrica')"
   ]
  },
  {
   "cell_type": "markdown",
   "id": "de66af9b",
   "metadata": {},
   "source": [
    "## VISUALITZACIÓ DADES\n",
    "\n"
   ]
  },
  {
   "cell_type": "markdown",
   "id": "5382e40f",
   "metadata": {},
   "source": [
    "###  Entorn\n",
    "\n",
    "Preparem el que necessitem per fer les visualitzacions.\n",
    "\n",
    "Utilitzarem la llibreria boke, amb la idea de poder construir un dashboard interactiu.\n"
   ]
  },
  {
   "cell_type": "code",
   "execution_count": 70,
   "id": "86b10c6a",
   "metadata": {},
   "outputs": [],
   "source": [
    "from bokeh.io import output_notebook, show\n",
    "from bokeh.plotting import figure, show, figure, show, output_file, output_notebook\n",
    "from bokeh.palettes import Spectral11, colorblind, Inferno, BuGn, brewer\n",
    "from bokeh.models import HoverTool, value, LabelSet, Legend, ColumnDataSource,LinearColorMapper,BasicTicker, PrintfTickFormatter, ColorBar\n",
    "import datetime\n",
    "\n",
    "METRIC=\"members\"\n",
    "DF=df"
   ]
  },
  {
   "cell_type": "markdown",
   "id": "172c4cd3",
   "metadata": {},
   "source": [
    "M'asseguro que lindex del detaframe té format de data"
   ]
  },
  {
   "cell_type": "code",
   "execution_count": 103,
   "id": "6ad7cc8d",
   "metadata": {},
   "outputs": [],
   "source": [
    "df.index = pd.to_datetime(df.index)"
   ]
  },
  {
   "cell_type": "code",
   "execution_count": 104,
   "id": "a3ddfcc5",
   "metadata": {},
   "outputs": [
    {
     "data": {
      "text/plain": [
       "DatetimeIndex(['2010-01-01', '2010-02-01', '2010-03-01', '2010-04-01',\n",
       "               '2010-05-01', '2010-06-01', '2010-07-01', '2010-08-01',\n",
       "               '2010-09-01', '2010-10-01',\n",
       "               ...\n",
       "               '2020-10-01', '2020-11-01', '2020-12-01', '2021-01-01',\n",
       "               '2021-02-01', '2021-03-01', '2021-04-01', '2021-05-01',\n",
       "               '2021-06-01', '2021-07-01'],\n",
       "              dtype='datetime64[ns]', length=139, freq=None)"
      ]
     },
     "execution_count": 104,
     "metadata": {},
     "output_type": "execute_result"
    }
   ],
   "source": [
    "df.index"
   ]
  },
  {
   "cell_type": "code",
   "execution_count": 44,
   "id": "1d605b78",
   "metadata": {},
   "outputs": [
    {
     "data": {
      "text/plain": [
       "DatetimeIndex(['2010-01-01', '2010-01-02', '2010-01-03', '2010-01-04',\n",
       "               '2010-01-05', '2010-01-06', '2010-01-07', '2010-01-08',\n",
       "               '2010-01-09', '2010-01-10',\n",
       "               ...\n",
       "               '2021-06-22', '2021-06-23', '2021-06-24', '2021-06-25',\n",
       "               '2021-06-26', '2021-06-27', '2021-06-28', '2021-06-29',\n",
       "               '2021-06-30', '2021-07-01'],\n",
       "              dtype='datetime64[ns]', length=4200, freq='D')"
      ]
     },
     "execution_count": 44,
     "metadata": {},
     "output_type": "execute_result"
    }
   ],
   "source": [
    "datelist = pd.date_range(start=df.index[0],end=df.index[-1])\n",
    "datelist"
   ]
  },
  {
   "cell_type": "code",
   "execution_count": 107,
   "id": "da22f2c0",
   "metadata": {},
   "outputs": [],
   "source": [
    "df['year'] = pd.DatetimeIndex(df.index).year\n",
    "df['month'] = pd.DatetimeIndex(df.index).month"
   ]
  },
  {
   "cell_type": "code",
   "execution_count": 59,
   "id": "81514c51",
   "metadata": {},
   "outputs": [
    {
     "data": {
      "text/html": [
       "<div>\n",
       "<style scoped>\n",
       "    .dataframe tbody tr th:only-of-type {\n",
       "        vertical-align: middle;\n",
       "    }\n",
       "\n",
       "    .dataframe tbody tr th {\n",
       "        vertical-align: top;\n",
       "    }\n",
       "\n",
       "    .dataframe thead th {\n",
       "        text-align: right;\n",
       "    }\n",
       "</style>\n",
       "<table border=\"1\" class=\"dataframe\">\n",
       "  <thead>\n",
       "    <tr style=\"text-align: right;\">\n",
       "      <th></th>\n",
       "      <th>month</th>\n",
       "      <th>members</th>\n",
       "      <th>newmembers</th>\n",
       "      <th>canceledmembers</th>\n",
       "      <th>contracts</th>\n",
       "      <th>newcontracts</th>\n",
       "      <th>canceledcontracts</th>\n",
       "      <th>selfconsumptioncontracts</th>\n",
       "      <th>newselfconsumptioncontracts</th>\n",
       "      <th>canceledselfconsumptioncontracts</th>\n",
       "      <th>year</th>\n",
       "    </tr>\n",
       "  </thead>\n",
       "  <tbody>\n",
       "    <tr>\n",
       "      <th>0</th>\n",
       "      <td>1</td>\n",
       "      <td>132.25</td>\n",
       "      <td>2.50</td>\n",
       "      <td>0.00</td>\n",
       "      <td>163.67</td>\n",
       "      <td>4.17</td>\n",
       "      <td>1.17</td>\n",
       "      <td>2.42</td>\n",
       "      <td>0.17</td>\n",
       "      <td>0.08</td>\n",
       "      <td>2,015.50</td>\n",
       "    </tr>\n",
       "    <tr>\n",
       "      <th>1</th>\n",
       "      <td>2</td>\n",
       "      <td>136.50</td>\n",
       "      <td>4.33</td>\n",
       "      <td>0.08</td>\n",
       "      <td>169.50</td>\n",
       "      <td>7.67</td>\n",
       "      <td>1.83</td>\n",
       "      <td>2.67</td>\n",
       "      <td>0.25</td>\n",
       "      <td>0.00</td>\n",
       "      <td>2,015.50</td>\n",
       "    </tr>\n",
       "    <tr>\n",
       "      <th>2</th>\n",
       "      <td>3</td>\n",
       "      <td>140.25</td>\n",
       "      <td>3.75</td>\n",
       "      <td>0.00</td>\n",
       "      <td>175.83</td>\n",
       "      <td>7.33</td>\n",
       "      <td>1.00</td>\n",
       "      <td>3.00</td>\n",
       "      <td>0.33</td>\n",
       "      <td>0.00</td>\n",
       "      <td>2,015.50</td>\n",
       "    </tr>\n",
       "    <tr>\n",
       "      <th>3</th>\n",
       "      <td>4</td>\n",
       "      <td>143.42</td>\n",
       "      <td>3.25</td>\n",
       "      <td>0.08</td>\n",
       "      <td>179.83</td>\n",
       "      <td>5.67</td>\n",
       "      <td>1.75</td>\n",
       "      <td>3.42</td>\n",
       "      <td>0.42</td>\n",
       "      <td>0.00</td>\n",
       "      <td>2,015.50</td>\n",
       "    </tr>\n",
       "    <tr>\n",
       "      <th>4</th>\n",
       "      <td>5</td>\n",
       "      <td>145.92</td>\n",
       "      <td>2.50</td>\n",
       "      <td>0.00</td>\n",
       "      <td>184.83</td>\n",
       "      <td>5.58</td>\n",
       "      <td>0.67</td>\n",
       "      <td>3.67</td>\n",
       "      <td>0.25</td>\n",
       "      <td>0.00</td>\n",
       "      <td>2,015.50</td>\n",
       "    </tr>\n",
       "  </tbody>\n",
       "</table>\n",
       "</div>"
      ],
      "text/plain": [
       "   month  members  newmembers  canceledmembers  contracts  newcontracts  \\\n",
       "0      1   132.25        2.50             0.00     163.67          4.17   \n",
       "1      2   136.50        4.33             0.08     169.50          7.67   \n",
       "2      3   140.25        3.75             0.00     175.83          7.33   \n",
       "3      4   143.42        3.25             0.08     179.83          5.67   \n",
       "4      5   145.92        2.50             0.00     184.83          5.58   \n",
       "\n",
       "   canceledcontracts  selfconsumptioncontracts  newselfconsumptioncontracts  \\\n",
       "0               1.17                      2.42                         0.17   \n",
       "1               1.83                      2.67                         0.25   \n",
       "2               1.00                      3.00                         0.33   \n",
       "3               1.75                      3.42                         0.42   \n",
       "4               0.67                      3.67                         0.25   \n",
       "\n",
       "   canceledselfconsumptioncontracts     year  \n",
       "0                              0.08 2,015.50  \n",
       "1                              0.00 2,015.50  \n",
       "2                              0.00 2,015.50  \n",
       "3                              0.00 2,015.50  \n",
       "4                              0.00 2,015.50  "
      ]
     },
     "execution_count": 59,
     "metadata": {},
     "output_type": "execute_result"
    }
   ],
   "source": [
    "temp_df = df.groupby(['month']).mean().reset_index()\n",
    "temp_df.head()"
   ]
  },
  {
   "cell_type": "markdown",
   "id": "8e4dc613",
   "metadata": {},
   "source": [
    "### Funcions"
   ]
  },
  {
   "cell_type": "markdown",
   "id": "87517b63",
   "metadata": {},
   "source": [
    "**Funció plot_evolució_metrica**\n",
    "\n",
    "Mostra evolució altes, baixes de la métrica que se li passa com a paràmetre, per defecte mostra \"members\"\n"
   ]
  },
  {
   "cell_type": "code",
   "execution_count": 149,
   "id": "afd1ba3f",
   "metadata": {},
   "outputs": [],
   "source": [
    "def plot_evolucio_metrica(mydf=DF,mymetric=METRIC):\n",
    "    # Preparo dades\n",
    "    temp_df = mydf.groupby(['year', 'month']).sum().reset_index()\n",
    "\n",
    "    # Parametre visualització\n",
    "    TOOLS = 'crosshair,save,pan,box_zoom,reset,wheel_zoom'\n",
    "    p = figure(title=\"All \"+ mymetric + \", New and Canceled \"+mymetric, x_axis_type='datetime', y_axis_type=\"linear\", tools = TOOLS)\n",
    "\n",
    "    # Contrucció plot\n",
    "    all_metric = mymetric\n",
    "    new_metric= \"new\"+mymetric\n",
    "    canceled_metric= \"canceled\"+mymetric\n",
    "    \n",
    "    p.line(df.index, df[all_metric], legend_label=mymetric, line_color=\"purple\", line_width = 3)\n",
    "    p.line(df.index, df[new_metric], legend_label=\"New \"+ mymetric, line_color=\"blue\", line_width = 3)\n",
    "    p.line(df.index, df[canceled_metric], legend_label=\"Canceled \"+mymetric, line_color = 'coral', line_width = 3)\n",
    "    p.legend.location = \"top_left\"\n",
    "    p.xaxis.axis_label = 'Year'\n",
    "    p.yaxis.axis_label = 'Count'\n",
    "    \n",
    "    return(p)\n"
   ]
  },
  {
   "cell_type": "markdown",
   "id": "fbaaa21e",
   "metadata": {},
   "source": [
    "**Funció plot_mapa_calor**\n",
    "\n",
    "Mostra mapa de calor data de la métrica que se li passa com a paràmetre, per defecte mostra \"members\"\n"
   ]
  },
  {
   "cell_type": "code",
   "execution_count": 150,
   "id": "f1115fe5",
   "metadata": {},
   "outputs": [],
   "source": [
    "def plot_mapa_calor(mydf=DF,mymetric=METRIC):\n",
    "    # Preparo dades\n",
    "    temp_df = mydf.groupby(['year', 'month']).sum().reset_index()\n",
    " \n",
    "    # Parametre visualització\n",
    "    TOOLS = 'crosshair,save,pan,box_zoom,reset,wheel_zoom'\n",
    "    hm = figure(title=\"Year Month \"+ mymetric, tools=TOOLS, toolbar_location='above')\n",
    "\n",
    "    # Contrucció plot\n",
    "    source = ColumnDataSource(temp_df)\n",
    "    colors = brewer['BuGn'][9]\n",
    "    colors = colors[::-1]\n",
    "    mapper = LinearColorMapper(\n",
    "        palette=colors, low=temp_df[mymetric].min(), high=temp_df[mymetric].max())\n",
    "    hm.rect(x=\"year\", y=\"month\",width=2,height=1,source = source,  \n",
    "        fill_color={\n",
    "            'field': mymetric,\n",
    "            'transform': mapper\n",
    "        },\n",
    "        line_color=None)\n",
    "    color_bar = ColorBar(\n",
    "        color_mapper=mapper,\n",
    "        major_label_text_font_size=\"10pt\",\n",
    "        ticker=BasicTicker(desired_num_ticks=len(colors)),\n",
    "        formatter=PrintfTickFormatter(),\n",
    "        label_standoff=6,\n",
    "        border_line_color=None,\n",
    "        location=(0, 0))\n",
    "\n",
    "    hm.add_layout(color_bar, 'right')\n",
    "    hm.xaxis.axis_label = 'Year'\n",
    "    hm.yaxis.axis_label = 'Month'\n",
    "\n",
    "    return(hm)\n"
   ]
  },
  {
   "cell_type": "markdown",
   "id": "c8d024b8",
   "metadata": {},
   "source": [
    "**Funció plot_avg_barres**\n",
    "\n",
    "Mostra visualitzador mitjana métrica que se li passa com a paràmetre, per defecte mostra \"members\"\n"
   ]
  },
  {
   "cell_type": "code",
   "execution_count": 151,
   "id": "638d1545",
   "metadata": {},
   "outputs": [],
   "source": [
    "def plot_avg_barres(mydf=DF,mymetric=METRIC):\n",
    "    # Preparo dades\n",
    "    temp_df = mydf.groupby(['year', 'month']).mean().reset_index()\n",
    " \n",
    "    # Construeixo visualitzatció\n",
    "    TOOLS = 'crosshair,save,pan,box_zoom,reset,wheel_zoom'\n",
    "    p = figure(plot_height=350,\n",
    "        title=\"AVG \"+mymetric,\n",
    "        toolbar_location='above')\n",
    "\n",
    "    # Contrucció plot\n",
    "    p.vbar(x=temp_df.month, top=temp_df[mymetric], width=0.9)\n",
    "\n",
    "    p.y_range.start = 0\n",
    "    p.x_range.range_padding = 0.1\n",
    "    p.xgrid.grid_line_color = None\n",
    "    p.axis.minor_tick_line_color = None\n",
    "    p.outline_line_color = None\n",
    "    p.xaxis.axis_label = 'Month'\n",
    "    p.yaxis.axis_label = 'AVG '+mymetric   \n",
    "    \n",
    "    return(p)\n"
   ]
  },
  {
   "cell_type": "markdown",
   "id": "83173834",
   "metadata": {},
   "source": [
    "### Dades darrer any"
   ]
  },
  {
   "cell_type": "code",
   "execution_count": 148,
   "id": "4025a7d6",
   "metadata": {
    "scrolled": false
   },
   "outputs": [
    {
     "name": "stderr",
     "output_type": "stream",
     "text": [
      "<ipython-input-148-c33aba2a71b7>:3: SettingWithCopyWarning: \n",
      "A value is trying to be set on a copy of a slice from a DataFrame.\n",
      "Try using .loc[row_indexer,col_indexer] = value instead\n",
      "\n",
      "See the caveats in the documentation: https://pandas.pydata.org/pandas-docs/stable/user_guide/indexing.html#returning-a-view-versus-a-copy\n",
      "  last_year['year'] = pd.DatetimeIndex(last_year.index).year\n",
      "<ipython-input-148-c33aba2a71b7>:4: SettingWithCopyWarning: \n",
      "A value is trying to be set on a copy of a slice from a DataFrame.\n",
      "Try using .loc[row_indexer,col_indexer] = value instead\n",
      "\n",
      "See the caveats in the documentation: https://pandas.pydata.org/pandas-docs/stable/user_guide/indexing.html#returning-a-view-versus-a-copy\n",
      "  last_year['month'] = pd.DatetimeIndex(last_year.index).month\n"
     ]
    }
   ],
   "source": [
    "# agafo dades del darrer any\n",
    "last_year = df.loc[pd.to_datetime('2020-01-01'):pd.to_datetime('2021-01-01')]"
   ]
  },
  {
   "cell_type": "markdown",
   "id": "34ca63b9",
   "metadata": {},
   "source": [
    "**Gràfica Evolució mètrica**"
   ]
  },
  {
   "cell_type": "code",
   "execution_count": 152,
   "id": "86525b0d",
   "metadata": {
    "scrolled": true
   },
   "outputs": [
    {
     "data": {
      "text/html": [
       "\n",
       "\n",
       "\n",
       "\n",
       "\n",
       "\n",
       "  <div class=\"bk-root\" id=\"59da2e76-5178-44be-9144-559d22af1705\" data-root-id=\"29065\"></div>\n"
      ]
     },
     "metadata": {},
     "output_type": "display_data"
    },
    {
     "data": {
      "application/javascript": [
       "(function(root) {\n",
       "  function embed_document(root) {\n",
       "    \n",
       "  var docs_json = {\"0a9e9ba5-102f-42c3-9312-895216cfade4\":{\"defs\":[],\"roots\":{\"references\":[{\"attributes\":{\"below\":[{\"id\":\"29076\"}],\"center\":[{\"id\":\"29079\"},{\"id\":\"29083\"},{\"id\":\"29125\"}],\"left\":[{\"id\":\"29080\"}],\"renderers\":[{\"id\":\"29101\"},{\"id\":\"29130\"},{\"id\":\"29160\"}],\"title\":{\"id\":\"29066\"},\"toolbar\":{\"id\":\"29091\"},\"x_range\":{\"id\":\"29068\"},\"x_scale\":{\"id\":\"29072\"},\"y_range\":{\"id\":\"29070\"},\"y_scale\":{\"id\":\"29074\"}},\"id\":\"29065\",\"subtype\":\"Figure\",\"type\":\"Plot\"},{\"attributes\":{\"bottom_units\":\"screen\",\"fill_alpha\":0.5,\"fill_color\":\"lightgrey\",\"left_units\":\"screen\",\"level\":\"overlay\",\"line_alpha\":1.0,\"line_color\":\"black\",\"line_dash\":[4,4],\"line_width\":2,\"right_units\":\"screen\",\"syncable\":false,\"top_units\":\"screen\"},\"id\":\"29090\",\"type\":\"BoxAnnotation\"},{\"attributes\":{},\"id\":\"29105\",\"type\":\"AllLabels\"},{\"attributes\":{},\"id\":\"29111\",\"type\":\"UnionRenderers\"},{\"attributes\":{},\"id\":\"29074\",\"type\":\"LinearScale\"},{\"attributes\":{},\"id\":\"29086\",\"type\":\"PanTool\"},{\"attributes\":{},\"id\":\"29174\",\"type\":\"UnionRenderers\"},{\"attributes\":{},\"id\":\"29123\",\"type\":\"YearsTicker\"},{\"attributes\":{\"line_color\":\"purple\",\"line_width\":3,\"x\":{\"field\":\"x\"},\"y\":{\"field\":\"y\"}},\"id\":\"29099\",\"type\":\"Line\"},{\"attributes\":{},\"id\":\"29106\",\"type\":\"DatetimeTickFormatter\"},{\"attributes\":{},\"id\":\"29070\",\"type\":\"DataRange1d\"},{\"attributes\":{\"overlay\":{\"id\":\"29090\"}},\"id\":\"29087\",\"type\":\"BoxZoomTool\"},{\"attributes\":{},\"id\":\"29085\",\"type\":\"SaveTool\"},{\"attributes\":{},\"id\":\"29141\",\"type\":\"Selection\"},{\"attributes\":{\"axis\":{\"id\":\"29076\"},\"ticker\":null},\"id\":\"29079\",\"type\":\"Grid\"},{\"attributes\":{},\"id\":\"29081\",\"type\":\"BasicTicker\"},{\"attributes\":{},\"id\":\"29142\",\"type\":\"UnionRenderers\"},{\"attributes\":{\"days\":[1,15]},\"id\":\"29118\",\"type\":\"DaysTicker\"},{\"attributes\":{\"axis_label\":\"Count\",\"formatter\":{\"id\":\"29109\"},\"major_label_policy\":{\"id\":\"29108\"},\"ticker\":{\"id\":\"29081\"}},\"id\":\"29080\",\"type\":\"LinearAxis\"},{\"attributes\":{},\"id\":\"29173\",\"type\":\"Selection\"},{\"attributes\":{\"label\":{\"value\":\"New members\"},\"renderers\":[{\"id\":\"29130\"}]},\"id\":\"29156\",\"type\":\"LegendItem\"},{\"attributes\":{\"base\":60,\"mantissas\":[1,2,5,10,15,20,30],\"max_interval\":1800000.0,\"min_interval\":1000.0,\"num_minor_ticks\":0},\"id\":\"29113\",\"type\":\"AdaptiveTicker\"},{\"attributes\":{},\"id\":\"29084\",\"type\":\"CrosshairTool\"},{\"attributes\":{\"data\":{\"x\":{\"__ndarray__\":\"AACA53JeckIAAMA5bWhyQgAAwFpwcXJCAAAArWp7ckIAAICZEoVyQgAAwOsMj3JCAABA2LSYckIAAIAqr6JyQgAAwHyprHJCAABAaVG2ckIAAIC7S8ByQgAAAKjzyXJCAABA+u3TckIAAIBM6N1yQgAAgG3r5nJCAADAv+XwckIAAECsjfpyQgAAgP6HBHNCAAAA6y8Oc0IAAEA9KhhzQgAAgI8kInNCAAAAfMwrc0IAAEDOxjVzQgAAwLpuP3NCAAAADWlJc0IAAEBfY1NzQgAAAOa4XHNCAABAOLNmc0IAAMAkW3BzQgAAAHdVenNCAACAY/2Dc0IAAMC1941zQgAAAAjyl3NCAACA9Jmhc0IAAMBGlKtzQgAAQDM8tXNCAACAhTa/c0IAAMDXMMlzQgAAwPgz0nNCAAAASy7cc0IAAIA31uVzQgAAwInQ73NCAABAdnj5c0IAAIDIcgN0QgAAwBptDXRCAABABxUXdEIAAIBZDyF0QgAAAEa3KnRCAABAmLE0dEIAAIDqqz50QgAAgAuvR3RCAADAXalRdEIAAEBKUVt0QgAAgJxLZXRCAAAAifNudEIAAEDb7Xh0QgAAgC3ognRCAAAAGpCMdEIAAEBsipZ0QgAAwFgyoHRCAAAAqyyqdEIAAED9JrR0QgAAQB4qvXRCAACAcCTHdEIAAABdzNB0QgAAQK/G2nRCAADAm27kdEIAAADuaO50QgAAQEBj+HRCAADALAsCdUIAAAB/BQx1QgAAgGutFXVCAADAvacfdUIAAAAQoil1QgAAwJb3MnVCAAAA6fE8dUIAAIDVmUZ1QgAAwCeUUHVCAABAFDxadUIAAIBmNmR1QgAAwLgwbnVCAABApdh3dUIAAID30oF1QgAAAOR6i3VCAABANnWVdUIAAICIb591QgAAgKlyqHVCAADA+2yydUIAAEDoFLx1QgAAgDoPxnVCAAAAJ7fPdUIAAEB5sdl1QgAAgMur43VCAAAAuFPtdUIAAEAKTvd1QgAAwPb1AHZCAAAASfAKdkIAAECb6hR2QgAAQLztHXZCAACADugndkIAAAD7jzF2QgAAQE2KO3ZCAADAOTJFdkIAAACMLE92QgAAQN4mWXZCAADAys5idkIAAAAdyWx2QgAAgAlxdnZCAADAW2uAdkIAAACuZYp2QgAAAM9ok3ZCAABAIWOddkIAAMANC6d2QgAAAGAFsXZCAACATK26dkIAAMCep8R2QgAAAPGhznZCAACA3UnYdkIAAMAvROJ2QgAAQBzs63ZCAACAbub1dkIAAMDA4P92QgAAgEc2CXdCAADAmTATd0IAAECG2Bx3QgAAgNjSJndCAAAAxXowd0IAAEAXdTp3QgAAgGlvRHdCAAAAVhdOd0IAAECoEVh3QgAAwJS5YXdCAAAA57Nrd0IAAEA5rnV3QgAAQFqxfndCAACArKuId0IAAACZU5J3QgAAQOtNnHdCAADA1/Wld0I=\",\"dtype\":\"float64\",\"order\":\"little\",\"shape\":[139]},\"y\":[0,0,0,0,0,0,0,0,0,0,0,4,9,9,12,12,13,13,16,18,21,22,22,26,27,27,32,33,34,37,38,38,38,39,39,41,44,48,52,58,59,60,61,64,70,71,72,73,73,77,80,83,85,86,87,87,89,90,93,94,96,99,99,99,100,101,101,103,104,107,108,109,110,112,114,118,123,123,124,126,128,132,136,137,141,151,158,160,161,161,166,169,172,173,180,186,188,196,203,210,215,222,226,226,229,233,237,238,241,247,251,259,265,269,275,278,283,289,296,304,309,317,320,323,325,329,330,330,334,338,340,345,349,355,362,366,371,374,377]},\"selected\":{\"id\":\"29110\"},\"selection_policy\":{\"id\":\"29111\"}},\"id\":\"29098\",\"type\":\"ColumnDataSource\"},{\"attributes\":{\"label\":{\"value\":\"Canceled members\"},\"renderers\":[{\"id\":\"29160\"}]},\"id\":\"29188\",\"type\":\"LegendItem\"},{\"attributes\":{\"days\":[1,2,3,4,5,6,7,8,9,10,11,12,13,14,15,16,17,18,19,20,21,22,23,24,25,26,27,28,29,30,31]},\"id\":\"29115\",\"type\":\"DaysTicker\"},{\"attributes\":{\"line_color\":\"blue\",\"line_width\":3,\"x\":{\"field\":\"x\"},\"y\":{\"field\":\"y\"}},\"id\":\"29128\",\"type\":\"Line\"},{\"attributes\":{\"days\":[1,4,7,10,13,16,19,22,25,28]},\"id\":\"29116\",\"type\":\"DaysTicker\"},{\"attributes\":{\"text\":\"All members, New and Canceled members\"},\"id\":\"29066\",\"type\":\"Title\"},{\"attributes\":{},\"id\":\"29110\",\"type\":\"Selection\"},{\"attributes\":{\"active_multi\":null,\"tools\":[{\"id\":\"29084\"},{\"id\":\"29085\"},{\"id\":\"29086\"},{\"id\":\"29087\"},{\"id\":\"29088\"},{\"id\":\"29089\"}]},\"id\":\"29091\",\"type\":\"Toolbar\"},{\"attributes\":{\"months\":[0,1,2,3,4,5,6,7,8,9,10,11]},\"id\":\"29119\",\"type\":\"MonthsTicker\"},{\"attributes\":{\"months\":[0,6]},\"id\":\"29122\",\"type\":\"MonthsTicker\"},{\"attributes\":{\"items\":[{\"id\":\"29126\"},{\"id\":\"29156\"},{\"id\":\"29188\"}],\"location\":\"top_left\"},\"id\":\"29125\",\"type\":\"Legend\"},{\"attributes\":{},\"id\":\"29108\",\"type\":\"AllLabels\"},{\"attributes\":{\"base\":24,\"mantissas\":[1,2,4,6,8,12],\"max_interval\":43200000.0,\"min_interval\":3600000.0,\"num_minor_ticks\":0},\"id\":\"29114\",\"type\":\"AdaptiveTicker\"},{\"attributes\":{\"data_source\":{\"id\":\"29098\"},\"glyph\":{\"id\":\"29099\"},\"hover_glyph\":null,\"muted_glyph\":null,\"nonselection_glyph\":{\"id\":\"29100\"},\"view\":{\"id\":\"29102\"}},\"id\":\"29101\",\"type\":\"GlyphRenderer\"},{\"attributes\":{\"data_source\":{\"id\":\"29127\"},\"glyph\":{\"id\":\"29128\"},\"hover_glyph\":null,\"muted_glyph\":null,\"nonselection_glyph\":{\"id\":\"29129\"},\"view\":{\"id\":\"29131\"}},\"id\":\"29130\",\"type\":\"GlyphRenderer\"},{\"attributes\":{\"source\":{\"id\":\"29098\"}},\"id\":\"29102\",\"type\":\"CDSView\"},{\"attributes\":{\"data\":{\"x\":{\"__ndarray__\":\"AACA53JeckIAAMA5bWhyQgAAwFpwcXJCAAAArWp7ckIAAICZEoVyQgAAwOsMj3JCAABA2LSYckIAAIAqr6JyQgAAwHyprHJCAABAaVG2ckIAAIC7S8ByQgAAAKjzyXJCAABA+u3TckIAAIBM6N1yQgAAgG3r5nJCAADAv+XwckIAAECsjfpyQgAAgP6HBHNCAAAA6y8Oc0IAAEA9KhhzQgAAgI8kInNCAAAAfMwrc0IAAEDOxjVzQgAAwLpuP3NCAAAADWlJc0IAAEBfY1NzQgAAAOa4XHNCAABAOLNmc0IAAMAkW3BzQgAAAHdVenNCAACAY/2Dc0IAAMC1941zQgAAAAjyl3NCAACA9Jmhc0IAAMBGlKtzQgAAQDM8tXNCAACAhTa/c0IAAMDXMMlzQgAAwPgz0nNCAAAASy7cc0IAAIA31uVzQgAAwInQ73NCAABAdnj5c0IAAIDIcgN0QgAAwBptDXRCAABABxUXdEIAAIBZDyF0QgAAAEa3KnRCAABAmLE0dEIAAIDqqz50QgAAgAuvR3RCAADAXalRdEIAAEBKUVt0QgAAgJxLZXRCAAAAifNudEIAAEDb7Xh0QgAAgC3ognRCAAAAGpCMdEIAAEBsipZ0QgAAwFgyoHRCAAAAqyyqdEIAAED9JrR0QgAAQB4qvXRCAACAcCTHdEIAAABdzNB0QgAAQK/G2nRCAADAm27kdEIAAADuaO50QgAAQEBj+HRCAADALAsCdUIAAAB/BQx1QgAAgGutFXVCAADAvacfdUIAAAAQoil1QgAAwJb3MnVCAAAA6fE8dUIAAIDVmUZ1QgAAwCeUUHVCAABAFDxadUIAAIBmNmR1QgAAwLgwbnVCAABApdh3dUIAAID30oF1QgAAAOR6i3VCAABANnWVdUIAAICIb591QgAAgKlyqHVCAADA+2yydUIAAEDoFLx1QgAAgDoPxnVCAAAAJ7fPdUIAAEB5sdl1QgAAgMur43VCAAAAuFPtdUIAAEAKTvd1QgAAwPb1AHZCAAAASfAKdkIAAECb6hR2QgAAQLztHXZCAACADugndkIAAAD7jzF2QgAAQE2KO3ZCAADAOTJFdkIAAACMLE92QgAAQN4mWXZCAADAys5idkIAAAAdyWx2QgAAgAlxdnZCAADAW2uAdkIAAACuZYp2QgAAAM9ok3ZCAABAIWOddkIAAMANC6d2QgAAAGAFsXZCAACATK26dkIAAMCep8R2QgAAAPGhznZCAACA3UnYdkIAAMAvROJ2QgAAQBzs63ZCAACAbub1dkIAAMDA4P92QgAAgEc2CXdCAADAmTATd0IAAECG2Bx3QgAAgNjSJndCAAAAxXowd0IAAEAXdTp3QgAAgGlvRHdCAAAAVhdOd0IAAECoEVh3QgAAwJS5YXdCAAAA57Nrd0IAAEA5rnV3QgAAQFqxfndCAACArKuId0IAAACZU5J3QgAAQOtNnHdCAADA1/Wld0I=\",\"dtype\":\"float64\",\"order\":\"little\",\"shape\":[139]},\"y\":[0,0,0,0,0,0,0,0,0,0,0,0,0,0,0,0,0,0,0,0,0,0,0,0,0,0,0,0,0,0,0,0,0,0,0,0,0,0,0,0,0,0,0,0,0,0,0,0,0,0,0,0,0,0,0,0,0,0,0,0,0,0,0,0,0,0,0,0,0,0,0,0,0,0,0,0,0,0,0,0,0,0,0,0,0,0,0,0,0,0,0,0,0,0,0,0,0,0,0,0,0,1,0,0,0,0,1,1,0,0,0,0,0,1,0,0,0,0,0,1,0,0,0,0,0,0,0,0,0,1,0,0,0,1,0,1,0,0,0]},\"selected\":{\"id\":\"29173\"},\"selection_policy\":{\"id\":\"29174\"}},\"id\":\"29157\",\"type\":\"ColumnDataSource\"},{\"attributes\":{\"mantissas\":[1,2,5],\"max_interval\":500.0,\"num_minor_ticks\":0},\"id\":\"29112\",\"type\":\"AdaptiveTicker\"},{\"attributes\":{\"line_alpha\":0.1,\"line_color\":\"purple\",\"line_width\":3,\"x\":{\"field\":\"x\"},\"y\":{\"field\":\"y\"}},\"id\":\"29100\",\"type\":\"Line\"},{\"attributes\":{\"line_alpha\":0.1,\"line_color\":\"coral\",\"line_width\":3,\"x\":{\"field\":\"x\"},\"y\":{\"field\":\"y\"}},\"id\":\"29159\",\"type\":\"Line\"},{\"attributes\":{},\"id\":\"29109\",\"type\":\"BasicTickFormatter\"},{\"attributes\":{\"line_color\":\"coral\",\"line_width\":3,\"x\":{\"field\":\"x\"},\"y\":{\"field\":\"y\"}},\"id\":\"29158\",\"type\":\"Line\"},{\"attributes\":{\"label\":{\"value\":\"members\"},\"renderers\":[{\"id\":\"29101\"}]},\"id\":\"29126\",\"type\":\"LegendItem\"},{\"attributes\":{\"days\":[1,8,15,22]},\"id\":\"29117\",\"type\":\"DaysTicker\"},{\"attributes\":{},\"id\":\"29088\",\"type\":\"ResetTool\"},{\"attributes\":{\"source\":{\"id\":\"29157\"}},\"id\":\"29161\",\"type\":\"CDSView\"},{\"attributes\":{\"months\":[0,2,4,6,8,10]},\"id\":\"29120\",\"type\":\"MonthsTicker\"},{\"attributes\":{},\"id\":\"29072\",\"type\":\"LinearScale\"},{\"attributes\":{\"data\":{\"x\":{\"__ndarray__\":\"AACA53JeckIAAMA5bWhyQgAAwFpwcXJCAAAArWp7ckIAAICZEoVyQgAAwOsMj3JCAABA2LSYckIAAIAqr6JyQgAAwHyprHJCAABAaVG2ckIAAIC7S8ByQgAAAKjzyXJCAABA+u3TckIAAIBM6N1yQgAAgG3r5nJCAADAv+XwckIAAECsjfpyQgAAgP6HBHNCAAAA6y8Oc0IAAEA9KhhzQgAAgI8kInNCAAAAfMwrc0IAAEDOxjVzQgAAwLpuP3NCAAAADWlJc0IAAEBfY1NzQgAAAOa4XHNCAABAOLNmc0IAAMAkW3BzQgAAAHdVenNCAACAY/2Dc0IAAMC1941zQgAAAAjyl3NCAACA9Jmhc0IAAMBGlKtzQgAAQDM8tXNCAACAhTa/c0IAAMDXMMlzQgAAwPgz0nNCAAAASy7cc0IAAIA31uVzQgAAwInQ73NCAABAdnj5c0IAAIDIcgN0QgAAwBptDXRCAABABxUXdEIAAIBZDyF0QgAAAEa3KnRCAABAmLE0dEIAAIDqqz50QgAAgAuvR3RCAADAXalRdEIAAEBKUVt0QgAAgJxLZXRCAAAAifNudEIAAEDb7Xh0QgAAgC3ognRCAAAAGpCMdEIAAEBsipZ0QgAAwFgyoHRCAAAAqyyqdEIAAED9JrR0QgAAQB4qvXRCAACAcCTHdEIAAABdzNB0QgAAQK/G2nRCAADAm27kdEIAAADuaO50QgAAQEBj+HRCAADALAsCdUIAAAB/BQx1QgAAgGutFXVCAADAvacfdUIAAAAQoil1QgAAwJb3MnVCAAAA6fE8dUIAAIDVmUZ1QgAAwCeUUHVCAABAFDxadUIAAIBmNmR1QgAAwLgwbnVCAABApdh3dUIAAID30oF1QgAAAOR6i3VCAABANnWVdUIAAICIb591QgAAgKlyqHVCAADA+2yydUIAAEDoFLx1QgAAgDoPxnVCAAAAJ7fPdUIAAEB5sdl1QgAAgMur43VCAAAAuFPtdUIAAEAKTvd1QgAAwPb1AHZCAAAASfAKdkIAAECb6hR2QgAAQLztHXZCAACADugndkIAAAD7jzF2QgAAQE2KO3ZCAADAOTJFdkIAAACMLE92QgAAQN4mWXZCAADAys5idkIAAAAdyWx2QgAAgAlxdnZCAADAW2uAdkIAAACuZYp2QgAAAM9ok3ZCAABAIWOddkIAAMANC6d2QgAAAGAFsXZCAACATK26dkIAAMCep8R2QgAAAPGhznZCAACA3UnYdkIAAMAvROJ2QgAAQBzs63ZCAACAbub1dkIAAMDA4P92QgAAgEc2CXdCAADAmTATd0IAAECG2Bx3QgAAgNjSJndCAAAAxXowd0IAAEAXdTp3QgAAgGlvRHdCAAAAVhdOd0IAAECoEVh3QgAAwJS5YXdCAAAA57Nrd0IAAEA5rnV3QgAAQFqxfndCAACArKuId0IAAACZU5J3QgAAQOtNnHdCAADA1/Wld0I=\",\"dtype\":\"float64\",\"order\":\"little\",\"shape\":[139]},\"y\":[0,0,0,0,0,0,0,0,0,0,0,4,5,0,3,0,1,0,3,2,3,1,0,4,1,0,5,1,1,3,1,0,0,1,0,2,3,4,4,6,1,1,1,3,6,1,1,1,0,4,3,3,2,1,1,0,2,1,3,1,2,3,0,0,1,1,0,2,1,3,1,1,1,2,2,4,5,0,1,2,2,4,4,1,4,10,7,2,1,0,5,3,3,1,7,6,2,8,7,7,5,8,4,0,3,4,5,2,3,6,4,8,6,5,6,3,5,6,7,9,5,8,3,3,2,4,1,0,4,5,2,5,4,7,7,5,5,3,3]},\"selected\":{\"id\":\"29141\"},\"selection_policy\":{\"id\":\"29142\"}},\"id\":\"29127\",\"type\":\"ColumnDataSource\"},{\"attributes\":{\"source\":{\"id\":\"29127\"}},\"id\":\"29131\",\"type\":\"CDSView\"},{\"attributes\":{},\"id\":\"29068\",\"type\":\"DataRange1d\"},{\"attributes\":{\"line_alpha\":0.1,\"line_color\":\"blue\",\"line_width\":3,\"x\":{\"field\":\"x\"},\"y\":{\"field\":\"y\"}},\"id\":\"29129\",\"type\":\"Line\"},{\"attributes\":{},\"id\":\"29089\",\"type\":\"WheelZoomTool\"},{\"attributes\":{\"axis_label\":\"Year\",\"formatter\":{\"id\":\"29106\"},\"major_label_policy\":{\"id\":\"29105\"},\"ticker\":{\"id\":\"29077\"}},\"id\":\"29076\",\"type\":\"DatetimeAxis\"},{\"attributes\":{\"months\":[0,4,8]},\"id\":\"29121\",\"type\":\"MonthsTicker\"},{\"attributes\":{\"num_minor_ticks\":5,\"tickers\":[{\"id\":\"29112\"},{\"id\":\"29113\"},{\"id\":\"29114\"},{\"id\":\"29115\"},{\"id\":\"29116\"},{\"id\":\"29117\"},{\"id\":\"29118\"},{\"id\":\"29119\"},{\"id\":\"29120\"},{\"id\":\"29121\"},{\"id\":\"29122\"},{\"id\":\"29123\"}]},\"id\":\"29077\",\"type\":\"DatetimeTicker\"},{\"attributes\":{\"data_source\":{\"id\":\"29157\"},\"glyph\":{\"id\":\"29158\"},\"hover_glyph\":null,\"muted_glyph\":null,\"nonselection_glyph\":{\"id\":\"29159\"},\"view\":{\"id\":\"29161\"}},\"id\":\"29160\",\"type\":\"GlyphRenderer\"},{\"attributes\":{\"axis\":{\"id\":\"29080\"},\"dimension\":1,\"ticker\":null},\"id\":\"29083\",\"type\":\"Grid\"}],\"root_ids\":[\"29065\"]},\"title\":\"Bokeh Application\",\"version\":\"2.3.2\"}};\n",
       "  var render_items = [{\"docid\":\"0a9e9ba5-102f-42c3-9312-895216cfade4\",\"root_ids\":[\"29065\"],\"roots\":{\"29065\":\"59da2e76-5178-44be-9144-559d22af1705\"}}];\n",
       "  root.Bokeh.embed.embed_items_notebook(docs_json, render_items);\n",
       "\n",
       "  }\n",
       "  if (root.Bokeh !== undefined) {\n",
       "    embed_document(root);\n",
       "  } else {\n",
       "    var attempts = 0;\n",
       "    var timer = setInterval(function(root) {\n",
       "      if (root.Bokeh !== undefined) {\n",
       "        clearInterval(timer);\n",
       "        embed_document(root);\n",
       "      } else {\n",
       "        attempts++;\n",
       "        if (attempts > 100) {\n",
       "          clearInterval(timer);\n",
       "          console.log(\"Bokeh: ERROR: Unable to run BokehJS code because BokehJS library is missing\");\n",
       "        }\n",
       "      }\n",
       "    }, 10, root)\n",
       "  }\n",
       "})(window);"
      ],
      "application/vnd.bokehjs_exec.v0+json": ""
     },
     "metadata": {
      "application/vnd.bokehjs_exec.v0+json": {
       "id": "29065"
      }
     },
     "output_type": "display_data"
    },
    {
     "data": {
      "text/html": [
       "\n",
       "\n",
       "\n",
       "\n",
       "\n",
       "\n",
       "  <div class=\"bk-root\" id=\"3a2e009e-7cc1-46b0-bb36-5492e82a2c59\" data-root-id=\"30334\"></div>\n"
      ]
     },
     "metadata": {},
     "output_type": "display_data"
    },
    {
     "data": {
      "application/javascript": [
       "(function(root) {\n",
       "  function embed_document(root) {\n",
       "    \n",
       "  var docs_json = {\"6d2f4233-984f-4a37-a4a4-73e3985da57f\":{\"defs\":[],\"roots\":{\"references\":[{\"attributes\":{\"below\":[{\"id\":\"30345\"}],\"center\":[{\"id\":\"30348\"},{\"id\":\"30352\"}],\"left\":[{\"id\":\"30349\"}],\"renderers\":[{\"id\":\"30372\"}],\"right\":[{\"id\":\"30376\"}],\"title\":{\"id\":\"30335\"},\"toolbar\":{\"id\":\"30360\"},\"toolbar_location\":\"above\",\"x_range\":{\"id\":\"30337\"},\"x_scale\":{\"id\":\"30341\"},\"y_range\":{\"id\":\"30339\"},\"y_scale\":{\"id\":\"30343\"}},\"id\":\"30334\",\"subtype\":\"Figure\",\"type\":\"Plot\"},{\"attributes\":{},\"id\":\"30357\",\"type\":\"ResetTool\"},{\"attributes\":{\"overlay\":{\"id\":\"30359\"}},\"id\":\"30356\",\"type\":\"BoxZoomTool\"},{\"attributes\":{\"active_multi\":null,\"tools\":[{\"id\":\"30353\"},{\"id\":\"30354\"},{\"id\":\"30355\"},{\"id\":\"30356\"},{\"id\":\"30357\"},{\"id\":\"30358\"}]},\"id\":\"30360\",\"type\":\"Toolbar\"},{\"attributes\":{},\"id\":\"31109\",\"type\":\"NoOverlap\"},{\"attributes\":{},\"id\":\"30358\",\"type\":\"WheelZoomTool\"},{\"attributes\":{\"axis_label\":\"Year\",\"formatter\":{\"id\":\"31108\"},\"major_label_policy\":{\"id\":\"31107\"},\"ticker\":{\"id\":\"30346\"}},\"id\":\"30345\",\"type\":\"LinearAxis\"},{\"attributes\":{},\"id\":\"30353\",\"type\":\"CrosshairTool\"},{\"attributes\":{},\"id\":\"30355\",\"type\":\"PanTool\"},{\"attributes\":{\"high\":349,\"low\":309,\"palette\":[\"#f7fcfd\",\"#e5f5f9\",\"#ccece6\",\"#99d8c9\",\"#66c2a4\",\"#41ae76\",\"#238b45\",\"#006d2c\",\"#00441b\"]},\"id\":\"30368\",\"type\":\"LinearColorMapper\"},{\"attributes\":{},\"id\":\"30354\",\"type\":\"SaveTool\"},{\"attributes\":{\"desired_num_ticks\":9},\"id\":\"30374\",\"type\":\"BasicTicker\"},{\"attributes\":{\"fill_color\":{\"field\":\"members\",\"transform\":{\"id\":\"30368\"}},\"height\":{\"value\":1},\"line_color\":{\"value\":null},\"width\":{\"value\":2},\"x\":{\"field\":\"year\"},\"y\":{\"field\":\"month\"}},\"id\":\"30370\",\"type\":\"Rect\"},{\"attributes\":{},\"id\":\"31111\",\"type\":\"AllLabels\"},{\"attributes\":{},\"id\":\"31112\",\"type\":\"BasicTickFormatter\"},{\"attributes\":{},\"id\":\"31107\",\"type\":\"AllLabels\"},{\"attributes\":{\"axis\":{\"id\":\"30345\"},\"ticker\":null},\"id\":\"30348\",\"type\":\"Grid\"},{\"attributes\":{\"data\":{\"canceledcontracts\":[3,4,7,5,3,4,1,2,4,3,1,4,6],\"canceledmembers\":[0,0,0,0,0,0,0,0,0,1,0,0,0],\"canceledselfconsumptioncontracts\":[0,0,0,0,0,0,0,0,0,0,0,0,1],\"contracts\":[454,469,481,485,488,493,496,501,504,510,518,527,531],\"index\":[0,1,2,3,4,5,6,7,8,9,10,11,12],\"members\":[309,317,320,323,325,329,330,330,334,338,340,345,349],\"month\":[1,2,3,4,5,6,7,8,9,10,11,12,1],\"newcontracts\":[8,19,19,9,6,9,4,7,7,9,9,13,10],\"newmembers\":[5,8,3,3,2,4,1,0,4,5,2,5,4],\"newselfconsumptioncontracts\":[1,1,1,4,3,3,0,2,1,1,3,3,1],\"selfconsumptioncontracts\":[3,4,5,9,12,15,15,17,18,19,22,25,25],\"year\":[2020,2020,2020,2020,2020,2020,2020,2020,2020,2020,2020,2020,2021]},\"selected\":{\"id\":\"31113\"},\"selection_policy\":{\"id\":\"31114\"}},\"id\":\"30367\",\"type\":\"ColumnDataSource\"},{\"attributes\":{\"axis_label\":\"Month\",\"formatter\":{\"id\":\"31112\"},\"major_label_policy\":{\"id\":\"31111\"},\"ticker\":{\"id\":\"30350\"}},\"id\":\"30349\",\"type\":\"LinearAxis\"},{\"attributes\":{},\"id\":\"30343\",\"type\":\"LinearScale\"},{\"attributes\":{\"axis\":{\"id\":\"30349\"},\"dimension\":1,\"ticker\":null},\"id\":\"30352\",\"type\":\"Grid\"},{\"attributes\":{\"fill_alpha\":{\"value\":0.1},\"fill_color\":{\"field\":\"members\",\"transform\":{\"id\":\"30368\"}},\"height\":{\"value\":1},\"line_alpha\":{\"value\":0.1},\"line_color\":{\"value\":null},\"width\":{\"value\":2},\"x\":{\"field\":\"year\"},\"y\":{\"field\":\"month\"}},\"id\":\"30371\",\"type\":\"Rect\"},{\"attributes\":{},\"id\":\"30339\",\"type\":\"DataRange1d\"},{\"attributes\":{\"bottom_units\":\"screen\",\"fill_alpha\":0.5,\"fill_color\":\"lightgrey\",\"left_units\":\"screen\",\"level\":\"overlay\",\"line_alpha\":1.0,\"line_color\":\"black\",\"line_dash\":[4,4],\"line_width\":2,\"right_units\":\"screen\",\"syncable\":false,\"top_units\":\"screen\"},\"id\":\"30359\",\"type\":\"BoxAnnotation\"},{\"attributes\":{},\"id\":\"30337\",\"type\":\"DataRange1d\"},{\"attributes\":{\"source\":{\"id\":\"30367\"}},\"id\":\"30373\",\"type\":\"CDSView\"},{\"attributes\":{},\"id\":\"31113\",\"type\":\"Selection\"},{\"attributes\":{},\"id\":\"30346\",\"type\":\"BasicTicker\"},{\"attributes\":{},\"id\":\"31108\",\"type\":\"BasicTickFormatter\"},{\"attributes\":{},\"id\":\"30350\",\"type\":\"BasicTicker\"},{\"attributes\":{},\"id\":\"31114\",\"type\":\"UnionRenderers\"},{\"attributes\":{\"color_mapper\":{\"id\":\"30368\"},\"formatter\":{\"id\":\"30375\"},\"label_standoff\":6,\"location\":[0,0],\"major_label_policy\":{\"id\":\"31109\"},\"major_label_text_font_size\":\"10pt\",\"ticker\":{\"id\":\"30374\"}},\"id\":\"30376\",\"type\":\"ColorBar\"},{\"attributes\":{\"text\":\"Year Month members\"},\"id\":\"30335\",\"type\":\"Title\"},{\"attributes\":{},\"id\":\"30375\",\"type\":\"PrintfTickFormatter\"},{\"attributes\":{\"data_source\":{\"id\":\"30367\"},\"glyph\":{\"id\":\"30370\"},\"hover_glyph\":null,\"muted_glyph\":null,\"nonselection_glyph\":{\"id\":\"30371\"},\"view\":{\"id\":\"30373\"}},\"id\":\"30372\",\"type\":\"GlyphRenderer\"},{\"attributes\":{},\"id\":\"30341\",\"type\":\"LinearScale\"}],\"root_ids\":[\"30334\"]},\"title\":\"Bokeh Application\",\"version\":\"2.3.2\"}};\n",
       "  var render_items = [{\"docid\":\"6d2f4233-984f-4a37-a4a4-73e3985da57f\",\"root_ids\":[\"30334\"],\"roots\":{\"30334\":\"3a2e009e-7cc1-46b0-bb36-5492e82a2c59\"}}];\n",
       "  root.Bokeh.embed.embed_items_notebook(docs_json, render_items);\n",
       "\n",
       "  }\n",
       "  if (root.Bokeh !== undefined) {\n",
       "    embed_document(root);\n",
       "  } else {\n",
       "    var attempts = 0;\n",
       "    var timer = setInterval(function(root) {\n",
       "      if (root.Bokeh !== undefined) {\n",
       "        clearInterval(timer);\n",
       "        embed_document(root);\n",
       "      } else {\n",
       "        attempts++;\n",
       "        if (attempts > 100) {\n",
       "          clearInterval(timer);\n",
       "          console.log(\"Bokeh: ERROR: Unable to run BokehJS code because BokehJS library is missing\");\n",
       "        }\n",
       "      }\n",
       "    }, 10, root)\n",
       "  }\n",
       "})(window);"
      ],
      "application/vnd.bokehjs_exec.v0+json": ""
     },
     "metadata": {
      "application/vnd.bokehjs_exec.v0+json": {
       "id": "30334"
      }
     },
     "output_type": "display_data"
    },
    {
     "data": {
      "text/html": [
       "\n",
       "\n",
       "\n",
       "\n",
       "\n",
       "\n",
       "  <div class=\"bk-root\" id=\"2bb85be8-ff4c-4788-ac68-5d862b4d6fb6\" data-root-id=\"31293\"></div>\n"
      ]
     },
     "metadata": {},
     "output_type": "display_data"
    },
    {
     "data": {
      "application/javascript": [
       "(function(root) {\n",
       "  function embed_document(root) {\n",
       "    \n",
       "  var docs_json = {\"9f25016d-ede7-4b3c-8b84-5584cf07ee99\":{\"defs\":[],\"roots\":{\"references\":[{\"attributes\":{\"below\":[{\"id\":\"31304\"}],\"center\":[{\"id\":\"31307\"},{\"id\":\"31311\"}],\"height\":350,\"left\":[{\"id\":\"31308\"}],\"outline_line_color\":null,\"renderers\":[{\"id\":\"31329\"}],\"title\":{\"id\":\"31294\"},\"toolbar\":{\"id\":\"31319\"},\"toolbar_location\":\"above\",\"x_range\":{\"id\":\"31296\"},\"x_scale\":{\"id\":\"31300\"},\"y_range\":{\"id\":\"31298\"},\"y_scale\":{\"id\":\"31302\"}},\"id\":\"31293\",\"subtype\":\"Figure\",\"type\":\"Plot\"},{\"attributes\":{\"text\":\"AVG members\"},\"id\":\"31294\",\"type\":\"Title\"},{\"attributes\":{\"overlay\":{\"id\":\"31318\"}},\"id\":\"31314\",\"type\":\"BoxZoomTool\"},{\"attributes\":{},\"id\":\"31317\",\"type\":\"HelpTool\"},{\"attributes\":{},\"id\":\"31313\",\"type\":\"WheelZoomTool\"},{\"attributes\":{},\"id\":\"31312\",\"type\":\"PanTool\"},{\"attributes\":{},\"id\":\"31315\",\"type\":\"SaveTool\"},{\"attributes\":{\"axis_label\":\"AVG members\",\"formatter\":{\"id\":\"32076\"},\"major_label_policy\":{\"id\":\"32075\"},\"minor_tick_line_color\":null,\"ticker\":{\"id\":\"31309\"}},\"id\":\"31308\",\"type\":\"LinearAxis\"},{\"attributes\":{},\"id\":\"31309\",\"type\":\"BasicTicker\"},{\"attributes\":{\"active_multi\":null,\"tools\":[{\"id\":\"31312\"},{\"id\":\"31313\"},{\"id\":\"31314\"},{\"id\":\"31315\"},{\"id\":\"31316\"},{\"id\":\"31317\"}]},\"id\":\"31319\",\"type\":\"Toolbar\"},{\"attributes\":{\"axis\":{\"id\":\"31308\"},\"dimension\":1,\"ticker\":null},\"id\":\"31311\",\"type\":\"Grid\"},{\"attributes\":{},\"id\":\"31316\",\"type\":\"ResetTool\"},{\"attributes\":{\"fill_color\":{\"value\":\"#1f77b4\"},\"line_color\":{\"value\":\"#1f77b4\"},\"top\":{\"field\":\"top\"},\"width\":{\"value\":0.9},\"x\":{\"field\":\"x\"}},\"id\":\"31327\",\"type\":\"VBar\"},{\"attributes\":{},\"id\":\"31296\",\"type\":\"DataRange1d\"},{\"attributes\":{},\"id\":\"31300\",\"type\":\"LinearScale\"},{\"attributes\":{\"start\":0},\"id\":\"31298\",\"type\":\"DataRange1d\"},{\"attributes\":{},\"id\":\"32075\",\"type\":\"AllLabels\"},{\"attributes\":{\"data\":{\"top\":[309,317,320,323,325,329,330,330,334,338,340,345,349],\"x\":[1,2,3,4,5,6,7,8,9,10,11,12,1]},\"selected\":{\"id\":\"32077\"},\"selection_policy\":{\"id\":\"32078\"}},\"id\":\"31326\",\"type\":\"ColumnDataSource\"},{\"attributes\":{\"fill_alpha\":{\"value\":0.1},\"fill_color\":{\"value\":\"#1f77b4\"},\"line_alpha\":{\"value\":0.1},\"line_color\":{\"value\":\"#1f77b4\"},\"top\":{\"field\":\"top\"},\"width\":{\"value\":0.9},\"x\":{\"field\":\"x\"}},\"id\":\"31328\",\"type\":\"VBar\"},{\"attributes\":{},\"id\":\"31302\",\"type\":\"LinearScale\"},{\"attributes\":{\"source\":{\"id\":\"31326\"}},\"id\":\"31330\",\"type\":\"CDSView\"},{\"attributes\":{},\"id\":\"32076\",\"type\":\"BasicTickFormatter\"},{\"attributes\":{\"data_source\":{\"id\":\"31326\"},\"glyph\":{\"id\":\"31327\"},\"hover_glyph\":null,\"muted_glyph\":null,\"nonselection_glyph\":{\"id\":\"31328\"},\"view\":{\"id\":\"31330\"}},\"id\":\"31329\",\"type\":\"GlyphRenderer\"},{\"attributes\":{\"axis_label\":\"Month\",\"formatter\":{\"id\":\"32073\"},\"major_label_policy\":{\"id\":\"32072\"},\"minor_tick_line_color\":null,\"ticker\":{\"id\":\"31305\"}},\"id\":\"31304\",\"type\":\"LinearAxis\"},{\"attributes\":{},\"id\":\"32073\",\"type\":\"BasicTickFormatter\"},{\"attributes\":{\"bottom_units\":\"screen\",\"fill_alpha\":0.5,\"fill_color\":\"lightgrey\",\"left_units\":\"screen\",\"level\":\"overlay\",\"line_alpha\":1.0,\"line_color\":\"black\",\"line_dash\":[4,4],\"line_width\":2,\"right_units\":\"screen\",\"syncable\":false,\"top_units\":\"screen\"},\"id\":\"31318\",\"type\":\"BoxAnnotation\"},{\"attributes\":{},\"id\":\"32077\",\"type\":\"Selection\"},{\"attributes\":{},\"id\":\"31305\",\"type\":\"BasicTicker\"},{\"attributes\":{},\"id\":\"32078\",\"type\":\"UnionRenderers\"},{\"attributes\":{\"axis\":{\"id\":\"31304\"},\"grid_line_color\":null,\"ticker\":null},\"id\":\"31307\",\"type\":\"Grid\"},{\"attributes\":{},\"id\":\"32072\",\"type\":\"AllLabels\"}],\"root_ids\":[\"31293\"]},\"title\":\"Bokeh Application\",\"version\":\"2.3.2\"}};\n",
       "  var render_items = [{\"docid\":\"9f25016d-ede7-4b3c-8b84-5584cf07ee99\",\"root_ids\":[\"31293\"],\"roots\":{\"31293\":\"2bb85be8-ff4c-4788-ac68-5d862b4d6fb6\"}}];\n",
       "  root.Bokeh.embed.embed_items_notebook(docs_json, render_items);\n",
       "\n",
       "  }\n",
       "  if (root.Bokeh !== undefined) {\n",
       "    embed_document(root);\n",
       "  } else {\n",
       "    var attempts = 0;\n",
       "    var timer = setInterval(function(root) {\n",
       "      if (root.Bokeh !== undefined) {\n",
       "        clearInterval(timer);\n",
       "        embed_document(root);\n",
       "      } else {\n",
       "        attempts++;\n",
       "        if (attempts > 100) {\n",
       "          clearInterval(timer);\n",
       "          console.log(\"Bokeh: ERROR: Unable to run BokehJS code because BokehJS library is missing\");\n",
       "        }\n",
       "      }\n",
       "    }, 10, root)\n",
       "  }\n",
       "})(window);"
      ],
      "application/vnd.bokehjs_exec.v0+json": ""
     },
     "metadata": {
      "application/vnd.bokehjs_exec.v0+json": {
       "id": "31293"
      }
     },
     "output_type": "display_data"
    },
    {
     "data": {
      "text/html": [
       "\n",
       "\n",
       "\n",
       "\n",
       "\n",
       "\n",
       "  <div class=\"bk-root\" id=\"fd6819a2-dfbc-4d74-8ccf-11a168999de2\" data-root-id=\"32241\"></div>\n"
      ]
     },
     "metadata": {},
     "output_type": "display_data"
    },
    {
     "data": {
      "application/javascript": [
       "(function(root) {\n",
       "  function embed_document(root) {\n",
       "    \n",
       "  var docs_json = {\"ba4fd5b6-24f0-410e-a03f-2cc5c03a0015\":{\"defs\":[],\"roots\":{\"references\":[{\"attributes\":{\"below\":[{\"id\":\"32252\"}],\"center\":[{\"id\":\"32255\"},{\"id\":\"32259\"},{\"id\":\"32301\"}],\"left\":[{\"id\":\"32256\"}],\"renderers\":[{\"id\":\"32277\"},{\"id\":\"32306\"},{\"id\":\"32336\"}],\"title\":{\"id\":\"32242\"},\"toolbar\":{\"id\":\"32267\"},\"x_range\":{\"id\":\"32244\"},\"x_scale\":{\"id\":\"32248\"},\"y_range\":{\"id\":\"32246\"},\"y_scale\":{\"id\":\"32250\"}},\"id\":\"32241\",\"subtype\":\"Figure\",\"type\":\"Plot\"},{\"attributes\":{},\"id\":\"32317\",\"type\":\"Selection\"},{\"attributes\":{},\"id\":\"32260\",\"type\":\"CrosshairTool\"},{\"attributes\":{\"data\":{\"x\":{\"__ndarray__\":\"AACA53JeckIAAMA5bWhyQgAAwFpwcXJCAAAArWp7ckIAAICZEoVyQgAAwOsMj3JCAABA2LSYckIAAIAqr6JyQgAAwHyprHJCAABAaVG2ckIAAIC7S8ByQgAAAKjzyXJCAABA+u3TckIAAIBM6N1yQgAAgG3r5nJCAADAv+XwckIAAECsjfpyQgAAgP6HBHNCAAAA6y8Oc0IAAEA9KhhzQgAAgI8kInNCAAAAfMwrc0IAAEDOxjVzQgAAwLpuP3NCAAAADWlJc0IAAEBfY1NzQgAAAOa4XHNCAABAOLNmc0IAAMAkW3BzQgAAAHdVenNCAACAY/2Dc0IAAMC1941zQgAAAAjyl3NCAACA9Jmhc0IAAMBGlKtzQgAAQDM8tXNCAACAhTa/c0IAAMDXMMlzQgAAwPgz0nNCAAAASy7cc0IAAIA31uVzQgAAwInQ73NCAABAdnj5c0IAAIDIcgN0QgAAwBptDXRCAABABxUXdEIAAIBZDyF0QgAAAEa3KnRCAABAmLE0dEIAAIDqqz50QgAAgAuvR3RCAADAXalRdEIAAEBKUVt0QgAAgJxLZXRCAAAAifNudEIAAEDb7Xh0QgAAgC3ognRCAAAAGpCMdEIAAEBsipZ0QgAAwFgyoHRCAAAAqyyqdEIAAED9JrR0QgAAQB4qvXRCAACAcCTHdEIAAABdzNB0QgAAQK/G2nRCAADAm27kdEIAAADuaO50QgAAQEBj+HRCAADALAsCdUIAAAB/BQx1QgAAgGutFXVCAADAvacfdUIAAAAQoil1QgAAwJb3MnVCAAAA6fE8dUIAAIDVmUZ1QgAAwCeUUHVCAABAFDxadUIAAIBmNmR1QgAAwLgwbnVCAABApdh3dUIAAID30oF1QgAAAOR6i3VCAABANnWVdUIAAICIb591QgAAgKlyqHVCAADA+2yydUIAAEDoFLx1QgAAgDoPxnVCAAAAJ7fPdUIAAEB5sdl1QgAAgMur43VCAAAAuFPtdUIAAEAKTvd1QgAAwPb1AHZCAAAASfAKdkIAAECb6hR2QgAAQLztHXZCAACADugndkIAAAD7jzF2QgAAQE2KO3ZCAADAOTJFdkIAAACMLE92QgAAQN4mWXZCAADAys5idkIAAAAdyWx2QgAAgAlxdnZCAADAW2uAdkIAAACuZYp2QgAAAM9ok3ZCAABAIWOddkIAAMANC6d2QgAAAGAFsXZCAACATK26dkIAAMCep8R2QgAAAPGhznZCAACA3UnYdkIAAMAvROJ2QgAAQBzs63ZCAACAbub1dkIAAMDA4P92QgAAgEc2CXdCAADAmTATd0IAAECG2Bx3QgAAgNjSJndCAAAAxXowd0IAAEAXdTp3QgAAgGlvRHdCAAAAVhdOd0IAAECoEVh3QgAAwJS5YXdCAAAA57Nrd0IAAEA5rnV3QgAAQFqxfndCAACArKuId0IAAACZU5J3QgAAQOtNnHdCAADA1/Wld0I=\",\"dtype\":\"float64\",\"order\":\"little\",\"shape\":[139]},\"y\":[0,0,0,0,0,0,0,0,0,0,0,0,0,0,0,0,0,0,0,0,0,0,0,0,0,0,4,5,9,9,11,11,11,12,13,16,18,21,25,25,30,35,36,38,41,45,49,52,54,57,57,58,59,61,63,66,68,70,72,77,79,81,86,87,87,87,88,90,93,95,98,99,102,105,107,108,115,116,121,123,128,134,139,148,148,157,176,183,189,193,194,197,206,207,212,230,240,246,261,272,282,289,292,296,301,309,318,330,338,353,360,374,388,392,398,405,416,423,436,449,454,469,481,485,488,493,496,501,504,510,518,527,531,545,553,561,571,576,581]},\"selected\":{\"id\":\"32286\"},\"selection_policy\":{\"id\":\"32287\"}},\"id\":\"32274\",\"type\":\"ColumnDataSource\"},{\"attributes\":{},\"id\":\"32284\",\"type\":\"AllLabels\"},{\"attributes\":{},\"id\":\"32261\",\"type\":\"SaveTool\"},{\"attributes\":{},\"id\":\"32318\",\"type\":\"UnionRenderers\"},{\"attributes\":{},\"id\":\"32246\",\"type\":\"DataRange1d\"},{\"attributes\":{},\"id\":\"32285\",\"type\":\"BasicTickFormatter\"},{\"attributes\":{},\"id\":\"32248\",\"type\":\"LinearScale\"},{\"attributes\":{\"active_multi\":null,\"tools\":[{\"id\":\"32260\"},{\"id\":\"32261\"},{\"id\":\"32262\"},{\"id\":\"32263\"},{\"id\":\"32264\"},{\"id\":\"32265\"}]},\"id\":\"32267\",\"type\":\"Toolbar\"},{\"attributes\":{},\"id\":\"32257\",\"type\":\"BasicTicker\"},{\"attributes\":{\"data_source\":{\"id\":\"32274\"},\"glyph\":{\"id\":\"32275\"},\"hover_glyph\":null,\"muted_glyph\":null,\"nonselection_glyph\":{\"id\":\"32276\"},\"view\":{\"id\":\"32278\"}},\"id\":\"32277\",\"type\":\"GlyphRenderer\"},{\"attributes\":{},\"id\":\"32262\",\"type\":\"PanTool\"},{\"attributes\":{\"label\":{\"value\":\"Canceled contracts\"},\"renderers\":[{\"id\":\"32336\"}]},\"id\":\"32364\",\"type\":\"LegendItem\"},{\"attributes\":{\"axis\":{\"id\":\"32256\"},\"dimension\":1,\"ticker\":null},\"id\":\"32259\",\"type\":\"Grid\"},{\"attributes\":{\"data_source\":{\"id\":\"32303\"},\"glyph\":{\"id\":\"32304\"},\"hover_glyph\":null,\"muted_glyph\":null,\"nonselection_glyph\":{\"id\":\"32305\"},\"view\":{\"id\":\"32307\"}},\"id\":\"32306\",\"type\":\"GlyphRenderer\"},{\"attributes\":{},\"id\":\"32250\",\"type\":\"LinearScale\"},{\"attributes\":{},\"id\":\"32264\",\"type\":\"ResetTool\"},{\"attributes\":{\"num_minor_ticks\":5,\"tickers\":[{\"id\":\"32288\"},{\"id\":\"32289\"},{\"id\":\"32290\"},{\"id\":\"32291\"},{\"id\":\"32292\"},{\"id\":\"32293\"},{\"id\":\"32294\"},{\"id\":\"32295\"},{\"id\":\"32296\"},{\"id\":\"32297\"},{\"id\":\"32298\"},{\"id\":\"32299\"}]},\"id\":\"32253\",\"type\":\"DatetimeTicker\"},{\"attributes\":{},\"id\":\"32286\",\"type\":\"Selection\"},{\"attributes\":{\"axis\":{\"id\":\"32252\"},\"ticker\":null},\"id\":\"32255\",\"type\":\"Grid\"},{\"attributes\":{\"label\":{\"value\":\"New contracts\"},\"renderers\":[{\"id\":\"32306\"}]},\"id\":\"32332\",\"type\":\"LegendItem\"},{\"attributes\":{\"data\":{\"x\":{\"__ndarray__\":\"AACA53JeckIAAMA5bWhyQgAAwFpwcXJCAAAArWp7ckIAAICZEoVyQgAAwOsMj3JCAABA2LSYckIAAIAqr6JyQgAAwHyprHJCAABAaVG2ckIAAIC7S8ByQgAAAKjzyXJCAABA+u3TckIAAIBM6N1yQgAAgG3r5nJCAADAv+XwckIAAECsjfpyQgAAgP6HBHNCAAAA6y8Oc0IAAEA9KhhzQgAAgI8kInNCAAAAfMwrc0IAAEDOxjVzQgAAwLpuP3NCAAAADWlJc0IAAEBfY1NzQgAAAOa4XHNCAABAOLNmc0IAAMAkW3BzQgAAAHdVenNCAACAY/2Dc0IAAMC1941zQgAAAAjyl3NCAACA9Jmhc0IAAMBGlKtzQgAAQDM8tXNCAACAhTa/c0IAAMDXMMlzQgAAwPgz0nNCAAAASy7cc0IAAIA31uVzQgAAwInQ73NCAABAdnj5c0IAAIDIcgN0QgAAwBptDXRCAABABxUXdEIAAIBZDyF0QgAAAEa3KnRCAABAmLE0dEIAAIDqqz50QgAAgAuvR3RCAADAXalRdEIAAEBKUVt0QgAAgJxLZXRCAAAAifNudEIAAEDb7Xh0QgAAgC3ognRCAAAAGpCMdEIAAEBsipZ0QgAAwFgyoHRCAAAAqyyqdEIAAED9JrR0QgAAQB4qvXRCAACAcCTHdEIAAABdzNB0QgAAQK/G2nRCAADAm27kdEIAAADuaO50QgAAQEBj+HRCAADALAsCdUIAAAB/BQx1QgAAgGutFXVCAADAvacfdUIAAAAQoil1QgAAwJb3MnVCAAAA6fE8dUIAAIDVmUZ1QgAAwCeUUHVCAABAFDxadUIAAIBmNmR1QgAAwLgwbnVCAABApdh3dUIAAID30oF1QgAAAOR6i3VCAABANnWVdUIAAICIb591QgAAgKlyqHVCAADA+2yydUIAAEDoFLx1QgAAgDoPxnVCAAAAJ7fPdUIAAEB5sdl1QgAAgMur43VCAAAAuFPtdUIAAEAKTvd1QgAAwPb1AHZCAAAASfAKdkIAAECb6hR2QgAAQLztHXZCAACADugndkIAAAD7jzF2QgAAQE2KO3ZCAADAOTJFdkIAAACMLE92QgAAQN4mWXZCAADAys5idkIAAAAdyWx2QgAAgAlxdnZCAADAW2uAdkIAAACuZYp2QgAAAM9ok3ZCAABAIWOddkIAAMANC6d2QgAAAGAFsXZCAACATK26dkIAAMCep8R2QgAAAPGhznZCAACA3UnYdkIAAMAvROJ2QgAAQBzs63ZCAACAbub1dkIAAMDA4P92QgAAgEc2CXdCAADAmTATd0IAAECG2Bx3QgAAgNjSJndCAAAAxXowd0IAAEAXdTp3QgAAgGlvRHdCAAAAVhdOd0IAAECoEVh3QgAAwJS5YXdCAAAA57Nrd0IAAEA5rnV3QgAAQFqxfndCAACArKuId0IAAACZU5J3QgAAQOtNnHdCAADA1/Wld0I=\",\"dtype\":\"float64\",\"order\":\"little\",\"shape\":[139]},\"y\":[0,0,0,0,0,0,0,0,0,0,0,0,0,0,0,0,0,0,0,0,0,0,0,0,0,0,0,0,0,0,0,0,0,0,0,0,0,0,0,0,0,0,0,0,0,0,0,0,0,1,0,0,0,0,0,0,0,0,0,0,0,0,0,0,0,0,0,0,0,0,1,2,0,2,0,0,0,1,1,1,0,0,1,0,3,1,1,2,0,0,3,1,1,1,1,0,1,3,0,3,1,1,1,0,1,4,2,7,1,4,2,4,3,5,1,6,4,0,2,2,3,4,7,5,3,4,1,2,4,3,1,4,6,7,2,7,1,3,8]},\"selected\":{\"id\":\"32349\"},\"selection_policy\":{\"id\":\"32350\"}},\"id\":\"32333\",\"type\":\"ColumnDataSource\"},{\"attributes\":{\"axis_label\":\"Year\",\"formatter\":{\"id\":\"32282\"},\"major_label_policy\":{\"id\":\"32281\"},\"ticker\":{\"id\":\"32253\"}},\"id\":\"32252\",\"type\":\"DatetimeAxis\"},{\"attributes\":{},\"id\":\"32281\",\"type\":\"AllLabels\"},{\"attributes\":{},\"id\":\"32265\",\"type\":\"WheelZoomTool\"},{\"attributes\":{},\"id\":\"32287\",\"type\":\"UnionRenderers\"},{\"attributes\":{},\"id\":\"32282\",\"type\":\"DatetimeTickFormatter\"},{\"attributes\":{\"line_alpha\":0.1,\"line_color\":\"coral\",\"line_width\":3,\"x\":{\"field\":\"x\"},\"y\":{\"field\":\"y\"}},\"id\":\"32335\",\"type\":\"Line\"},{\"attributes\":{\"line_color\":\"coral\",\"line_width\":3,\"x\":{\"field\":\"x\"},\"y\":{\"field\":\"y\"}},\"id\":\"32334\",\"type\":\"Line\"},{\"attributes\":{\"data\":{\"x\":{\"__ndarray__\":\"AACA53JeckIAAMA5bWhyQgAAwFpwcXJCAAAArWp7ckIAAICZEoVyQgAAwOsMj3JCAABA2LSYckIAAIAqr6JyQgAAwHyprHJCAABAaVG2ckIAAIC7S8ByQgAAAKjzyXJCAABA+u3TckIAAIBM6N1yQgAAgG3r5nJCAADAv+XwckIAAECsjfpyQgAAgP6HBHNCAAAA6y8Oc0IAAEA9KhhzQgAAgI8kInNCAAAAfMwrc0IAAEDOxjVzQgAAwLpuP3NCAAAADWlJc0IAAEBfY1NzQgAAAOa4XHNCAABAOLNmc0IAAMAkW3BzQgAAAHdVenNCAACAY/2Dc0IAAMC1941zQgAAAAjyl3NCAACA9Jmhc0IAAMBGlKtzQgAAQDM8tXNCAACAhTa/c0IAAMDXMMlzQgAAwPgz0nNCAAAASy7cc0IAAIA31uVzQgAAwInQ73NCAABAdnj5c0IAAIDIcgN0QgAAwBptDXRCAABABxUXdEIAAIBZDyF0QgAAAEa3KnRCAABAmLE0dEIAAIDqqz50QgAAgAuvR3RCAADAXalRdEIAAEBKUVt0QgAAgJxLZXRCAAAAifNudEIAAEDb7Xh0QgAAgC3ognRCAAAAGpCMdEIAAEBsipZ0QgAAwFgyoHRCAAAAqyyqdEIAAED9JrR0QgAAQB4qvXRCAACAcCTHdEIAAABdzNB0QgAAQK/G2nRCAADAm27kdEIAAADuaO50QgAAQEBj+HRCAADALAsCdUIAAAB/BQx1QgAAgGutFXVCAADAvacfdUIAAAAQoil1QgAAwJb3MnVCAAAA6fE8dUIAAIDVmUZ1QgAAwCeUUHVCAABAFDxadUIAAIBmNmR1QgAAwLgwbnVCAABApdh3dUIAAID30oF1QgAAAOR6i3VCAABANnWVdUIAAICIb591QgAAgKlyqHVCAADA+2yydUIAAEDoFLx1QgAAgDoPxnVCAAAAJ7fPdUIAAEB5sdl1QgAAgMur43VCAAAAuFPtdUIAAEAKTvd1QgAAwPb1AHZCAAAASfAKdkIAAECb6hR2QgAAQLztHXZCAACADugndkIAAAD7jzF2QgAAQE2KO3ZCAADAOTJFdkIAAACMLE92QgAAQN4mWXZCAADAys5idkIAAAAdyWx2QgAAgAlxdnZCAADAW2uAdkIAAACuZYp2QgAAAM9ok3ZCAABAIWOddkIAAMANC6d2QgAAAGAFsXZCAACATK26dkIAAMCep8R2QgAAAPGhznZCAACA3UnYdkIAAMAvROJ2QgAAQBzs63ZCAACAbub1dkIAAMDA4P92QgAAgEc2CXdCAADAmTATd0IAAECG2Bx3QgAAgNjSJndCAAAAxXowd0IAAEAXdTp3QgAAgGlvRHdCAAAAVhdOd0IAAECoEVh3QgAAwJS5YXdCAAAA57Nrd0IAAEA5rnV3QgAAQFqxfndCAACArKuId0IAAACZU5J3QgAAQOtNnHdCAADA1/Wld0I=\",\"dtype\":\"float64\",\"order\":\"little\",\"shape\":[139]},\"y\":[0,0,0,0,0,0,0,0,0,0,0,0,0,0,0,0,0,0,0,0,0,0,0,0,0,0,4,1,4,0,2,0,0,1,1,3,2,3,4,0,5,5,1,2,3,4,4,3,2,4,0,1,1,2,2,3,2,2,2,5,2,2,5,1,0,0,1,2,3,2,4,3,3,5,2,1,7,2,6,3,5,6,6,9,3,10,20,9,6,4,4,4,10,2,6,18,11,9,15,14,11,8,4,4,6,12,11,19,9,19,9,18,16,8,7,13,15,7,14,15,8,19,19,9,6,9,4,7,7,9,9,13,10,21,10,14,11,8,13]},\"selected\":{\"id\":\"32317\"},\"selection_policy\":{\"id\":\"32318\"}},\"id\":\"32303\",\"type\":\"ColumnDataSource\"},{\"attributes\":{\"items\":[{\"id\":\"32302\"},{\"id\":\"32332\"},{\"id\":\"32364\"}],\"location\":\"top_left\"},\"id\":\"32301\",\"type\":\"Legend\"},{\"attributes\":{\"line_color\":\"blue\",\"line_width\":3,\"x\":{\"field\":\"x\"},\"y\":{\"field\":\"y\"}},\"id\":\"32304\",\"type\":\"Line\"},{\"attributes\":{},\"id\":\"32244\",\"type\":\"DataRange1d\"},{\"attributes\":{\"source\":{\"id\":\"32303\"}},\"id\":\"32307\",\"type\":\"CDSView\"},{\"attributes\":{\"source\":{\"id\":\"32333\"}},\"id\":\"32337\",\"type\":\"CDSView\"},{\"attributes\":{\"label\":{\"value\":\"contracts\"},\"renderers\":[{\"id\":\"32277\"}]},\"id\":\"32302\",\"type\":\"LegendItem\"},{\"attributes\":{\"line_alpha\":0.1,\"line_color\":\"blue\",\"line_width\":3,\"x\":{\"field\":\"x\"},\"y\":{\"field\":\"y\"}},\"id\":\"32305\",\"type\":\"Line\"},{\"attributes\":{\"mantissas\":[1,2,5],\"max_interval\":500.0,\"num_minor_ticks\":0},\"id\":\"32288\",\"type\":\"AdaptiveTicker\"},{\"attributes\":{\"text\":\"All contracts, New and Canceled contracts\"},\"id\":\"32242\",\"type\":\"Title\"},{\"attributes\":{\"base\":60,\"mantissas\":[1,2,5,10,15,20,30],\"max_interval\":1800000.0,\"min_interval\":1000.0,\"num_minor_ticks\":0},\"id\":\"32289\",\"type\":\"AdaptiveTicker\"},{\"attributes\":{\"days\":[1,2,3,4,5,6,7,8,9,10,11,12,13,14,15,16,17,18,19,20,21,22,23,24,25,26,27,28,29,30,31]},\"id\":\"32291\",\"type\":\"DaysTicker\"},{\"attributes\":{\"data_source\":{\"id\":\"32333\"},\"glyph\":{\"id\":\"32334\"},\"hover_glyph\":null,\"muted_glyph\":null,\"nonselection_glyph\":{\"id\":\"32335\"},\"view\":{\"id\":\"32337\"}},\"id\":\"32336\",\"type\":\"GlyphRenderer\"},{\"attributes\":{\"base\":24,\"mantissas\":[1,2,4,6,8,12],\"max_interval\":43200000.0,\"min_interval\":3600000.0,\"num_minor_ticks\":0},\"id\":\"32290\",\"type\":\"AdaptiveTicker\"},{\"attributes\":{\"months\":[0,1,2,3,4,5,6,7,8,9,10,11]},\"id\":\"32295\",\"type\":\"MonthsTicker\"},{\"attributes\":{\"line_alpha\":0.1,\"line_color\":\"purple\",\"line_width\":3,\"x\":{\"field\":\"x\"},\"y\":{\"field\":\"y\"}},\"id\":\"32276\",\"type\":\"Line\"},{\"attributes\":{\"months\":[0,2,4,6,8,10]},\"id\":\"32296\",\"type\":\"MonthsTicker\"},{\"attributes\":{\"source\":{\"id\":\"32274\"}},\"id\":\"32278\",\"type\":\"CDSView\"},{\"attributes\":{\"days\":[1,4,7,10,13,16,19,22,25,28]},\"id\":\"32292\",\"type\":\"DaysTicker\"},{\"attributes\":{\"line_color\":\"purple\",\"line_width\":3,\"x\":{\"field\":\"x\"},\"y\":{\"field\":\"y\"}},\"id\":\"32275\",\"type\":\"Line\"},{\"attributes\":{\"days\":[1,15]},\"id\":\"32294\",\"type\":\"DaysTicker\"},{\"attributes\":{\"months\":[0,6]},\"id\":\"32298\",\"type\":\"MonthsTicker\"},{\"attributes\":{},\"id\":\"32349\",\"type\":\"Selection\"},{\"attributes\":{\"days\":[1,8,15,22]},\"id\":\"32293\",\"type\":\"DaysTicker\"},{\"attributes\":{},\"id\":\"32299\",\"type\":\"YearsTicker\"},{\"attributes\":{\"months\":[0,4,8]},\"id\":\"32297\",\"type\":\"MonthsTicker\"},{\"attributes\":{},\"id\":\"32350\",\"type\":\"UnionRenderers\"},{\"attributes\":{\"axis_label\":\"Count\",\"formatter\":{\"id\":\"32285\"},\"major_label_policy\":{\"id\":\"32284\"},\"ticker\":{\"id\":\"32257\"}},\"id\":\"32256\",\"type\":\"LinearAxis\"},{\"attributes\":{\"bottom_units\":\"screen\",\"fill_alpha\":0.5,\"fill_color\":\"lightgrey\",\"left_units\":\"screen\",\"level\":\"overlay\",\"line_alpha\":1.0,\"line_color\":\"black\",\"line_dash\":[4,4],\"line_width\":2,\"right_units\":\"screen\",\"syncable\":false,\"top_units\":\"screen\"},\"id\":\"32266\",\"type\":\"BoxAnnotation\"},{\"attributes\":{\"overlay\":{\"id\":\"32266\"}},\"id\":\"32263\",\"type\":\"BoxZoomTool\"}],\"root_ids\":[\"32241\"]},\"title\":\"Bokeh Application\",\"version\":\"2.3.2\"}};\n",
       "  var render_items = [{\"docid\":\"ba4fd5b6-24f0-410e-a03f-2cc5c03a0015\",\"root_ids\":[\"32241\"],\"roots\":{\"32241\":\"fd6819a2-dfbc-4d74-8ccf-11a168999de2\"}}];\n",
       "  root.Bokeh.embed.embed_items_notebook(docs_json, render_items);\n",
       "\n",
       "  }\n",
       "  if (root.Bokeh !== undefined) {\n",
       "    embed_document(root);\n",
       "  } else {\n",
       "    var attempts = 0;\n",
       "    var timer = setInterval(function(root) {\n",
       "      if (root.Bokeh !== undefined) {\n",
       "        clearInterval(timer);\n",
       "        embed_document(root);\n",
       "      } else {\n",
       "        attempts++;\n",
       "        if (attempts > 100) {\n",
       "          clearInterval(timer);\n",
       "          console.log(\"Bokeh: ERROR: Unable to run BokehJS code because BokehJS library is missing\");\n",
       "        }\n",
       "      }\n",
       "    }, 10, root)\n",
       "  }\n",
       "})(window);"
      ],
      "application/vnd.bokehjs_exec.v0+json": ""
     },
     "metadata": {
      "application/vnd.bokehjs_exec.v0+json": {
       "id": "32241"
      }
     },
     "output_type": "display_data"
    },
    {
     "data": {
      "text/html": [
       "\n",
       "\n",
       "\n",
       "\n",
       "\n",
       "\n",
       "  <div class=\"bk-root\" id=\"fd13b69d-3455-4714-afe8-b6a7f1100e53\" data-root-id=\"33557\"></div>\n"
      ]
     },
     "metadata": {},
     "output_type": "display_data"
    },
    {
     "data": {
      "application/javascript": [
       "(function(root) {\n",
       "  function embed_document(root) {\n",
       "    \n",
       "  var docs_json = {\"7a591a4d-7d07-4545-b8ea-328ee01ada2d\":{\"defs\":[],\"roots\":{\"references\":[{\"attributes\":{\"below\":[{\"id\":\"33568\"}],\"center\":[{\"id\":\"33571\"},{\"id\":\"33575\"}],\"left\":[{\"id\":\"33572\"}],\"renderers\":[{\"id\":\"33595\"}],\"right\":[{\"id\":\"33599\"}],\"title\":{\"id\":\"33558\"},\"toolbar\":{\"id\":\"33583\"},\"toolbar_location\":\"above\",\"x_range\":{\"id\":\"33560\"},\"x_scale\":{\"id\":\"33564\"},\"y_range\":{\"id\":\"33562\"},\"y_scale\":{\"id\":\"33566\"}},\"id\":\"33557\",\"subtype\":\"Figure\",\"type\":\"Plot\"},{\"attributes\":{\"fill_color\":{\"field\":\"contracts\",\"transform\":{\"id\":\"33591\"}},\"height\":{\"value\":1},\"line_color\":{\"value\":null},\"width\":{\"value\":2},\"x\":{\"field\":\"year\"},\"y\":{\"field\":\"month\"}},\"id\":\"33593\",\"type\":\"Rect\"},{\"attributes\":{},\"id\":\"33564\",\"type\":\"LinearScale\"},{\"attributes\":{},\"id\":\"34381\",\"type\":\"AllLabels\"},{\"attributes\":{},\"id\":\"34378\",\"type\":\"BasicTickFormatter\"},{\"attributes\":{},\"id\":\"34379\",\"type\":\"NoOverlap\"},{\"attributes\":{},\"id\":\"34382\",\"type\":\"BasicTickFormatter\"},{\"attributes\":{},\"id\":\"33569\",\"type\":\"BasicTicker\"},{\"attributes\":{\"data\":{\"canceledcontracts\":[3,4,7,5,3,4,1,2,4,3,1,4,6],\"canceledmembers\":[0,0,0,0,0,0,0,0,0,1,0,0,0],\"canceledselfconsumptioncontracts\":[0,0,0,0,0,0,0,0,0,0,0,0,1],\"contracts\":[454,469,481,485,488,493,496,501,504,510,518,527,531],\"index\":[0,1,2,3,4,5,6,7,8,9,10,11,12],\"members\":[309,317,320,323,325,329,330,330,334,338,340,345,349],\"month\":[1,2,3,4,5,6,7,8,9,10,11,12,1],\"newcontracts\":[8,19,19,9,6,9,4,7,7,9,9,13,10],\"newmembers\":[5,8,3,3,2,4,1,0,4,5,2,5,4],\"newselfconsumptioncontracts\":[1,1,1,4,3,3,0,2,1,1,3,3,1],\"selfconsumptioncontracts\":[3,4,5,9,12,15,15,17,18,19,22,25,25],\"year\":[2020,2020,2020,2020,2020,2020,2020,2020,2020,2020,2020,2020,2021]},\"selected\":{\"id\":\"34383\"},\"selection_policy\":{\"id\":\"34384\"}},\"id\":\"33590\",\"type\":\"ColumnDataSource\"},{\"attributes\":{\"overlay\":{\"id\":\"33582\"}},\"id\":\"33579\",\"type\":\"BoxZoomTool\"},{\"attributes\":{},\"id\":\"33577\",\"type\":\"SaveTool\"},{\"attributes\":{},\"id\":\"34377\",\"type\":\"AllLabels\"},{\"attributes\":{\"axis\":{\"id\":\"33572\"},\"dimension\":1,\"ticker\":null},\"id\":\"33575\",\"type\":\"Grid\"},{\"attributes\":{\"bottom_units\":\"screen\",\"fill_alpha\":0.5,\"fill_color\":\"lightgrey\",\"left_units\":\"screen\",\"level\":\"overlay\",\"line_alpha\":1.0,\"line_color\":\"black\",\"line_dash\":[4,4],\"line_width\":2,\"right_units\":\"screen\",\"syncable\":false,\"top_units\":\"screen\"},\"id\":\"33582\",\"type\":\"BoxAnnotation\"},{\"attributes\":{\"axis\":{\"id\":\"33568\"},\"ticker\":null},\"id\":\"33571\",\"type\":\"Grid\"},{\"attributes\":{},\"id\":\"33578\",\"type\":\"PanTool\"},{\"attributes\":{\"text\":\"Year Month contracts\"},\"id\":\"33558\",\"type\":\"Title\"},{\"attributes\":{},\"id\":\"33573\",\"type\":\"BasicTicker\"},{\"attributes\":{},\"id\":\"34383\",\"type\":\"Selection\"},{\"attributes\":{},\"id\":\"33562\",\"type\":\"DataRange1d\"},{\"attributes\":{},\"id\":\"33566\",\"type\":\"LinearScale\"},{\"attributes\":{},\"id\":\"34384\",\"type\":\"UnionRenderers\"},{\"attributes\":{\"color_mapper\":{\"id\":\"33591\"},\"formatter\":{\"id\":\"33598\"},\"label_standoff\":6,\"location\":[0,0],\"major_label_policy\":{\"id\":\"34379\"},\"major_label_text_font_size\":\"10pt\",\"ticker\":{\"id\":\"33597\"}},\"id\":\"33599\",\"type\":\"ColorBar\"},{\"attributes\":{},\"id\":\"33576\",\"type\":\"CrosshairTool\"},{\"attributes\":{\"data_source\":{\"id\":\"33590\"},\"glyph\":{\"id\":\"33593\"},\"hover_glyph\":null,\"muted_glyph\":null,\"nonselection_glyph\":{\"id\":\"33594\"},\"view\":{\"id\":\"33596\"}},\"id\":\"33595\",\"type\":\"GlyphRenderer\"},{\"attributes\":{},\"id\":\"33581\",\"type\":\"WheelZoomTool\"},{\"attributes\":{\"axis_label\":\"Month\",\"formatter\":{\"id\":\"34382\"},\"major_label_policy\":{\"id\":\"34381\"},\"ticker\":{\"id\":\"33573\"}},\"id\":\"33572\",\"type\":\"LinearAxis\"},{\"attributes\":{\"fill_alpha\":{\"value\":0.1},\"fill_color\":{\"field\":\"contracts\",\"transform\":{\"id\":\"33591\"}},\"height\":{\"value\":1},\"line_alpha\":{\"value\":0.1},\"line_color\":{\"value\":null},\"width\":{\"value\":2},\"x\":{\"field\":\"year\"},\"y\":{\"field\":\"month\"}},\"id\":\"33594\",\"type\":\"Rect\"},{\"attributes\":{\"source\":{\"id\":\"33590\"}},\"id\":\"33596\",\"type\":\"CDSView\"},{\"attributes\":{},\"id\":\"33560\",\"type\":\"DataRange1d\"},{\"attributes\":{\"desired_num_ticks\":9},\"id\":\"33597\",\"type\":\"BasicTicker\"},{\"attributes\":{},\"id\":\"33580\",\"type\":\"ResetTool\"},{\"attributes\":{\"axis_label\":\"Year\",\"formatter\":{\"id\":\"34378\"},\"major_label_policy\":{\"id\":\"34377\"},\"ticker\":{\"id\":\"33569\"}},\"id\":\"33568\",\"type\":\"LinearAxis\"},{\"attributes\":{},\"id\":\"33598\",\"type\":\"PrintfTickFormatter\"},{\"attributes\":{\"active_multi\":null,\"tools\":[{\"id\":\"33576\"},{\"id\":\"33577\"},{\"id\":\"33578\"},{\"id\":\"33579\"},{\"id\":\"33580\"},{\"id\":\"33581\"}]},\"id\":\"33583\",\"type\":\"Toolbar\"},{\"attributes\":{\"high\":531,\"low\":454,\"palette\":[\"#f7fcfd\",\"#e5f5f9\",\"#ccece6\",\"#99d8c9\",\"#66c2a4\",\"#41ae76\",\"#238b45\",\"#006d2c\",\"#00441b\"]},\"id\":\"33591\",\"type\":\"LinearColorMapper\"}],\"root_ids\":[\"33557\"]},\"title\":\"Bokeh Application\",\"version\":\"2.3.2\"}};\n",
       "  var render_items = [{\"docid\":\"7a591a4d-7d07-4545-b8ea-328ee01ada2d\",\"root_ids\":[\"33557\"],\"roots\":{\"33557\":\"fd13b69d-3455-4714-afe8-b6a7f1100e53\"}}];\n",
       "  root.Bokeh.embed.embed_items_notebook(docs_json, render_items);\n",
       "\n",
       "  }\n",
       "  if (root.Bokeh !== undefined) {\n",
       "    embed_document(root);\n",
       "  } else {\n",
       "    var attempts = 0;\n",
       "    var timer = setInterval(function(root) {\n",
       "      if (root.Bokeh !== undefined) {\n",
       "        clearInterval(timer);\n",
       "        embed_document(root);\n",
       "      } else {\n",
       "        attempts++;\n",
       "        if (attempts > 100) {\n",
       "          clearInterval(timer);\n",
       "          console.log(\"Bokeh: ERROR: Unable to run BokehJS code because BokehJS library is missing\");\n",
       "        }\n",
       "      }\n",
       "    }, 10, root)\n",
       "  }\n",
       "})(window);"
      ],
      "application/vnd.bokehjs_exec.v0+json": ""
     },
     "metadata": {
      "application/vnd.bokehjs_exec.v0+json": {
       "id": "33557"
      }
     },
     "output_type": "display_data"
    },
    {
     "data": {
      "text/html": [
       "\n",
       "\n",
       "\n",
       "\n",
       "\n",
       "\n",
       "  <div class=\"bk-root\" id=\"ce408b69-cafc-4391-a3c8-011520135349\" data-root-id=\"34563\"></div>\n"
      ]
     },
     "metadata": {},
     "output_type": "display_data"
    },
    {
     "data": {
      "application/javascript": [
       "(function(root) {\n",
       "  function embed_document(root) {\n",
       "    \n",
       "  var docs_json = {\"2cf23593-6ae7-48cc-a005-7fa74966ba46\":{\"defs\":[],\"roots\":{\"references\":[{\"attributes\":{\"below\":[{\"id\":\"34574\"}],\"center\":[{\"id\":\"34577\"},{\"id\":\"34581\"}],\"height\":350,\"left\":[{\"id\":\"34578\"}],\"outline_line_color\":null,\"renderers\":[{\"id\":\"34599\"}],\"title\":{\"id\":\"34564\"},\"toolbar\":{\"id\":\"34589\"},\"toolbar_location\":\"above\",\"x_range\":{\"id\":\"34566\"},\"x_scale\":{\"id\":\"34570\"},\"y_range\":{\"id\":\"34568\"},\"y_scale\":{\"id\":\"34572\"}},\"id\":\"34563\",\"subtype\":\"Figure\",\"type\":\"Plot\"},{\"attributes\":{\"text\":\"AVG contracts\"},\"id\":\"34564\",\"type\":\"Title\"},{\"attributes\":{\"axis_label\":\"Month\",\"formatter\":{\"id\":\"35390\"},\"major_label_policy\":{\"id\":\"35389\"},\"minor_tick_line_color\":null,\"ticker\":{\"id\":\"34575\"}},\"id\":\"34574\",\"type\":\"LinearAxis\"},{\"attributes\":{\"active_multi\":null,\"tools\":[{\"id\":\"34582\"},{\"id\":\"34583\"},{\"id\":\"34584\"},{\"id\":\"34585\"},{\"id\":\"34586\"},{\"id\":\"34587\"}]},\"id\":\"34589\",\"type\":\"Toolbar\"},{\"attributes\":{\"overlay\":{\"id\":\"34588\"}},\"id\":\"34584\",\"type\":\"BoxZoomTool\"},{\"attributes\":{},\"id\":\"34585\",\"type\":\"SaveTool\"},{\"attributes\":{},\"id\":\"34587\",\"type\":\"HelpTool\"},{\"attributes\":{},\"id\":\"34566\",\"type\":\"DataRange1d\"},{\"attributes\":{},\"id\":\"34586\",\"type\":\"ResetTool\"},{\"attributes\":{\"fill_color\":{\"value\":\"#1f77b4\"},\"line_color\":{\"value\":\"#1f77b4\"},\"top\":{\"field\":\"top\"},\"width\":{\"value\":0.9},\"x\":{\"field\":\"x\"}},\"id\":\"34597\",\"type\":\"VBar\"},{\"attributes\":{},\"id\":\"34570\",\"type\":\"LinearScale\"},{\"attributes\":{},\"id\":\"35392\",\"type\":\"AllLabels\"},{\"attributes\":{\"data\":{\"top\":[454,469,481,485,488,493,496,501,504,510,518,527,531],\"x\":[1,2,3,4,5,6,7,8,9,10,11,12,1]},\"selected\":{\"id\":\"35394\"},\"selection_policy\":{\"id\":\"35395\"}},\"id\":\"34596\",\"type\":\"ColumnDataSource\"},{\"attributes\":{\"fill_alpha\":{\"value\":0.1},\"fill_color\":{\"value\":\"#1f77b4\"},\"line_alpha\":{\"value\":0.1},\"line_color\":{\"value\":\"#1f77b4\"},\"top\":{\"field\":\"top\"},\"width\":{\"value\":0.9},\"x\":{\"field\":\"x\"}},\"id\":\"34598\",\"type\":\"VBar\"},{\"attributes\":{},\"id\":\"34572\",\"type\":\"LinearScale\"},{\"attributes\":{\"source\":{\"id\":\"34596\"}},\"id\":\"34600\",\"type\":\"CDSView\"},{\"attributes\":{},\"id\":\"35393\",\"type\":\"BasicTickFormatter\"},{\"attributes\":{\"data_source\":{\"id\":\"34596\"},\"glyph\":{\"id\":\"34597\"},\"hover_glyph\":null,\"muted_glyph\":null,\"nonselection_glyph\":{\"id\":\"34598\"},\"view\":{\"id\":\"34600\"}},\"id\":\"34599\",\"type\":\"GlyphRenderer\"},{\"attributes\":{},\"id\":\"35390\",\"type\":\"BasicTickFormatter\"},{\"attributes\":{\"bottom_units\":\"screen\",\"fill_alpha\":0.5,\"fill_color\":\"lightgrey\",\"left_units\":\"screen\",\"level\":\"overlay\",\"line_alpha\":1.0,\"line_color\":\"black\",\"line_dash\":[4,4],\"line_width\":2,\"right_units\":\"screen\",\"syncable\":false,\"top_units\":\"screen\"},\"id\":\"34588\",\"type\":\"BoxAnnotation\"},{\"attributes\":{},\"id\":\"35394\",\"type\":\"Selection\"},{\"attributes\":{\"axis\":{\"id\":\"34578\"},\"dimension\":1,\"ticker\":null},\"id\":\"34581\",\"type\":\"Grid\"},{\"attributes\":{},\"id\":\"34575\",\"type\":\"BasicTicker\"},{\"attributes\":{},\"id\":\"35395\",\"type\":\"UnionRenderers\"},{\"attributes\":{},\"id\":\"35389\",\"type\":\"AllLabels\"},{\"attributes\":{},\"id\":\"34582\",\"type\":\"PanTool\"},{\"attributes\":{\"axis\":{\"id\":\"34574\"},\"grid_line_color\":null,\"ticker\":null},\"id\":\"34577\",\"type\":\"Grid\"},{\"attributes\":{},\"id\":\"34579\",\"type\":\"BasicTicker\"},{\"attributes\":{\"axis_label\":\"AVG contracts\",\"formatter\":{\"id\":\"35393\"},\"major_label_policy\":{\"id\":\"35392\"},\"minor_tick_line_color\":null,\"ticker\":{\"id\":\"34579\"}},\"id\":\"34578\",\"type\":\"LinearAxis\"},{\"attributes\":{},\"id\":\"34583\",\"type\":\"WheelZoomTool\"},{\"attributes\":{\"start\":0},\"id\":\"34568\",\"type\":\"DataRange1d\"}],\"root_ids\":[\"34563\"]},\"title\":\"Bokeh Application\",\"version\":\"2.3.2\"}};\n",
       "  var render_items = [{\"docid\":\"2cf23593-6ae7-48cc-a005-7fa74966ba46\",\"root_ids\":[\"34563\"],\"roots\":{\"34563\":\"ce408b69-cafc-4391-a3c8-011520135349\"}}];\n",
       "  root.Bokeh.embed.embed_items_notebook(docs_json, render_items);\n",
       "\n",
       "  }\n",
       "  if (root.Bokeh !== undefined) {\n",
       "    embed_document(root);\n",
       "  } else {\n",
       "    var attempts = 0;\n",
       "    var timer = setInterval(function(root) {\n",
       "      if (root.Bokeh !== undefined) {\n",
       "        clearInterval(timer);\n",
       "        embed_document(root);\n",
       "      } else {\n",
       "        attempts++;\n",
       "        if (attempts > 100) {\n",
       "          clearInterval(timer);\n",
       "          console.log(\"Bokeh: ERROR: Unable to run BokehJS code because BokehJS library is missing\");\n",
       "        }\n",
       "      }\n",
       "    }, 10, root)\n",
       "  }\n",
       "})(window);"
      ],
      "application/vnd.bokehjs_exec.v0+json": ""
     },
     "metadata": {
      "application/vnd.bokehjs_exec.v0+json": {
       "id": "34563"
      }
     },
     "output_type": "display_data"
    },
    {
     "data": {
      "text/html": [
       "\n",
       "\n",
       "\n",
       "\n",
       "\n",
       "\n",
       "  <div class=\"bk-root\" id=\"b7fb3305-f0ff-49e7-88de-128a3b08821a\" data-root-id=\"35558\"></div>\n"
      ]
     },
     "metadata": {},
     "output_type": "display_data"
    },
    {
     "data": {
      "application/javascript": [
       "(function(root) {\n",
       "  function embed_document(root) {\n",
       "    \n",
       "  var docs_json = {\"5260d6ee-7c16-418c-baf3-74dce9a9d619\":{\"defs\":[],\"roots\":{\"references\":[{\"attributes\":{\"below\":[{\"id\":\"35569\"}],\"center\":[{\"id\":\"35572\"},{\"id\":\"35576\"},{\"id\":\"35618\"}],\"left\":[{\"id\":\"35573\"}],\"renderers\":[{\"id\":\"35594\"},{\"id\":\"35623\"},{\"id\":\"35653\"}],\"title\":{\"id\":\"35559\"},\"toolbar\":{\"id\":\"35584\"},\"x_range\":{\"id\":\"35561\"},\"x_scale\":{\"id\":\"35565\"},\"y_range\":{\"id\":\"35563\"},\"y_scale\":{\"id\":\"35567\"}},\"id\":\"35558\",\"subtype\":\"Figure\",\"type\":\"Plot\"},{\"attributes\":{\"line_alpha\":0.1,\"line_color\":\"coral\",\"line_width\":3,\"x\":{\"field\":\"x\"},\"y\":{\"field\":\"y\"}},\"id\":\"35652\",\"type\":\"Line\"},{\"attributes\":{\"line_color\":\"blue\",\"line_width\":3,\"x\":{\"field\":\"x\"},\"y\":{\"field\":\"y\"}},\"id\":\"35621\",\"type\":\"Line\"},{\"attributes\":{\"line_color\":\"coral\",\"line_width\":3,\"x\":{\"field\":\"x\"},\"y\":{\"field\":\"y\"}},\"id\":\"35651\",\"type\":\"Line\"},{\"attributes\":{},\"id\":\"35599\",\"type\":\"DatetimeTickFormatter\"},{\"attributes\":{\"source\":{\"id\":\"35650\"}},\"id\":\"35654\",\"type\":\"CDSView\"},{\"attributes\":{},\"id\":\"35603\",\"type\":\"Selection\"},{\"attributes\":{\"line_color\":\"purple\",\"line_width\":3,\"x\":{\"field\":\"x\"},\"y\":{\"field\":\"y\"}},\"id\":\"35592\",\"type\":\"Line\"},{\"attributes\":{\"label\":{\"value\":\"New selfconsumptioncontracts\"},\"renderers\":[{\"id\":\"35623\"}]},\"id\":\"35649\",\"type\":\"LegendItem\"},{\"attributes\":{\"source\":{\"id\":\"35620\"}},\"id\":\"35624\",\"type\":\"CDSView\"},{\"attributes\":{\"mantissas\":[1,2,5],\"max_interval\":500.0,\"num_minor_ticks\":0},\"id\":\"35605\",\"type\":\"AdaptiveTicker\"},{\"attributes\":{\"line_alpha\":0.1,\"line_color\":\"purple\",\"line_width\":3,\"x\":{\"field\":\"x\"},\"y\":{\"field\":\"y\"}},\"id\":\"35593\",\"type\":\"Line\"},{\"attributes\":{\"data\":{\"x\":{\"__ndarray__\":\"AACA53JeckIAAMA5bWhyQgAAwFpwcXJCAAAArWp7ckIAAICZEoVyQgAAwOsMj3JCAABA2LSYckIAAIAqr6JyQgAAwHyprHJCAABAaVG2ckIAAIC7S8ByQgAAAKjzyXJCAABA+u3TckIAAIBM6N1yQgAAgG3r5nJCAADAv+XwckIAAECsjfpyQgAAgP6HBHNCAAAA6y8Oc0IAAEA9KhhzQgAAgI8kInNCAAAAfMwrc0IAAEDOxjVzQgAAwLpuP3NCAAAADWlJc0IAAEBfY1NzQgAAAOa4XHNCAABAOLNmc0IAAMAkW3BzQgAAAHdVenNCAACAY/2Dc0IAAMC1941zQgAAAAjyl3NCAACA9Jmhc0IAAMBGlKtzQgAAQDM8tXNCAACAhTa/c0IAAMDXMMlzQgAAwPgz0nNCAAAASy7cc0IAAIA31uVzQgAAwInQ73NCAABAdnj5c0IAAIDIcgN0QgAAwBptDXRCAABABxUXdEIAAIBZDyF0QgAAAEa3KnRCAABAmLE0dEIAAIDqqz50QgAAgAuvR3RCAADAXalRdEIAAEBKUVt0QgAAgJxLZXRCAAAAifNudEIAAEDb7Xh0QgAAgC3ognRCAAAAGpCMdEIAAEBsipZ0QgAAwFgyoHRCAAAAqyyqdEIAAED9JrR0QgAAQB4qvXRCAACAcCTHdEIAAABdzNB0QgAAQK/G2nRCAADAm27kdEIAAADuaO50QgAAQEBj+HRCAADALAsCdUIAAAB/BQx1QgAAgGutFXVCAADAvacfdUIAAAAQoil1QgAAwJb3MnVCAAAA6fE8dUIAAIDVmUZ1QgAAwCeUUHVCAABAFDxadUIAAIBmNmR1QgAAwLgwbnVCAABApdh3dUIAAID30oF1QgAAAOR6i3VCAABANnWVdUIAAICIb591QgAAgKlyqHVCAADA+2yydUIAAEDoFLx1QgAAgDoPxnVCAAAAJ7fPdUIAAEB5sdl1QgAAgMur43VCAAAAuFPtdUIAAEAKTvd1QgAAwPb1AHZCAAAASfAKdkIAAECb6hR2QgAAQLztHXZCAACADugndkIAAAD7jzF2QgAAQE2KO3ZCAADAOTJFdkIAAACMLE92QgAAQN4mWXZCAADAys5idkIAAAAdyWx2QgAAgAlxdnZCAADAW2uAdkIAAACuZYp2QgAAAM9ok3ZCAABAIWOddkIAAMANC6d2QgAAAGAFsXZCAACATK26dkIAAMCep8R2QgAAAPGhznZCAACA3UnYdkIAAMAvROJ2QgAAQBzs63ZCAACAbub1dkIAAMDA4P92QgAAgEc2CXdCAADAmTATd0IAAECG2Bx3QgAAgNjSJndCAAAAxXowd0IAAEAXdTp3QgAAgGlvRHdCAAAAVhdOd0IAAECoEVh3QgAAwJS5YXdCAAAA57Nrd0IAAEA5rnV3QgAAQFqxfndCAACArKuId0IAAACZU5J3QgAAQOtNnHdCAADA1/Wld0I=\",\"dtype\":\"float64\",\"order\":\"little\",\"shape\":[139]},\"y\":[0,0,0,0,0,0,0,0,0,0,0,0,0,0,0,0,0,0,0,0,0,0,0,0,0,0,0,0,0,0,0,0,0,0,0,0,0,0,0,0,0,0,0,0,0,0,0,0,0,0,0,0,0,0,0,0,0,0,0,0,0,0,0,0,0,0,0,0,0,0,0,0,0,0,0,0,0,0,0,0,0,0,0,0,0,0,0,0,0,0,0,0,0,0,0,0,0,0,0,0,0,0,0,0,1,1,1,1,1,1,1,1,1,1,1,1,1,1,1,2,3,4,5,9,12,15,15,17,18,19,22,25,25,27,30,31,31,31,32]},\"selected\":{\"id\":\"35603\"},\"selection_policy\":{\"id\":\"35604\"}},\"id\":\"35591\",\"type\":\"ColumnDataSource\"},{\"attributes\":{\"line_alpha\":0.1,\"line_color\":\"blue\",\"line_width\":3,\"x\":{\"field\":\"x\"},\"y\":{\"field\":\"y\"}},\"id\":\"35622\",\"type\":\"Line\"},{\"attributes\":{},\"id\":\"35598\",\"type\":\"AllLabels\"},{\"attributes\":{\"base\":60,\"mantissas\":[1,2,5,10,15,20,30],\"max_interval\":1800000.0,\"min_interval\":1000.0,\"num_minor_ticks\":0},\"id\":\"35606\",\"type\":\"AdaptiveTicker\"},{\"attributes\":{\"days\":[1,2,3,4,5,6,7,8,9,10,11,12,13,14,15,16,17,18,19,20,21,22,23,24,25,26,27,28,29,30,31]},\"id\":\"35608\",\"type\":\"DaysTicker\"},{\"attributes\":{\"base\":24,\"mantissas\":[1,2,4,6,8,12],\"max_interval\":43200000.0,\"min_interval\":3600000.0,\"num_minor_ticks\":0},\"id\":\"35607\",\"type\":\"AdaptiveTicker\"},{\"attributes\":{\"label\":{\"value\":\"Canceled selfconsumptioncontracts\"},\"renderers\":[{\"id\":\"35653\"}]},\"id\":\"35681\",\"type\":\"LegendItem\"},{\"attributes\":{\"months\":[0,1,2,3,4,5,6,7,8,9,10,11]},\"id\":\"35612\",\"type\":\"MonthsTicker\"},{\"attributes\":{},\"id\":\"35579\",\"type\":\"PanTool\"},{\"attributes\":{\"months\":[0,2,4,6,8,10]},\"id\":\"35613\",\"type\":\"MonthsTicker\"},{\"attributes\":{},\"id\":\"35578\",\"type\":\"SaveTool\"},{\"attributes\":{\"days\":[1,4,7,10,13,16,19,22,25,28]},\"id\":\"35609\",\"type\":\"DaysTicker\"},{\"attributes\":{\"axis_label\":\"Count\",\"formatter\":{\"id\":\"35602\"},\"major_label_policy\":{\"id\":\"35601\"},\"ticker\":{\"id\":\"35574\"}},\"id\":\"35573\",\"type\":\"LinearAxis\"},{\"attributes\":{\"days\":[1,15]},\"id\":\"35611\",\"type\":\"DaysTicker\"},{\"attributes\":{\"source\":{\"id\":\"35591\"}},\"id\":\"35595\",\"type\":\"CDSView\"},{\"attributes\":{\"data\":{\"x\":{\"__ndarray__\":\"AACA53JeckIAAMA5bWhyQgAAwFpwcXJCAAAArWp7ckIAAICZEoVyQgAAwOsMj3JCAABA2LSYckIAAIAqr6JyQgAAwHyprHJCAABAaVG2ckIAAIC7S8ByQgAAAKjzyXJCAABA+u3TckIAAIBM6N1yQgAAgG3r5nJCAADAv+XwckIAAECsjfpyQgAAgP6HBHNCAAAA6y8Oc0IAAEA9KhhzQgAAgI8kInNCAAAAfMwrc0IAAEDOxjVzQgAAwLpuP3NCAAAADWlJc0IAAEBfY1NzQgAAAOa4XHNCAABAOLNmc0IAAMAkW3BzQgAAAHdVenNCAACAY/2Dc0IAAMC1941zQgAAAAjyl3NCAACA9Jmhc0IAAMBGlKtzQgAAQDM8tXNCAACAhTa/c0IAAMDXMMlzQgAAwPgz0nNCAAAASy7cc0IAAIA31uVzQgAAwInQ73NCAABAdnj5c0IAAIDIcgN0QgAAwBptDXRCAABABxUXdEIAAIBZDyF0QgAAAEa3KnRCAABAmLE0dEIAAIDqqz50QgAAgAuvR3RCAADAXalRdEIAAEBKUVt0QgAAgJxLZXRCAAAAifNudEIAAEDb7Xh0QgAAgC3ognRCAAAAGpCMdEIAAEBsipZ0QgAAwFgyoHRCAAAAqyyqdEIAAED9JrR0QgAAQB4qvXRCAACAcCTHdEIAAABdzNB0QgAAQK/G2nRCAADAm27kdEIAAADuaO50QgAAQEBj+HRCAADALAsCdUIAAAB/BQx1QgAAgGutFXVCAADAvacfdUIAAAAQoil1QgAAwJb3MnVCAAAA6fE8dUIAAIDVmUZ1QgAAwCeUUHVCAABAFDxadUIAAIBmNmR1QgAAwLgwbnVCAABApdh3dUIAAID30oF1QgAAAOR6i3VCAABANnWVdUIAAICIb591QgAAgKlyqHVCAADA+2yydUIAAEDoFLx1QgAAgDoPxnVCAAAAJ7fPdUIAAEB5sdl1QgAAgMur43VCAAAAuFPtdUIAAEAKTvd1QgAAwPb1AHZCAAAASfAKdkIAAECb6hR2QgAAQLztHXZCAACADugndkIAAAD7jzF2QgAAQE2KO3ZCAADAOTJFdkIAAACMLE92QgAAQN4mWXZCAADAys5idkIAAAAdyWx2QgAAgAlxdnZCAADAW2uAdkIAAACuZYp2QgAAAM9ok3ZCAABAIWOddkIAAMANC6d2QgAAAGAFsXZCAACATK26dkIAAMCep8R2QgAAAPGhznZCAACA3UnYdkIAAMAvROJ2QgAAQBzs63ZCAACAbub1dkIAAMDA4P92QgAAgEc2CXdCAADAmTATd0IAAECG2Bx3QgAAgNjSJndCAAAAxXowd0IAAEAXdTp3QgAAgGlvRHdCAAAAVhdOd0IAAECoEVh3QgAAwJS5YXdCAAAA57Nrd0IAAEA5rnV3QgAAQFqxfndCAACArKuId0IAAACZU5J3QgAAQOtNnHdCAADA1/Wld0I=\",\"dtype\":\"float64\",\"order\":\"little\",\"shape\":[139]},\"y\":[0,0,0,0,0,0,0,0,0,0,0,0,0,0,0,0,0,0,0,0,0,0,0,0,0,0,0,0,0,0,0,0,0,0,0,0,0,0,0,0,0,0,0,0,0,0,0,0,0,0,0,0,0,0,0,0,0,0,0,0,0,0,0,0,0,0,0,0,0,0,0,0,0,0,0,0,0,0,0,0,0,0,0,0,0,0,0,0,0,0,0,0,0,0,0,0,0,0,0,0,0,0,0,0,1,0,0,0,0,0,0,0,0,0,0,0,0,0,0,1,1,1,1,4,3,3,0,2,1,1,3,3,1,2,3,1,0,0,1]},\"selected\":{\"id\":\"35634\"},\"selection_policy\":{\"id\":\"35635\"}},\"id\":\"35620\",\"type\":\"ColumnDataSource\"},{\"attributes\":{},\"id\":\"35666\",\"type\":\"Selection\"},{\"attributes\":{\"axis\":{\"id\":\"35573\"},\"dimension\":1,\"ticker\":null},\"id\":\"35576\",\"type\":\"Grid\"},{\"attributes\":{\"months\":[0,6]},\"id\":\"35615\",\"type\":\"MonthsTicker\"},{\"attributes\":{\"days\":[1,8,15,22]},\"id\":\"35610\",\"type\":\"DaysTicker\"},{\"attributes\":{\"label\":{\"value\":\"selfconsumptioncontracts\"},\"renderers\":[{\"id\":\"35594\"}]},\"id\":\"35619\",\"type\":\"LegendItem\"},{\"attributes\":{},\"id\":\"35616\",\"type\":\"YearsTicker\"},{\"attributes\":{\"axis_label\":\"Year\",\"formatter\":{\"id\":\"35599\"},\"major_label_policy\":{\"id\":\"35598\"},\"ticker\":{\"id\":\"35570\"}},\"id\":\"35569\",\"type\":\"DatetimeAxis\"},{\"attributes\":{},\"id\":\"35667\",\"type\":\"UnionRenderers\"},{\"attributes\":{},\"id\":\"35604\",\"type\":\"UnionRenderers\"},{\"attributes\":{\"text\":\"All selfconsumptioncontracts, New and Canceled selfconsumptioncontracts\"},\"id\":\"35559\",\"type\":\"Title\"},{\"attributes\":{\"months\":[0,4,8]},\"id\":\"35614\",\"type\":\"MonthsTicker\"},{\"attributes\":{\"bottom_units\":\"screen\",\"fill_alpha\":0.5,\"fill_color\":\"lightgrey\",\"left_units\":\"screen\",\"level\":\"overlay\",\"line_alpha\":1.0,\"line_color\":\"black\",\"line_dash\":[4,4],\"line_width\":2,\"right_units\":\"screen\",\"syncable\":false,\"top_units\":\"screen\"},\"id\":\"35583\",\"type\":\"BoxAnnotation\"},{\"attributes\":{\"overlay\":{\"id\":\"35583\"}},\"id\":\"35580\",\"type\":\"BoxZoomTool\"},{\"attributes\":{},\"id\":\"35634\",\"type\":\"Selection\"},{\"attributes\":{},\"id\":\"35601\",\"type\":\"AllLabels\"},{\"attributes\":{\"axis\":{\"id\":\"35569\"},\"ticker\":null},\"id\":\"35572\",\"type\":\"Grid\"},{\"attributes\":{},\"id\":\"35635\",\"type\":\"UnionRenderers\"},{\"attributes\":{},\"id\":\"35574\",\"type\":\"BasicTicker\"},{\"attributes\":{},\"id\":\"35577\",\"type\":\"CrosshairTool\"},{\"attributes\":{\"num_minor_ticks\":5,\"tickers\":[{\"id\":\"35605\"},{\"id\":\"35606\"},{\"id\":\"35607\"},{\"id\":\"35608\"},{\"id\":\"35609\"},{\"id\":\"35610\"},{\"id\":\"35611\"},{\"id\":\"35612\"},{\"id\":\"35613\"},{\"id\":\"35614\"},{\"id\":\"35615\"},{\"id\":\"35616\"}]},\"id\":\"35570\",\"type\":\"DatetimeTicker\"},{\"attributes\":{},\"id\":\"35602\",\"type\":\"BasicTickFormatter\"},{\"attributes\":{\"items\":[{\"id\":\"35619\"},{\"id\":\"35649\"},{\"id\":\"35681\"}],\"location\":\"top_left\"},\"id\":\"35618\",\"type\":\"Legend\"},{\"attributes\":{\"active_multi\":null,\"tools\":[{\"id\":\"35577\"},{\"id\":\"35578\"},{\"id\":\"35579\"},{\"id\":\"35580\"},{\"id\":\"35581\"},{\"id\":\"35582\"}]},\"id\":\"35584\",\"type\":\"Toolbar\"},{\"attributes\":{\"data_source\":{\"id\":\"35650\"},\"glyph\":{\"id\":\"35651\"},\"hover_glyph\":null,\"muted_glyph\":null,\"nonselection_glyph\":{\"id\":\"35652\"},\"view\":{\"id\":\"35654\"}},\"id\":\"35653\",\"type\":\"GlyphRenderer\"},{\"attributes\":{\"data_source\":{\"id\":\"35591\"},\"glyph\":{\"id\":\"35592\"},\"hover_glyph\":null,\"muted_glyph\":null,\"nonselection_glyph\":{\"id\":\"35593\"},\"view\":{\"id\":\"35595\"}},\"id\":\"35594\",\"type\":\"GlyphRenderer\"},{\"attributes\":{},\"id\":\"35565\",\"type\":\"LinearScale\"},{\"attributes\":{\"data_source\":{\"id\":\"35620\"},\"glyph\":{\"id\":\"35621\"},\"hover_glyph\":null,\"muted_glyph\":null,\"nonselection_glyph\":{\"id\":\"35622\"},\"view\":{\"id\":\"35624\"}},\"id\":\"35623\",\"type\":\"GlyphRenderer\"},{\"attributes\":{},\"id\":\"35581\",\"type\":\"ResetTool\"},{\"attributes\":{},\"id\":\"35563\",\"type\":\"DataRange1d\"},{\"attributes\":{},\"id\":\"35567\",\"type\":\"LinearScale\"},{\"attributes\":{\"data\":{\"x\":{\"__ndarray__\":\"AACA53JeckIAAMA5bWhyQgAAwFpwcXJCAAAArWp7ckIAAICZEoVyQgAAwOsMj3JCAABA2LSYckIAAIAqr6JyQgAAwHyprHJCAABAaVG2ckIAAIC7S8ByQgAAAKjzyXJCAABA+u3TckIAAIBM6N1yQgAAgG3r5nJCAADAv+XwckIAAECsjfpyQgAAgP6HBHNCAAAA6y8Oc0IAAEA9KhhzQgAAgI8kInNCAAAAfMwrc0IAAEDOxjVzQgAAwLpuP3NCAAAADWlJc0IAAEBfY1NzQgAAAOa4XHNCAABAOLNmc0IAAMAkW3BzQgAAAHdVenNCAACAY/2Dc0IAAMC1941zQgAAAAjyl3NCAACA9Jmhc0IAAMBGlKtzQgAAQDM8tXNCAACAhTa/c0IAAMDXMMlzQgAAwPgz0nNCAAAASy7cc0IAAIA31uVzQgAAwInQ73NCAABAdnj5c0IAAIDIcgN0QgAAwBptDXRCAABABxUXdEIAAIBZDyF0QgAAAEa3KnRCAABAmLE0dEIAAIDqqz50QgAAgAuvR3RCAADAXalRdEIAAEBKUVt0QgAAgJxLZXRCAAAAifNudEIAAEDb7Xh0QgAAgC3ognRCAAAAGpCMdEIAAEBsipZ0QgAAwFgyoHRCAAAAqyyqdEIAAED9JrR0QgAAQB4qvXRCAACAcCTHdEIAAABdzNB0QgAAQK/G2nRCAADAm27kdEIAAADuaO50QgAAQEBj+HRCAADALAsCdUIAAAB/BQx1QgAAgGutFXVCAADAvacfdUIAAAAQoil1QgAAwJb3MnVCAAAA6fE8dUIAAIDVmUZ1QgAAwCeUUHVCAABAFDxadUIAAIBmNmR1QgAAwLgwbnVCAABApdh3dUIAAID30oF1QgAAAOR6i3VCAABANnWVdUIAAICIb591QgAAgKlyqHVCAADA+2yydUIAAEDoFLx1QgAAgDoPxnVCAAAAJ7fPdUIAAEB5sdl1QgAAgMur43VCAAAAuFPtdUIAAEAKTvd1QgAAwPb1AHZCAAAASfAKdkIAAECb6hR2QgAAQLztHXZCAACADugndkIAAAD7jzF2QgAAQE2KO3ZCAADAOTJFdkIAAACMLE92QgAAQN4mWXZCAADAys5idkIAAAAdyWx2QgAAgAlxdnZCAADAW2uAdkIAAACuZYp2QgAAAM9ok3ZCAABAIWOddkIAAMANC6d2QgAAAGAFsXZCAACATK26dkIAAMCep8R2QgAAAPGhznZCAACA3UnYdkIAAMAvROJ2QgAAQBzs63ZCAACAbub1dkIAAMDA4P92QgAAgEc2CXdCAADAmTATd0IAAECG2Bx3QgAAgNjSJndCAAAAxXowd0IAAEAXdTp3QgAAgGlvRHdCAAAAVhdOd0IAAECoEVh3QgAAwJS5YXdCAAAA57Nrd0IAAEA5rnV3QgAAQFqxfndCAACArKuId0IAAACZU5J3QgAAQOtNnHdCAADA1/Wld0I=\",\"dtype\":\"float64\",\"order\":\"little\",\"shape\":[139]},\"y\":[0,0,0,0,0,0,0,0,0,0,0,0,0,0,0,0,0,0,0,0,0,0,0,0,0,0,0,0,0,0,0,0,0,0,0,0,0,0,0,0,0,0,0,0,0,0,0,0,0,0,0,0,0,0,0,0,0,0,0,0,0,0,0,0,0,0,0,0,0,0,0,0,0,0,0,0,0,0,0,0,0,0,0,0,0,0,0,0,0,0,0,0,0,0,0,0,0,0,0,0,0,0,0,0,0,0,0,0,0,0,0,0,0,0,0,0,0,0,0,0,0,0,0,0,0,0,0,0,0,0,0,0,1,0,0,0,0,0,0]},\"selected\":{\"id\":\"35666\"},\"selection_policy\":{\"id\":\"35667\"}},\"id\":\"35650\",\"type\":\"ColumnDataSource\"},{\"attributes\":{},\"id\":\"35561\",\"type\":\"DataRange1d\"},{\"attributes\":{},\"id\":\"35582\",\"type\":\"WheelZoomTool\"}],\"root_ids\":[\"35558\"]},\"title\":\"Bokeh Application\",\"version\":\"2.3.2\"}};\n",
       "  var render_items = [{\"docid\":\"5260d6ee-7c16-418c-baf3-74dce9a9d619\",\"root_ids\":[\"35558\"],\"roots\":{\"35558\":\"b7fb3305-f0ff-49e7-88de-128a3b08821a\"}}];\n",
       "  root.Bokeh.embed.embed_items_notebook(docs_json, render_items);\n",
       "\n",
       "  }\n",
       "  if (root.Bokeh !== undefined) {\n",
       "    embed_document(root);\n",
       "  } else {\n",
       "    var attempts = 0;\n",
       "    var timer = setInterval(function(root) {\n",
       "      if (root.Bokeh !== undefined) {\n",
       "        clearInterval(timer);\n",
       "        embed_document(root);\n",
       "      } else {\n",
       "        attempts++;\n",
       "        if (attempts > 100) {\n",
       "          clearInterval(timer);\n",
       "          console.log(\"Bokeh: ERROR: Unable to run BokehJS code because BokehJS library is missing\");\n",
       "        }\n",
       "      }\n",
       "    }, 10, root)\n",
       "  }\n",
       "})(window);"
      ],
      "application/vnd.bokehjs_exec.v0+json": ""
     },
     "metadata": {
      "application/vnd.bokehjs_exec.v0+json": {
       "id": "35558"
      }
     },
     "output_type": "display_data"
    },
    {
     "data": {
      "text/html": [
       "\n",
       "\n",
       "\n",
       "\n",
       "\n",
       "\n",
       "  <div class=\"bk-root\" id=\"5a8ffb86-b319-4aaa-bfb2-dad2826d1cb0\" data-root-id=\"36921\"></div>\n"
      ]
     },
     "metadata": {},
     "output_type": "display_data"
    },
    {
     "data": {
      "application/javascript": [
       "(function(root) {\n",
       "  function embed_document(root) {\n",
       "    \n",
       "  var docs_json = {\"dc836e2e-1041-4b22-9eb1-8f6abe6fb5b4\":{\"defs\":[],\"roots\":{\"references\":[{\"attributes\":{\"below\":[{\"id\":\"36932\"}],\"center\":[{\"id\":\"36935\"},{\"id\":\"36939\"}],\"left\":[{\"id\":\"36936\"}],\"renderers\":[{\"id\":\"36959\"}],\"right\":[{\"id\":\"36963\"}],\"title\":{\"id\":\"36922\"},\"toolbar\":{\"id\":\"36947\"},\"toolbar_location\":\"above\",\"x_range\":{\"id\":\"36924\"},\"x_scale\":{\"id\":\"36928\"},\"y_range\":{\"id\":\"36926\"},\"y_scale\":{\"id\":\"36930\"}},\"id\":\"36921\",\"subtype\":\"Figure\",\"type\":\"Plot\"},{\"attributes\":{},\"id\":\"37794\",\"type\":\"Selection\"},{\"attributes\":{},\"id\":\"37789\",\"type\":\"BasicTickFormatter\"},{\"attributes\":{},\"id\":\"36940\",\"type\":\"CrosshairTool\"},{\"attributes\":{},\"id\":\"36930\",\"type\":\"LinearScale\"},{\"attributes\":{\"axis\":{\"id\":\"36936\"},\"dimension\":1,\"ticker\":null},\"id\":\"36939\",\"type\":\"Grid\"},{\"attributes\":{},\"id\":\"36942\",\"type\":\"PanTool\"},{\"attributes\":{\"axis_label\":\"Year\",\"formatter\":{\"id\":\"37789\"},\"major_label_policy\":{\"id\":\"37788\"},\"ticker\":{\"id\":\"36933\"}},\"id\":\"36932\",\"type\":\"LinearAxis\"},{\"attributes\":{},\"id\":\"37795\",\"type\":\"UnionRenderers\"},{\"attributes\":{\"axis_label\":\"Month\",\"formatter\":{\"id\":\"37793\"},\"major_label_policy\":{\"id\":\"37792\"},\"ticker\":{\"id\":\"36937\"}},\"id\":\"36936\",\"type\":\"LinearAxis\"},{\"attributes\":{\"overlay\":{\"id\":\"36946\"}},\"id\":\"36943\",\"type\":\"BoxZoomTool\"},{\"attributes\":{},\"id\":\"36941\",\"type\":\"SaveTool\"},{\"attributes\":{\"desired_num_ticks\":9},\"id\":\"36961\",\"type\":\"BasicTicker\"},{\"attributes\":{},\"id\":\"36944\",\"type\":\"ResetTool\"},{\"attributes\":{},\"id\":\"36937\",\"type\":\"BasicTicker\"},{\"attributes\":{},\"id\":\"36933\",\"type\":\"BasicTicker\"},{\"attributes\":{\"active_multi\":null,\"tools\":[{\"id\":\"36940\"},{\"id\":\"36941\"},{\"id\":\"36942\"},{\"id\":\"36943\"},{\"id\":\"36944\"},{\"id\":\"36945\"}]},\"id\":\"36947\",\"type\":\"Toolbar\"},{\"attributes\":{},\"id\":\"37790\",\"type\":\"NoOverlap\"},{\"attributes\":{},\"id\":\"36945\",\"type\":\"WheelZoomTool\"},{\"attributes\":{\"axis\":{\"id\":\"36932\"},\"ticker\":null},\"id\":\"36935\",\"type\":\"Grid\"},{\"attributes\":{},\"id\":\"37788\",\"type\":\"AllLabels\"},{\"attributes\":{\"high\":25,\"low\":3,\"palette\":[\"#f7fcfd\",\"#e5f5f9\",\"#ccece6\",\"#99d8c9\",\"#66c2a4\",\"#41ae76\",\"#238b45\",\"#006d2c\",\"#00441b\"]},\"id\":\"36955\",\"type\":\"LinearColorMapper\"},{\"attributes\":{},\"id\":\"37792\",\"type\":\"AllLabels\"},{\"attributes\":{},\"id\":\"37793\",\"type\":\"BasicTickFormatter\"},{\"attributes\":{\"source\":{\"id\":\"36954\"}},\"id\":\"36960\",\"type\":\"CDSView\"},{\"attributes\":{\"data\":{\"canceledcontracts\":[3,4,7,5,3,4,1,2,4,3,1,4,6],\"canceledmembers\":[0,0,0,0,0,0,0,0,0,1,0,0,0],\"canceledselfconsumptioncontracts\":[0,0,0,0,0,0,0,0,0,0,0,0,1],\"contracts\":[454,469,481,485,488,493,496,501,504,510,518,527,531],\"index\":[0,1,2,3,4,5,6,7,8,9,10,11,12],\"members\":[309,317,320,323,325,329,330,330,334,338,340,345,349],\"month\":[1,2,3,4,5,6,7,8,9,10,11,12,1],\"newcontracts\":[8,19,19,9,6,9,4,7,7,9,9,13,10],\"newmembers\":[5,8,3,3,2,4,1,0,4,5,2,5,4],\"newselfconsumptioncontracts\":[1,1,1,4,3,3,0,2,1,1,3,3,1],\"selfconsumptioncontracts\":[3,4,5,9,12,15,15,17,18,19,22,25,25],\"year\":[2020,2020,2020,2020,2020,2020,2020,2020,2020,2020,2020,2020,2021]},\"selected\":{\"id\":\"37794\"},\"selection_policy\":{\"id\":\"37795\"}},\"id\":\"36954\",\"type\":\"ColumnDataSource\"},{\"attributes\":{\"text\":\"Year Month selfconsumptioncontracts\"},\"id\":\"36922\",\"type\":\"Title\"},{\"attributes\":{},\"id\":\"36928\",\"type\":\"LinearScale\"},{\"attributes\":{\"color_mapper\":{\"id\":\"36955\"},\"formatter\":{\"id\":\"36962\"},\"label_standoff\":6,\"location\":[0,0],\"major_label_policy\":{\"id\":\"37790\"},\"major_label_text_font_size\":\"10pt\",\"ticker\":{\"id\":\"36961\"}},\"id\":\"36963\",\"type\":\"ColorBar\"},{\"attributes\":{},\"id\":\"36926\",\"type\":\"DataRange1d\"},{\"attributes\":{},\"id\":\"36962\",\"type\":\"PrintfTickFormatter\"},{\"attributes\":{\"fill_color\":{\"field\":\"selfconsumptioncontracts\",\"transform\":{\"id\":\"36955\"}},\"height\":{\"value\":1},\"line_color\":{\"value\":null},\"width\":{\"value\":2},\"x\":{\"field\":\"year\"},\"y\":{\"field\":\"month\"}},\"id\":\"36957\",\"type\":\"Rect\"},{\"attributes\":{\"data_source\":{\"id\":\"36954\"},\"glyph\":{\"id\":\"36957\"},\"hover_glyph\":null,\"muted_glyph\":null,\"nonselection_glyph\":{\"id\":\"36958\"},\"view\":{\"id\":\"36960\"}},\"id\":\"36959\",\"type\":\"GlyphRenderer\"},{\"attributes\":{\"bottom_units\":\"screen\",\"fill_alpha\":0.5,\"fill_color\":\"lightgrey\",\"left_units\":\"screen\",\"level\":\"overlay\",\"line_alpha\":1.0,\"line_color\":\"black\",\"line_dash\":[4,4],\"line_width\":2,\"right_units\":\"screen\",\"syncable\":false,\"top_units\":\"screen\"},\"id\":\"36946\",\"type\":\"BoxAnnotation\"},{\"attributes\":{},\"id\":\"36924\",\"type\":\"DataRange1d\"},{\"attributes\":{\"fill_alpha\":{\"value\":0.1},\"fill_color\":{\"field\":\"selfconsumptioncontracts\",\"transform\":{\"id\":\"36955\"}},\"height\":{\"value\":1},\"line_alpha\":{\"value\":0.1},\"line_color\":{\"value\":null},\"width\":{\"value\":2},\"x\":{\"field\":\"year\"},\"y\":{\"field\":\"month\"}},\"id\":\"36958\",\"type\":\"Rect\"}],\"root_ids\":[\"36921\"]},\"title\":\"Bokeh Application\",\"version\":\"2.3.2\"}};\n",
       "  var render_items = [{\"docid\":\"dc836e2e-1041-4b22-9eb1-8f6abe6fb5b4\",\"root_ids\":[\"36921\"],\"roots\":{\"36921\":\"5a8ffb86-b319-4aaa-bfb2-dad2826d1cb0\"}}];\n",
       "  root.Bokeh.embed.embed_items_notebook(docs_json, render_items);\n",
       "\n",
       "  }\n",
       "  if (root.Bokeh !== undefined) {\n",
       "    embed_document(root);\n",
       "  } else {\n",
       "    var attempts = 0;\n",
       "    var timer = setInterval(function(root) {\n",
       "      if (root.Bokeh !== undefined) {\n",
       "        clearInterval(timer);\n",
       "        embed_document(root);\n",
       "      } else {\n",
       "        attempts++;\n",
       "        if (attempts > 100) {\n",
       "          clearInterval(timer);\n",
       "          console.log(\"Bokeh: ERROR: Unable to run BokehJS code because BokehJS library is missing\");\n",
       "        }\n",
       "      }\n",
       "    }, 10, root)\n",
       "  }\n",
       "})(window);"
      ],
      "application/vnd.bokehjs_exec.v0+json": ""
     },
     "metadata": {
      "application/vnd.bokehjs_exec.v0+json": {
       "id": "36921"
      }
     },
     "output_type": "display_data"
    },
    {
     "data": {
      "text/html": [
       "\n",
       "\n",
       "\n",
       "\n",
       "\n",
       "\n",
       "  <div class=\"bk-root\" id=\"b2db5b92-e938-4d96-a22d-067accca580b\" data-root-id=\"37974\"></div>\n"
      ]
     },
     "metadata": {},
     "output_type": "display_data"
    },
    {
     "data": {
      "application/javascript": [
       "(function(root) {\n",
       "  function embed_document(root) {\n",
       "    \n",
       "  var docs_json = {\"06807e82-77ca-4055-b170-0188b940250f\":{\"defs\":[],\"roots\":{\"references\":[{\"attributes\":{\"below\":[{\"id\":\"37985\"}],\"center\":[{\"id\":\"37988\"},{\"id\":\"37992\"}],\"height\":350,\"left\":[{\"id\":\"37989\"}],\"outline_line_color\":null,\"renderers\":[{\"id\":\"38010\"}],\"title\":{\"id\":\"37975\"},\"toolbar\":{\"id\":\"38000\"},\"toolbar_location\":\"above\",\"x_range\":{\"id\":\"37977\"},\"x_scale\":{\"id\":\"37981\"},\"y_range\":{\"id\":\"37979\"},\"y_scale\":{\"id\":\"37983\"}},\"id\":\"37974\",\"subtype\":\"Figure\",\"type\":\"Plot\"},{\"attributes\":{\"bottom_units\":\"screen\",\"fill_alpha\":0.5,\"fill_color\":\"lightgrey\",\"left_units\":\"screen\",\"level\":\"overlay\",\"line_alpha\":1.0,\"line_color\":\"black\",\"line_dash\":[4,4],\"line_width\":2,\"right_units\":\"screen\",\"syncable\":false,\"top_units\":\"screen\"},\"id\":\"37999\",\"type\":\"BoxAnnotation\"},{\"attributes\":{},\"id\":\"38852\",\"type\":\"Selection\"},{\"attributes\":{},\"id\":\"38847\",\"type\":\"AllLabels\"},{\"attributes\":{\"axis_label\":\"AVG selfconsumptioncontracts\",\"formatter\":{\"id\":\"38851\"},\"major_label_policy\":{\"id\":\"38850\"},\"minor_tick_line_color\":null,\"ticker\":{\"id\":\"37990\"}},\"id\":\"37989\",\"type\":\"LinearAxis\"},{\"attributes\":{},\"id\":\"37981\",\"type\":\"LinearScale\"},{\"attributes\":{\"overlay\":{\"id\":\"37999\"}},\"id\":\"37995\",\"type\":\"BoxZoomTool\"},{\"attributes\":{},\"id\":\"38853\",\"type\":\"UnionRenderers\"},{\"attributes\":{},\"id\":\"38848\",\"type\":\"BasicTickFormatter\"},{\"attributes\":{},\"id\":\"37998\",\"type\":\"HelpTool\"},{\"attributes\":{},\"id\":\"37986\",\"type\":\"BasicTicker\"},{\"attributes\":{},\"id\":\"37993\",\"type\":\"PanTool\"},{\"attributes\":{\"axis_label\":\"Month\",\"formatter\":{\"id\":\"38848\"},\"major_label_policy\":{\"id\":\"38847\"},\"minor_tick_line_color\":null,\"ticker\":{\"id\":\"37986\"}},\"id\":\"37985\",\"type\":\"LinearAxis\"},{\"attributes\":{},\"id\":\"37994\",\"type\":\"WheelZoomTool\"},{\"attributes\":{},\"id\":\"37990\",\"type\":\"BasicTicker\"},{\"attributes\":{\"axis\":{\"id\":\"37985\"},\"grid_line_color\":null,\"ticker\":null},\"id\":\"37988\",\"type\":\"Grid\"},{\"attributes\":{},\"id\":\"37996\",\"type\":\"SaveTool\"},{\"attributes\":{\"active_multi\":null,\"tools\":[{\"id\":\"37993\"},{\"id\":\"37994\"},{\"id\":\"37995\"},{\"id\":\"37996\"},{\"id\":\"37997\"},{\"id\":\"37998\"}]},\"id\":\"38000\",\"type\":\"Toolbar\"},{\"attributes\":{\"start\":0},\"id\":\"37979\",\"type\":\"DataRange1d\"},{\"attributes\":{\"axis\":{\"id\":\"37989\"},\"dimension\":1,\"ticker\":null},\"id\":\"37992\",\"type\":\"Grid\"},{\"attributes\":{\"text\":\"AVG selfconsumptioncontracts\"},\"id\":\"37975\",\"type\":\"Title\"},{\"attributes\":{},\"id\":\"37997\",\"type\":\"ResetTool\"},{\"attributes\":{\"fill_color\":{\"value\":\"#1f77b4\"},\"line_color\":{\"value\":\"#1f77b4\"},\"top\":{\"field\":\"top\"},\"width\":{\"value\":0.9},\"x\":{\"field\":\"x\"}},\"id\":\"38008\",\"type\":\"VBar\"},{\"attributes\":{},\"id\":\"37977\",\"type\":\"DataRange1d\"},{\"attributes\":{},\"id\":\"38850\",\"type\":\"AllLabels\"},{\"attributes\":{\"data\":{\"top\":[3,4,5,9,12,15,15,17,18,19,22,25,25],\"x\":[1,2,3,4,5,6,7,8,9,10,11,12,1]},\"selected\":{\"id\":\"38852\"},\"selection_policy\":{\"id\":\"38853\"}},\"id\":\"38007\",\"type\":\"ColumnDataSource\"},{\"attributes\":{\"fill_alpha\":{\"value\":0.1},\"fill_color\":{\"value\":\"#1f77b4\"},\"line_alpha\":{\"value\":0.1},\"line_color\":{\"value\":\"#1f77b4\"},\"top\":{\"field\":\"top\"},\"width\":{\"value\":0.9},\"x\":{\"field\":\"x\"}},\"id\":\"38009\",\"type\":\"VBar\"},{\"attributes\":{\"source\":{\"id\":\"38007\"}},\"id\":\"38011\",\"type\":\"CDSView\"},{\"attributes\":{},\"id\":\"38851\",\"type\":\"BasicTickFormatter\"},{\"attributes\":{\"data_source\":{\"id\":\"38007\"},\"glyph\":{\"id\":\"38008\"},\"hover_glyph\":null,\"muted_glyph\":null,\"nonselection_glyph\":{\"id\":\"38009\"},\"view\":{\"id\":\"38011\"}},\"id\":\"38010\",\"type\":\"GlyphRenderer\"},{\"attributes\":{},\"id\":\"37983\",\"type\":\"LinearScale\"}],\"root_ids\":[\"37974\"]},\"title\":\"Bokeh Application\",\"version\":\"2.3.2\"}};\n",
       "  var render_items = [{\"docid\":\"06807e82-77ca-4055-b170-0188b940250f\",\"root_ids\":[\"37974\"],\"roots\":{\"37974\":\"b2db5b92-e938-4d96-a22d-067accca580b\"}}];\n",
       "  root.Bokeh.embed.embed_items_notebook(docs_json, render_items);\n",
       "\n",
       "  }\n",
       "  if (root.Bokeh !== undefined) {\n",
       "    embed_document(root);\n",
       "  } else {\n",
       "    var attempts = 0;\n",
       "    var timer = setInterval(function(root) {\n",
       "      if (root.Bokeh !== undefined) {\n",
       "        clearInterval(timer);\n",
       "        embed_document(root);\n",
       "      } else {\n",
       "        attempts++;\n",
       "        if (attempts > 100) {\n",
       "          clearInterval(timer);\n",
       "          console.log(\"Bokeh: ERROR: Unable to run BokehJS code because BokehJS library is missing\");\n",
       "        }\n",
       "      }\n",
       "    }, 10, root)\n",
       "  }\n",
       "})(window);"
      ],
      "application/vnd.bokehjs_exec.v0+json": ""
     },
     "metadata": {
      "application/vnd.bokehjs_exec.v0+json": {
       "id": "37974"
      }
     },
     "output_type": "display_data"
    }
   ],
   "source": [
    "output_notebook()\n",
    "for m in [\"members\",\"contracts\",\"selfconsumptioncontracts\"]:\n",
    "    show(plot_evolucio_metrica(last_year,m))\n"
   ]
  },
  {
   "cell_type": "markdown",
   "id": "49832a90",
   "metadata": {},
   "source": [
    "**Gràfica plot_mapa_calor**"
   ]
  },
  {
   "cell_type": "code",
   "execution_count": 152,
   "id": "2eb58cc8",
   "metadata": {
    "scrolled": true
   },
   "outputs": [
    {
     "data": {
      "text/html": [
       "\n",
       "\n",
       "\n",
       "\n",
       "\n",
       "\n",
       "  <div class=\"bk-root\" id=\"59da2e76-5178-44be-9144-559d22af1705\" data-root-id=\"29065\"></div>\n"
      ]
     },
     "metadata": {},
     "output_type": "display_data"
    },
    {
     "data": {
      "application/javascript": [
       "(function(root) {\n",
       "  function embed_document(root) {\n",
       "    \n",
       "  var docs_json = {\"0a9e9ba5-102f-42c3-9312-895216cfade4\":{\"defs\":[],\"roots\":{\"references\":[{\"attributes\":{\"below\":[{\"id\":\"29076\"}],\"center\":[{\"id\":\"29079\"},{\"id\":\"29083\"},{\"id\":\"29125\"}],\"left\":[{\"id\":\"29080\"}],\"renderers\":[{\"id\":\"29101\"},{\"id\":\"29130\"},{\"id\":\"29160\"}],\"title\":{\"id\":\"29066\"},\"toolbar\":{\"id\":\"29091\"},\"x_range\":{\"id\":\"29068\"},\"x_scale\":{\"id\":\"29072\"},\"y_range\":{\"id\":\"29070\"},\"y_scale\":{\"id\":\"29074\"}},\"id\":\"29065\",\"subtype\":\"Figure\",\"type\":\"Plot\"},{\"attributes\":{\"bottom_units\":\"screen\",\"fill_alpha\":0.5,\"fill_color\":\"lightgrey\",\"left_units\":\"screen\",\"level\":\"overlay\",\"line_alpha\":1.0,\"line_color\":\"black\",\"line_dash\":[4,4],\"line_width\":2,\"right_units\":\"screen\",\"syncable\":false,\"top_units\":\"screen\"},\"id\":\"29090\",\"type\":\"BoxAnnotation\"},{\"attributes\":{},\"id\":\"29105\",\"type\":\"AllLabels\"},{\"attributes\":{},\"id\":\"29111\",\"type\":\"UnionRenderers\"},{\"attributes\":{},\"id\":\"29074\",\"type\":\"LinearScale\"},{\"attributes\":{},\"id\":\"29086\",\"type\":\"PanTool\"},{\"attributes\":{},\"id\":\"29174\",\"type\":\"UnionRenderers\"},{\"attributes\":{},\"id\":\"29123\",\"type\":\"YearsTicker\"},{\"attributes\":{\"line_color\":\"purple\",\"line_width\":3,\"x\":{\"field\":\"x\"},\"y\":{\"field\":\"y\"}},\"id\":\"29099\",\"type\":\"Line\"},{\"attributes\":{},\"id\":\"29106\",\"type\":\"DatetimeTickFormatter\"},{\"attributes\":{},\"id\":\"29070\",\"type\":\"DataRange1d\"},{\"attributes\":{\"overlay\":{\"id\":\"29090\"}},\"id\":\"29087\",\"type\":\"BoxZoomTool\"},{\"attributes\":{},\"id\":\"29085\",\"type\":\"SaveTool\"},{\"attributes\":{},\"id\":\"29141\",\"type\":\"Selection\"},{\"attributes\":{\"axis\":{\"id\":\"29076\"},\"ticker\":null},\"id\":\"29079\",\"type\":\"Grid\"},{\"attributes\":{},\"id\":\"29081\",\"type\":\"BasicTicker\"},{\"attributes\":{},\"id\":\"29142\",\"type\":\"UnionRenderers\"},{\"attributes\":{\"days\":[1,15]},\"id\":\"29118\",\"type\":\"DaysTicker\"},{\"attributes\":{\"axis_label\":\"Count\",\"formatter\":{\"id\":\"29109\"},\"major_label_policy\":{\"id\":\"29108\"},\"ticker\":{\"id\":\"29081\"}},\"id\":\"29080\",\"type\":\"LinearAxis\"},{\"attributes\":{},\"id\":\"29173\",\"type\":\"Selection\"},{\"attributes\":{\"label\":{\"value\":\"New members\"},\"renderers\":[{\"id\":\"29130\"}]},\"id\":\"29156\",\"type\":\"LegendItem\"},{\"attributes\":{\"base\":60,\"mantissas\":[1,2,5,10,15,20,30],\"max_interval\":1800000.0,\"min_interval\":1000.0,\"num_minor_ticks\":0},\"id\":\"29113\",\"type\":\"AdaptiveTicker\"},{\"attributes\":{},\"id\":\"29084\",\"type\":\"CrosshairTool\"},{\"attributes\":{\"data\":{\"x\":{\"__ndarray__\":\"AACA53JeckIAAMA5bWhyQgAAwFpwcXJCAAAArWp7ckIAAICZEoVyQgAAwOsMj3JCAABA2LSYckIAAIAqr6JyQgAAwHyprHJCAABAaVG2ckIAAIC7S8ByQgAAAKjzyXJCAABA+u3TckIAAIBM6N1yQgAAgG3r5nJCAADAv+XwckIAAECsjfpyQgAAgP6HBHNCAAAA6y8Oc0IAAEA9KhhzQgAAgI8kInNCAAAAfMwrc0IAAEDOxjVzQgAAwLpuP3NCAAAADWlJc0IAAEBfY1NzQgAAAOa4XHNCAABAOLNmc0IAAMAkW3BzQgAAAHdVenNCAACAY/2Dc0IAAMC1941zQgAAAAjyl3NCAACA9Jmhc0IAAMBGlKtzQgAAQDM8tXNCAACAhTa/c0IAAMDXMMlzQgAAwPgz0nNCAAAASy7cc0IAAIA31uVzQgAAwInQ73NCAABAdnj5c0IAAIDIcgN0QgAAwBptDXRCAABABxUXdEIAAIBZDyF0QgAAAEa3KnRCAABAmLE0dEIAAIDqqz50QgAAgAuvR3RCAADAXalRdEIAAEBKUVt0QgAAgJxLZXRCAAAAifNudEIAAEDb7Xh0QgAAgC3ognRCAAAAGpCMdEIAAEBsipZ0QgAAwFgyoHRCAAAAqyyqdEIAAED9JrR0QgAAQB4qvXRCAACAcCTHdEIAAABdzNB0QgAAQK/G2nRCAADAm27kdEIAAADuaO50QgAAQEBj+HRCAADALAsCdUIAAAB/BQx1QgAAgGutFXVCAADAvacfdUIAAAAQoil1QgAAwJb3MnVCAAAA6fE8dUIAAIDVmUZ1QgAAwCeUUHVCAABAFDxadUIAAIBmNmR1QgAAwLgwbnVCAABApdh3dUIAAID30oF1QgAAAOR6i3VCAABANnWVdUIAAICIb591QgAAgKlyqHVCAADA+2yydUIAAEDoFLx1QgAAgDoPxnVCAAAAJ7fPdUIAAEB5sdl1QgAAgMur43VCAAAAuFPtdUIAAEAKTvd1QgAAwPb1AHZCAAAASfAKdkIAAECb6hR2QgAAQLztHXZCAACADugndkIAAAD7jzF2QgAAQE2KO3ZCAADAOTJFdkIAAACMLE92QgAAQN4mWXZCAADAys5idkIAAAAdyWx2QgAAgAlxdnZCAADAW2uAdkIAAACuZYp2QgAAAM9ok3ZCAABAIWOddkIAAMANC6d2QgAAAGAFsXZCAACATK26dkIAAMCep8R2QgAAAPGhznZCAACA3UnYdkIAAMAvROJ2QgAAQBzs63ZCAACAbub1dkIAAMDA4P92QgAAgEc2CXdCAADAmTATd0IAAECG2Bx3QgAAgNjSJndCAAAAxXowd0IAAEAXdTp3QgAAgGlvRHdCAAAAVhdOd0IAAECoEVh3QgAAwJS5YXdCAAAA57Nrd0IAAEA5rnV3QgAAQFqxfndCAACArKuId0IAAACZU5J3QgAAQOtNnHdCAADA1/Wld0I=\",\"dtype\":\"float64\",\"order\":\"little\",\"shape\":[139]},\"y\":[0,0,0,0,0,0,0,0,0,0,0,4,9,9,12,12,13,13,16,18,21,22,22,26,27,27,32,33,34,37,38,38,38,39,39,41,44,48,52,58,59,60,61,64,70,71,72,73,73,77,80,83,85,86,87,87,89,90,93,94,96,99,99,99,100,101,101,103,104,107,108,109,110,112,114,118,123,123,124,126,128,132,136,137,141,151,158,160,161,161,166,169,172,173,180,186,188,196,203,210,215,222,226,226,229,233,237,238,241,247,251,259,265,269,275,278,283,289,296,304,309,317,320,323,325,329,330,330,334,338,340,345,349,355,362,366,371,374,377]},\"selected\":{\"id\":\"29110\"},\"selection_policy\":{\"id\":\"29111\"}},\"id\":\"29098\",\"type\":\"ColumnDataSource\"},{\"attributes\":{\"label\":{\"value\":\"Canceled members\"},\"renderers\":[{\"id\":\"29160\"}]},\"id\":\"29188\",\"type\":\"LegendItem\"},{\"attributes\":{\"days\":[1,2,3,4,5,6,7,8,9,10,11,12,13,14,15,16,17,18,19,20,21,22,23,24,25,26,27,28,29,30,31]},\"id\":\"29115\",\"type\":\"DaysTicker\"},{\"attributes\":{\"line_color\":\"blue\",\"line_width\":3,\"x\":{\"field\":\"x\"},\"y\":{\"field\":\"y\"}},\"id\":\"29128\",\"type\":\"Line\"},{\"attributes\":{\"days\":[1,4,7,10,13,16,19,22,25,28]},\"id\":\"29116\",\"type\":\"DaysTicker\"},{\"attributes\":{\"text\":\"All members, New and Canceled members\"},\"id\":\"29066\",\"type\":\"Title\"},{\"attributes\":{},\"id\":\"29110\",\"type\":\"Selection\"},{\"attributes\":{\"active_multi\":null,\"tools\":[{\"id\":\"29084\"},{\"id\":\"29085\"},{\"id\":\"29086\"},{\"id\":\"29087\"},{\"id\":\"29088\"},{\"id\":\"29089\"}]},\"id\":\"29091\",\"type\":\"Toolbar\"},{\"attributes\":{\"months\":[0,1,2,3,4,5,6,7,8,9,10,11]},\"id\":\"29119\",\"type\":\"MonthsTicker\"},{\"attributes\":{\"months\":[0,6]},\"id\":\"29122\",\"type\":\"MonthsTicker\"},{\"attributes\":{\"items\":[{\"id\":\"29126\"},{\"id\":\"29156\"},{\"id\":\"29188\"}],\"location\":\"top_left\"},\"id\":\"29125\",\"type\":\"Legend\"},{\"attributes\":{},\"id\":\"29108\",\"type\":\"AllLabels\"},{\"attributes\":{\"base\":24,\"mantissas\":[1,2,4,6,8,12],\"max_interval\":43200000.0,\"min_interval\":3600000.0,\"num_minor_ticks\":0},\"id\":\"29114\",\"type\":\"AdaptiveTicker\"},{\"attributes\":{\"data_source\":{\"id\":\"29098\"},\"glyph\":{\"id\":\"29099\"},\"hover_glyph\":null,\"muted_glyph\":null,\"nonselection_glyph\":{\"id\":\"29100\"},\"view\":{\"id\":\"29102\"}},\"id\":\"29101\",\"type\":\"GlyphRenderer\"},{\"attributes\":{\"data_source\":{\"id\":\"29127\"},\"glyph\":{\"id\":\"29128\"},\"hover_glyph\":null,\"muted_glyph\":null,\"nonselection_glyph\":{\"id\":\"29129\"},\"view\":{\"id\":\"29131\"}},\"id\":\"29130\",\"type\":\"GlyphRenderer\"},{\"attributes\":{\"source\":{\"id\":\"29098\"}},\"id\":\"29102\",\"type\":\"CDSView\"},{\"attributes\":{\"data\":{\"x\":{\"__ndarray__\":\"AACA53JeckIAAMA5bWhyQgAAwFpwcXJCAAAArWp7ckIAAICZEoVyQgAAwOsMj3JCAABA2LSYckIAAIAqr6JyQgAAwHyprHJCAABAaVG2ckIAAIC7S8ByQgAAAKjzyXJCAABA+u3TckIAAIBM6N1yQgAAgG3r5nJCAADAv+XwckIAAECsjfpyQgAAgP6HBHNCAAAA6y8Oc0IAAEA9KhhzQgAAgI8kInNCAAAAfMwrc0IAAEDOxjVzQgAAwLpuP3NCAAAADWlJc0IAAEBfY1NzQgAAAOa4XHNCAABAOLNmc0IAAMAkW3BzQgAAAHdVenNCAACAY/2Dc0IAAMC1941zQgAAAAjyl3NCAACA9Jmhc0IAAMBGlKtzQgAAQDM8tXNCAACAhTa/c0IAAMDXMMlzQgAAwPgz0nNCAAAASy7cc0IAAIA31uVzQgAAwInQ73NCAABAdnj5c0IAAIDIcgN0QgAAwBptDXRCAABABxUXdEIAAIBZDyF0QgAAAEa3KnRCAABAmLE0dEIAAIDqqz50QgAAgAuvR3RCAADAXalRdEIAAEBKUVt0QgAAgJxLZXRCAAAAifNudEIAAEDb7Xh0QgAAgC3ognRCAAAAGpCMdEIAAEBsipZ0QgAAwFgyoHRCAAAAqyyqdEIAAED9JrR0QgAAQB4qvXRCAACAcCTHdEIAAABdzNB0QgAAQK/G2nRCAADAm27kdEIAAADuaO50QgAAQEBj+HRCAADALAsCdUIAAAB/BQx1QgAAgGutFXVCAADAvacfdUIAAAAQoil1QgAAwJb3MnVCAAAA6fE8dUIAAIDVmUZ1QgAAwCeUUHVCAABAFDxadUIAAIBmNmR1QgAAwLgwbnVCAABApdh3dUIAAID30oF1QgAAAOR6i3VCAABANnWVdUIAAICIb591QgAAgKlyqHVCAADA+2yydUIAAEDoFLx1QgAAgDoPxnVCAAAAJ7fPdUIAAEB5sdl1QgAAgMur43VCAAAAuFPtdUIAAEAKTvd1QgAAwPb1AHZCAAAASfAKdkIAAECb6hR2QgAAQLztHXZCAACADugndkIAAAD7jzF2QgAAQE2KO3ZCAADAOTJFdkIAAACMLE92QgAAQN4mWXZCAADAys5idkIAAAAdyWx2QgAAgAlxdnZCAADAW2uAdkIAAACuZYp2QgAAAM9ok3ZCAABAIWOddkIAAMANC6d2QgAAAGAFsXZCAACATK26dkIAAMCep8R2QgAAAPGhznZCAACA3UnYdkIAAMAvROJ2QgAAQBzs63ZCAACAbub1dkIAAMDA4P92QgAAgEc2CXdCAADAmTATd0IAAECG2Bx3QgAAgNjSJndCAAAAxXowd0IAAEAXdTp3QgAAgGlvRHdCAAAAVhdOd0IAAECoEVh3QgAAwJS5YXdCAAAA57Nrd0IAAEA5rnV3QgAAQFqxfndCAACArKuId0IAAACZU5J3QgAAQOtNnHdCAADA1/Wld0I=\",\"dtype\":\"float64\",\"order\":\"little\",\"shape\":[139]},\"y\":[0,0,0,0,0,0,0,0,0,0,0,0,0,0,0,0,0,0,0,0,0,0,0,0,0,0,0,0,0,0,0,0,0,0,0,0,0,0,0,0,0,0,0,0,0,0,0,0,0,0,0,0,0,0,0,0,0,0,0,0,0,0,0,0,0,0,0,0,0,0,0,0,0,0,0,0,0,0,0,0,0,0,0,0,0,0,0,0,0,0,0,0,0,0,0,0,0,0,0,0,0,1,0,0,0,0,1,1,0,0,0,0,0,1,0,0,0,0,0,1,0,0,0,0,0,0,0,0,0,1,0,0,0,1,0,1,0,0,0]},\"selected\":{\"id\":\"29173\"},\"selection_policy\":{\"id\":\"29174\"}},\"id\":\"29157\",\"type\":\"ColumnDataSource\"},{\"attributes\":{\"mantissas\":[1,2,5],\"max_interval\":500.0,\"num_minor_ticks\":0},\"id\":\"29112\",\"type\":\"AdaptiveTicker\"},{\"attributes\":{\"line_alpha\":0.1,\"line_color\":\"purple\",\"line_width\":3,\"x\":{\"field\":\"x\"},\"y\":{\"field\":\"y\"}},\"id\":\"29100\",\"type\":\"Line\"},{\"attributes\":{\"line_alpha\":0.1,\"line_color\":\"coral\",\"line_width\":3,\"x\":{\"field\":\"x\"},\"y\":{\"field\":\"y\"}},\"id\":\"29159\",\"type\":\"Line\"},{\"attributes\":{},\"id\":\"29109\",\"type\":\"BasicTickFormatter\"},{\"attributes\":{\"line_color\":\"coral\",\"line_width\":3,\"x\":{\"field\":\"x\"},\"y\":{\"field\":\"y\"}},\"id\":\"29158\",\"type\":\"Line\"},{\"attributes\":{\"label\":{\"value\":\"members\"},\"renderers\":[{\"id\":\"29101\"}]},\"id\":\"29126\",\"type\":\"LegendItem\"},{\"attributes\":{\"days\":[1,8,15,22]},\"id\":\"29117\",\"type\":\"DaysTicker\"},{\"attributes\":{},\"id\":\"29088\",\"type\":\"ResetTool\"},{\"attributes\":{\"source\":{\"id\":\"29157\"}},\"id\":\"29161\",\"type\":\"CDSView\"},{\"attributes\":{\"months\":[0,2,4,6,8,10]},\"id\":\"29120\",\"type\":\"MonthsTicker\"},{\"attributes\":{},\"id\":\"29072\",\"type\":\"LinearScale\"},{\"attributes\":{\"data\":{\"x\":{\"__ndarray__\":\"AACA53JeckIAAMA5bWhyQgAAwFpwcXJCAAAArWp7ckIAAICZEoVyQgAAwOsMj3JCAABA2LSYckIAAIAqr6JyQgAAwHyprHJCAABAaVG2ckIAAIC7S8ByQgAAAKjzyXJCAABA+u3TckIAAIBM6N1yQgAAgG3r5nJCAADAv+XwckIAAECsjfpyQgAAgP6HBHNCAAAA6y8Oc0IAAEA9KhhzQgAAgI8kInNCAAAAfMwrc0IAAEDOxjVzQgAAwLpuP3NCAAAADWlJc0IAAEBfY1NzQgAAAOa4XHNCAABAOLNmc0IAAMAkW3BzQgAAAHdVenNCAACAY/2Dc0IAAMC1941zQgAAAAjyl3NCAACA9Jmhc0IAAMBGlKtzQgAAQDM8tXNCAACAhTa/c0IAAMDXMMlzQgAAwPgz0nNCAAAASy7cc0IAAIA31uVzQgAAwInQ73NCAABAdnj5c0IAAIDIcgN0QgAAwBptDXRCAABABxUXdEIAAIBZDyF0QgAAAEa3KnRCAABAmLE0dEIAAIDqqz50QgAAgAuvR3RCAADAXalRdEIAAEBKUVt0QgAAgJxLZXRCAAAAifNudEIAAEDb7Xh0QgAAgC3ognRCAAAAGpCMdEIAAEBsipZ0QgAAwFgyoHRCAAAAqyyqdEIAAED9JrR0QgAAQB4qvXRCAACAcCTHdEIAAABdzNB0QgAAQK/G2nRCAADAm27kdEIAAADuaO50QgAAQEBj+HRCAADALAsCdUIAAAB/BQx1QgAAgGutFXVCAADAvacfdUIAAAAQoil1QgAAwJb3MnVCAAAA6fE8dUIAAIDVmUZ1QgAAwCeUUHVCAABAFDxadUIAAIBmNmR1QgAAwLgwbnVCAABApdh3dUIAAID30oF1QgAAAOR6i3VCAABANnWVdUIAAICIb591QgAAgKlyqHVCAADA+2yydUIAAEDoFLx1QgAAgDoPxnVCAAAAJ7fPdUIAAEB5sdl1QgAAgMur43VCAAAAuFPtdUIAAEAKTvd1QgAAwPb1AHZCAAAASfAKdkIAAECb6hR2QgAAQLztHXZCAACADugndkIAAAD7jzF2QgAAQE2KO3ZCAADAOTJFdkIAAACMLE92QgAAQN4mWXZCAADAys5idkIAAAAdyWx2QgAAgAlxdnZCAADAW2uAdkIAAACuZYp2QgAAAM9ok3ZCAABAIWOddkIAAMANC6d2QgAAAGAFsXZCAACATK26dkIAAMCep8R2QgAAAPGhznZCAACA3UnYdkIAAMAvROJ2QgAAQBzs63ZCAACAbub1dkIAAMDA4P92QgAAgEc2CXdCAADAmTATd0IAAECG2Bx3QgAAgNjSJndCAAAAxXowd0IAAEAXdTp3QgAAgGlvRHdCAAAAVhdOd0IAAECoEVh3QgAAwJS5YXdCAAAA57Nrd0IAAEA5rnV3QgAAQFqxfndCAACArKuId0IAAACZU5J3QgAAQOtNnHdCAADA1/Wld0I=\",\"dtype\":\"float64\",\"order\":\"little\",\"shape\":[139]},\"y\":[0,0,0,0,0,0,0,0,0,0,0,4,5,0,3,0,1,0,3,2,3,1,0,4,1,0,5,1,1,3,1,0,0,1,0,2,3,4,4,6,1,1,1,3,6,1,1,1,0,4,3,3,2,1,1,0,2,1,3,1,2,3,0,0,1,1,0,2,1,3,1,1,1,2,2,4,5,0,1,2,2,4,4,1,4,10,7,2,1,0,5,3,3,1,7,6,2,8,7,7,5,8,4,0,3,4,5,2,3,6,4,8,6,5,6,3,5,6,7,9,5,8,3,3,2,4,1,0,4,5,2,5,4,7,7,5,5,3,3]},\"selected\":{\"id\":\"29141\"},\"selection_policy\":{\"id\":\"29142\"}},\"id\":\"29127\",\"type\":\"ColumnDataSource\"},{\"attributes\":{\"source\":{\"id\":\"29127\"}},\"id\":\"29131\",\"type\":\"CDSView\"},{\"attributes\":{},\"id\":\"29068\",\"type\":\"DataRange1d\"},{\"attributes\":{\"line_alpha\":0.1,\"line_color\":\"blue\",\"line_width\":3,\"x\":{\"field\":\"x\"},\"y\":{\"field\":\"y\"}},\"id\":\"29129\",\"type\":\"Line\"},{\"attributes\":{},\"id\":\"29089\",\"type\":\"WheelZoomTool\"},{\"attributes\":{\"axis_label\":\"Year\",\"formatter\":{\"id\":\"29106\"},\"major_label_policy\":{\"id\":\"29105\"},\"ticker\":{\"id\":\"29077\"}},\"id\":\"29076\",\"type\":\"DatetimeAxis\"},{\"attributes\":{\"months\":[0,4,8]},\"id\":\"29121\",\"type\":\"MonthsTicker\"},{\"attributes\":{\"num_minor_ticks\":5,\"tickers\":[{\"id\":\"29112\"},{\"id\":\"29113\"},{\"id\":\"29114\"},{\"id\":\"29115\"},{\"id\":\"29116\"},{\"id\":\"29117\"},{\"id\":\"29118\"},{\"id\":\"29119\"},{\"id\":\"29120\"},{\"id\":\"29121\"},{\"id\":\"29122\"},{\"id\":\"29123\"}]},\"id\":\"29077\",\"type\":\"DatetimeTicker\"},{\"attributes\":{\"data_source\":{\"id\":\"29157\"},\"glyph\":{\"id\":\"29158\"},\"hover_glyph\":null,\"muted_glyph\":null,\"nonselection_glyph\":{\"id\":\"29159\"},\"view\":{\"id\":\"29161\"}},\"id\":\"29160\",\"type\":\"GlyphRenderer\"},{\"attributes\":{\"axis\":{\"id\":\"29080\"},\"dimension\":1,\"ticker\":null},\"id\":\"29083\",\"type\":\"Grid\"}],\"root_ids\":[\"29065\"]},\"title\":\"Bokeh Application\",\"version\":\"2.3.2\"}};\n",
       "  var render_items = [{\"docid\":\"0a9e9ba5-102f-42c3-9312-895216cfade4\",\"root_ids\":[\"29065\"],\"roots\":{\"29065\":\"59da2e76-5178-44be-9144-559d22af1705\"}}];\n",
       "  root.Bokeh.embed.embed_items_notebook(docs_json, render_items);\n",
       "\n",
       "  }\n",
       "  if (root.Bokeh !== undefined) {\n",
       "    embed_document(root);\n",
       "  } else {\n",
       "    var attempts = 0;\n",
       "    var timer = setInterval(function(root) {\n",
       "      if (root.Bokeh !== undefined) {\n",
       "        clearInterval(timer);\n",
       "        embed_document(root);\n",
       "      } else {\n",
       "        attempts++;\n",
       "        if (attempts > 100) {\n",
       "          clearInterval(timer);\n",
       "          console.log(\"Bokeh: ERROR: Unable to run BokehJS code because BokehJS library is missing\");\n",
       "        }\n",
       "      }\n",
       "    }, 10, root)\n",
       "  }\n",
       "})(window);"
      ],
      "application/vnd.bokehjs_exec.v0+json": ""
     },
     "metadata": {
      "application/vnd.bokehjs_exec.v0+json": {
       "id": "29065"
      }
     },
     "output_type": "display_data"
    },
    {
     "data": {
      "text/html": [
       "\n",
       "\n",
       "\n",
       "\n",
       "\n",
       "\n",
       "  <div class=\"bk-root\" id=\"3a2e009e-7cc1-46b0-bb36-5492e82a2c59\" data-root-id=\"30334\"></div>\n"
      ]
     },
     "metadata": {},
     "output_type": "display_data"
    },
    {
     "data": {
      "application/javascript": [
       "(function(root) {\n",
       "  function embed_document(root) {\n",
       "    \n",
       "  var docs_json = {\"6d2f4233-984f-4a37-a4a4-73e3985da57f\":{\"defs\":[],\"roots\":{\"references\":[{\"attributes\":{\"below\":[{\"id\":\"30345\"}],\"center\":[{\"id\":\"30348\"},{\"id\":\"30352\"}],\"left\":[{\"id\":\"30349\"}],\"renderers\":[{\"id\":\"30372\"}],\"right\":[{\"id\":\"30376\"}],\"title\":{\"id\":\"30335\"},\"toolbar\":{\"id\":\"30360\"},\"toolbar_location\":\"above\",\"x_range\":{\"id\":\"30337\"},\"x_scale\":{\"id\":\"30341\"},\"y_range\":{\"id\":\"30339\"},\"y_scale\":{\"id\":\"30343\"}},\"id\":\"30334\",\"subtype\":\"Figure\",\"type\":\"Plot\"},{\"attributes\":{},\"id\":\"30357\",\"type\":\"ResetTool\"},{\"attributes\":{\"overlay\":{\"id\":\"30359\"}},\"id\":\"30356\",\"type\":\"BoxZoomTool\"},{\"attributes\":{\"active_multi\":null,\"tools\":[{\"id\":\"30353\"},{\"id\":\"30354\"},{\"id\":\"30355\"},{\"id\":\"30356\"},{\"id\":\"30357\"},{\"id\":\"30358\"}]},\"id\":\"30360\",\"type\":\"Toolbar\"},{\"attributes\":{},\"id\":\"31109\",\"type\":\"NoOverlap\"},{\"attributes\":{},\"id\":\"30358\",\"type\":\"WheelZoomTool\"},{\"attributes\":{\"axis_label\":\"Year\",\"formatter\":{\"id\":\"31108\"},\"major_label_policy\":{\"id\":\"31107\"},\"ticker\":{\"id\":\"30346\"}},\"id\":\"30345\",\"type\":\"LinearAxis\"},{\"attributes\":{},\"id\":\"30353\",\"type\":\"CrosshairTool\"},{\"attributes\":{},\"id\":\"30355\",\"type\":\"PanTool\"},{\"attributes\":{\"high\":349,\"low\":309,\"palette\":[\"#f7fcfd\",\"#e5f5f9\",\"#ccece6\",\"#99d8c9\",\"#66c2a4\",\"#41ae76\",\"#238b45\",\"#006d2c\",\"#00441b\"]},\"id\":\"30368\",\"type\":\"LinearColorMapper\"},{\"attributes\":{},\"id\":\"30354\",\"type\":\"SaveTool\"},{\"attributes\":{\"desired_num_ticks\":9},\"id\":\"30374\",\"type\":\"BasicTicker\"},{\"attributes\":{\"fill_color\":{\"field\":\"members\",\"transform\":{\"id\":\"30368\"}},\"height\":{\"value\":1},\"line_color\":{\"value\":null},\"width\":{\"value\":2},\"x\":{\"field\":\"year\"},\"y\":{\"field\":\"month\"}},\"id\":\"30370\",\"type\":\"Rect\"},{\"attributes\":{},\"id\":\"31111\",\"type\":\"AllLabels\"},{\"attributes\":{},\"id\":\"31112\",\"type\":\"BasicTickFormatter\"},{\"attributes\":{},\"id\":\"31107\",\"type\":\"AllLabels\"},{\"attributes\":{\"axis\":{\"id\":\"30345\"},\"ticker\":null},\"id\":\"30348\",\"type\":\"Grid\"},{\"attributes\":{\"data\":{\"canceledcontracts\":[3,4,7,5,3,4,1,2,4,3,1,4,6],\"canceledmembers\":[0,0,0,0,0,0,0,0,0,1,0,0,0],\"canceledselfconsumptioncontracts\":[0,0,0,0,0,0,0,0,0,0,0,0,1],\"contracts\":[454,469,481,485,488,493,496,501,504,510,518,527,531],\"index\":[0,1,2,3,4,5,6,7,8,9,10,11,12],\"members\":[309,317,320,323,325,329,330,330,334,338,340,345,349],\"month\":[1,2,3,4,5,6,7,8,9,10,11,12,1],\"newcontracts\":[8,19,19,9,6,9,4,7,7,9,9,13,10],\"newmembers\":[5,8,3,3,2,4,1,0,4,5,2,5,4],\"newselfconsumptioncontracts\":[1,1,1,4,3,3,0,2,1,1,3,3,1],\"selfconsumptioncontracts\":[3,4,5,9,12,15,15,17,18,19,22,25,25],\"year\":[2020,2020,2020,2020,2020,2020,2020,2020,2020,2020,2020,2020,2021]},\"selected\":{\"id\":\"31113\"},\"selection_policy\":{\"id\":\"31114\"}},\"id\":\"30367\",\"type\":\"ColumnDataSource\"},{\"attributes\":{\"axis_label\":\"Month\",\"formatter\":{\"id\":\"31112\"},\"major_label_policy\":{\"id\":\"31111\"},\"ticker\":{\"id\":\"30350\"}},\"id\":\"30349\",\"type\":\"LinearAxis\"},{\"attributes\":{},\"id\":\"30343\",\"type\":\"LinearScale\"},{\"attributes\":{\"axis\":{\"id\":\"30349\"},\"dimension\":1,\"ticker\":null},\"id\":\"30352\",\"type\":\"Grid\"},{\"attributes\":{\"fill_alpha\":{\"value\":0.1},\"fill_color\":{\"field\":\"members\",\"transform\":{\"id\":\"30368\"}},\"height\":{\"value\":1},\"line_alpha\":{\"value\":0.1},\"line_color\":{\"value\":null},\"width\":{\"value\":2},\"x\":{\"field\":\"year\"},\"y\":{\"field\":\"month\"}},\"id\":\"30371\",\"type\":\"Rect\"},{\"attributes\":{},\"id\":\"30339\",\"type\":\"DataRange1d\"},{\"attributes\":{\"bottom_units\":\"screen\",\"fill_alpha\":0.5,\"fill_color\":\"lightgrey\",\"left_units\":\"screen\",\"level\":\"overlay\",\"line_alpha\":1.0,\"line_color\":\"black\",\"line_dash\":[4,4],\"line_width\":2,\"right_units\":\"screen\",\"syncable\":false,\"top_units\":\"screen\"},\"id\":\"30359\",\"type\":\"BoxAnnotation\"},{\"attributes\":{},\"id\":\"30337\",\"type\":\"DataRange1d\"},{\"attributes\":{\"source\":{\"id\":\"30367\"}},\"id\":\"30373\",\"type\":\"CDSView\"},{\"attributes\":{},\"id\":\"31113\",\"type\":\"Selection\"},{\"attributes\":{},\"id\":\"30346\",\"type\":\"BasicTicker\"},{\"attributes\":{},\"id\":\"31108\",\"type\":\"BasicTickFormatter\"},{\"attributes\":{},\"id\":\"30350\",\"type\":\"BasicTicker\"},{\"attributes\":{},\"id\":\"31114\",\"type\":\"UnionRenderers\"},{\"attributes\":{\"color_mapper\":{\"id\":\"30368\"},\"formatter\":{\"id\":\"30375\"},\"label_standoff\":6,\"location\":[0,0],\"major_label_policy\":{\"id\":\"31109\"},\"major_label_text_font_size\":\"10pt\",\"ticker\":{\"id\":\"30374\"}},\"id\":\"30376\",\"type\":\"ColorBar\"},{\"attributes\":{\"text\":\"Year Month members\"},\"id\":\"30335\",\"type\":\"Title\"},{\"attributes\":{},\"id\":\"30375\",\"type\":\"PrintfTickFormatter\"},{\"attributes\":{\"data_source\":{\"id\":\"30367\"},\"glyph\":{\"id\":\"30370\"},\"hover_glyph\":null,\"muted_glyph\":null,\"nonselection_glyph\":{\"id\":\"30371\"},\"view\":{\"id\":\"30373\"}},\"id\":\"30372\",\"type\":\"GlyphRenderer\"},{\"attributes\":{},\"id\":\"30341\",\"type\":\"LinearScale\"}],\"root_ids\":[\"30334\"]},\"title\":\"Bokeh Application\",\"version\":\"2.3.2\"}};\n",
       "  var render_items = [{\"docid\":\"6d2f4233-984f-4a37-a4a4-73e3985da57f\",\"root_ids\":[\"30334\"],\"roots\":{\"30334\":\"3a2e009e-7cc1-46b0-bb36-5492e82a2c59\"}}];\n",
       "  root.Bokeh.embed.embed_items_notebook(docs_json, render_items);\n",
       "\n",
       "  }\n",
       "  if (root.Bokeh !== undefined) {\n",
       "    embed_document(root);\n",
       "  } else {\n",
       "    var attempts = 0;\n",
       "    var timer = setInterval(function(root) {\n",
       "      if (root.Bokeh !== undefined) {\n",
       "        clearInterval(timer);\n",
       "        embed_document(root);\n",
       "      } else {\n",
       "        attempts++;\n",
       "        if (attempts > 100) {\n",
       "          clearInterval(timer);\n",
       "          console.log(\"Bokeh: ERROR: Unable to run BokehJS code because BokehJS library is missing\");\n",
       "        }\n",
       "      }\n",
       "    }, 10, root)\n",
       "  }\n",
       "})(window);"
      ],
      "application/vnd.bokehjs_exec.v0+json": ""
     },
     "metadata": {
      "application/vnd.bokehjs_exec.v0+json": {
       "id": "30334"
      }
     },
     "output_type": "display_data"
    },
    {
     "data": {
      "text/html": [
       "\n",
       "\n",
       "\n",
       "\n",
       "\n",
       "\n",
       "  <div class=\"bk-root\" id=\"2bb85be8-ff4c-4788-ac68-5d862b4d6fb6\" data-root-id=\"31293\"></div>\n"
      ]
     },
     "metadata": {},
     "output_type": "display_data"
    },
    {
     "data": {
      "application/javascript": [
       "(function(root) {\n",
       "  function embed_document(root) {\n",
       "    \n",
       "  var docs_json = {\"9f25016d-ede7-4b3c-8b84-5584cf07ee99\":{\"defs\":[],\"roots\":{\"references\":[{\"attributes\":{\"below\":[{\"id\":\"31304\"}],\"center\":[{\"id\":\"31307\"},{\"id\":\"31311\"}],\"height\":350,\"left\":[{\"id\":\"31308\"}],\"outline_line_color\":null,\"renderers\":[{\"id\":\"31329\"}],\"title\":{\"id\":\"31294\"},\"toolbar\":{\"id\":\"31319\"},\"toolbar_location\":\"above\",\"x_range\":{\"id\":\"31296\"},\"x_scale\":{\"id\":\"31300\"},\"y_range\":{\"id\":\"31298\"},\"y_scale\":{\"id\":\"31302\"}},\"id\":\"31293\",\"subtype\":\"Figure\",\"type\":\"Plot\"},{\"attributes\":{\"text\":\"AVG members\"},\"id\":\"31294\",\"type\":\"Title\"},{\"attributes\":{\"overlay\":{\"id\":\"31318\"}},\"id\":\"31314\",\"type\":\"BoxZoomTool\"},{\"attributes\":{},\"id\":\"31317\",\"type\":\"HelpTool\"},{\"attributes\":{},\"id\":\"31313\",\"type\":\"WheelZoomTool\"},{\"attributes\":{},\"id\":\"31312\",\"type\":\"PanTool\"},{\"attributes\":{},\"id\":\"31315\",\"type\":\"SaveTool\"},{\"attributes\":{\"axis_label\":\"AVG members\",\"formatter\":{\"id\":\"32076\"},\"major_label_policy\":{\"id\":\"32075\"},\"minor_tick_line_color\":null,\"ticker\":{\"id\":\"31309\"}},\"id\":\"31308\",\"type\":\"LinearAxis\"},{\"attributes\":{},\"id\":\"31309\",\"type\":\"BasicTicker\"},{\"attributes\":{\"active_multi\":null,\"tools\":[{\"id\":\"31312\"},{\"id\":\"31313\"},{\"id\":\"31314\"},{\"id\":\"31315\"},{\"id\":\"31316\"},{\"id\":\"31317\"}]},\"id\":\"31319\",\"type\":\"Toolbar\"},{\"attributes\":{\"axis\":{\"id\":\"31308\"},\"dimension\":1,\"ticker\":null},\"id\":\"31311\",\"type\":\"Grid\"},{\"attributes\":{},\"id\":\"31316\",\"type\":\"ResetTool\"},{\"attributes\":{\"fill_color\":{\"value\":\"#1f77b4\"},\"line_color\":{\"value\":\"#1f77b4\"},\"top\":{\"field\":\"top\"},\"width\":{\"value\":0.9},\"x\":{\"field\":\"x\"}},\"id\":\"31327\",\"type\":\"VBar\"},{\"attributes\":{},\"id\":\"31296\",\"type\":\"DataRange1d\"},{\"attributes\":{},\"id\":\"31300\",\"type\":\"LinearScale\"},{\"attributes\":{\"start\":0},\"id\":\"31298\",\"type\":\"DataRange1d\"},{\"attributes\":{},\"id\":\"32075\",\"type\":\"AllLabels\"},{\"attributes\":{\"data\":{\"top\":[309,317,320,323,325,329,330,330,334,338,340,345,349],\"x\":[1,2,3,4,5,6,7,8,9,10,11,12,1]},\"selected\":{\"id\":\"32077\"},\"selection_policy\":{\"id\":\"32078\"}},\"id\":\"31326\",\"type\":\"ColumnDataSource\"},{\"attributes\":{\"fill_alpha\":{\"value\":0.1},\"fill_color\":{\"value\":\"#1f77b4\"},\"line_alpha\":{\"value\":0.1},\"line_color\":{\"value\":\"#1f77b4\"},\"top\":{\"field\":\"top\"},\"width\":{\"value\":0.9},\"x\":{\"field\":\"x\"}},\"id\":\"31328\",\"type\":\"VBar\"},{\"attributes\":{},\"id\":\"31302\",\"type\":\"LinearScale\"},{\"attributes\":{\"source\":{\"id\":\"31326\"}},\"id\":\"31330\",\"type\":\"CDSView\"},{\"attributes\":{},\"id\":\"32076\",\"type\":\"BasicTickFormatter\"},{\"attributes\":{\"data_source\":{\"id\":\"31326\"},\"glyph\":{\"id\":\"31327\"},\"hover_glyph\":null,\"muted_glyph\":null,\"nonselection_glyph\":{\"id\":\"31328\"},\"view\":{\"id\":\"31330\"}},\"id\":\"31329\",\"type\":\"GlyphRenderer\"},{\"attributes\":{\"axis_label\":\"Month\",\"formatter\":{\"id\":\"32073\"},\"major_label_policy\":{\"id\":\"32072\"},\"minor_tick_line_color\":null,\"ticker\":{\"id\":\"31305\"}},\"id\":\"31304\",\"type\":\"LinearAxis\"},{\"attributes\":{},\"id\":\"32073\",\"type\":\"BasicTickFormatter\"},{\"attributes\":{\"bottom_units\":\"screen\",\"fill_alpha\":0.5,\"fill_color\":\"lightgrey\",\"left_units\":\"screen\",\"level\":\"overlay\",\"line_alpha\":1.0,\"line_color\":\"black\",\"line_dash\":[4,4],\"line_width\":2,\"right_units\":\"screen\",\"syncable\":false,\"top_units\":\"screen\"},\"id\":\"31318\",\"type\":\"BoxAnnotation\"},{\"attributes\":{},\"id\":\"32077\",\"type\":\"Selection\"},{\"attributes\":{},\"id\":\"31305\",\"type\":\"BasicTicker\"},{\"attributes\":{},\"id\":\"32078\",\"type\":\"UnionRenderers\"},{\"attributes\":{\"axis\":{\"id\":\"31304\"},\"grid_line_color\":null,\"ticker\":null},\"id\":\"31307\",\"type\":\"Grid\"},{\"attributes\":{},\"id\":\"32072\",\"type\":\"AllLabels\"}],\"root_ids\":[\"31293\"]},\"title\":\"Bokeh Application\",\"version\":\"2.3.2\"}};\n",
       "  var render_items = [{\"docid\":\"9f25016d-ede7-4b3c-8b84-5584cf07ee99\",\"root_ids\":[\"31293\"],\"roots\":{\"31293\":\"2bb85be8-ff4c-4788-ac68-5d862b4d6fb6\"}}];\n",
       "  root.Bokeh.embed.embed_items_notebook(docs_json, render_items);\n",
       "\n",
       "  }\n",
       "  if (root.Bokeh !== undefined) {\n",
       "    embed_document(root);\n",
       "  } else {\n",
       "    var attempts = 0;\n",
       "    var timer = setInterval(function(root) {\n",
       "      if (root.Bokeh !== undefined) {\n",
       "        clearInterval(timer);\n",
       "        embed_document(root);\n",
       "      } else {\n",
       "        attempts++;\n",
       "        if (attempts > 100) {\n",
       "          clearInterval(timer);\n",
       "          console.log(\"Bokeh: ERROR: Unable to run BokehJS code because BokehJS library is missing\");\n",
       "        }\n",
       "      }\n",
       "    }, 10, root)\n",
       "  }\n",
       "})(window);"
      ],
      "application/vnd.bokehjs_exec.v0+json": ""
     },
     "metadata": {
      "application/vnd.bokehjs_exec.v0+json": {
       "id": "31293"
      }
     },
     "output_type": "display_data"
    },
    {
     "data": {
      "text/html": [
       "\n",
       "\n",
       "\n",
       "\n",
       "\n",
       "\n",
       "  <div class=\"bk-root\" id=\"fd6819a2-dfbc-4d74-8ccf-11a168999de2\" data-root-id=\"32241\"></div>\n"
      ]
     },
     "metadata": {},
     "output_type": "display_data"
    },
    {
     "data": {
      "application/javascript": [
       "(function(root) {\n",
       "  function embed_document(root) {\n",
       "    \n",
       "  var docs_json = {\"ba4fd5b6-24f0-410e-a03f-2cc5c03a0015\":{\"defs\":[],\"roots\":{\"references\":[{\"attributes\":{\"below\":[{\"id\":\"32252\"}],\"center\":[{\"id\":\"32255\"},{\"id\":\"32259\"},{\"id\":\"32301\"}],\"left\":[{\"id\":\"32256\"}],\"renderers\":[{\"id\":\"32277\"},{\"id\":\"32306\"},{\"id\":\"32336\"}],\"title\":{\"id\":\"32242\"},\"toolbar\":{\"id\":\"32267\"},\"x_range\":{\"id\":\"32244\"},\"x_scale\":{\"id\":\"32248\"},\"y_range\":{\"id\":\"32246\"},\"y_scale\":{\"id\":\"32250\"}},\"id\":\"32241\",\"subtype\":\"Figure\",\"type\":\"Plot\"},{\"attributes\":{},\"id\":\"32317\",\"type\":\"Selection\"},{\"attributes\":{},\"id\":\"32260\",\"type\":\"CrosshairTool\"},{\"attributes\":{\"data\":{\"x\":{\"__ndarray__\":\"AACA53JeckIAAMA5bWhyQgAAwFpwcXJCAAAArWp7ckIAAICZEoVyQgAAwOsMj3JCAABA2LSYckIAAIAqr6JyQgAAwHyprHJCAABAaVG2ckIAAIC7S8ByQgAAAKjzyXJCAABA+u3TckIAAIBM6N1yQgAAgG3r5nJCAADAv+XwckIAAECsjfpyQgAAgP6HBHNCAAAA6y8Oc0IAAEA9KhhzQgAAgI8kInNCAAAAfMwrc0IAAEDOxjVzQgAAwLpuP3NCAAAADWlJc0IAAEBfY1NzQgAAAOa4XHNCAABAOLNmc0IAAMAkW3BzQgAAAHdVenNCAACAY/2Dc0IAAMC1941zQgAAAAjyl3NCAACA9Jmhc0IAAMBGlKtzQgAAQDM8tXNCAACAhTa/c0IAAMDXMMlzQgAAwPgz0nNCAAAASy7cc0IAAIA31uVzQgAAwInQ73NCAABAdnj5c0IAAIDIcgN0QgAAwBptDXRCAABABxUXdEIAAIBZDyF0QgAAAEa3KnRCAABAmLE0dEIAAIDqqz50QgAAgAuvR3RCAADAXalRdEIAAEBKUVt0QgAAgJxLZXRCAAAAifNudEIAAEDb7Xh0QgAAgC3ognRCAAAAGpCMdEIAAEBsipZ0QgAAwFgyoHRCAAAAqyyqdEIAAED9JrR0QgAAQB4qvXRCAACAcCTHdEIAAABdzNB0QgAAQK/G2nRCAADAm27kdEIAAADuaO50QgAAQEBj+HRCAADALAsCdUIAAAB/BQx1QgAAgGutFXVCAADAvacfdUIAAAAQoil1QgAAwJb3MnVCAAAA6fE8dUIAAIDVmUZ1QgAAwCeUUHVCAABAFDxadUIAAIBmNmR1QgAAwLgwbnVCAABApdh3dUIAAID30oF1QgAAAOR6i3VCAABANnWVdUIAAICIb591QgAAgKlyqHVCAADA+2yydUIAAEDoFLx1QgAAgDoPxnVCAAAAJ7fPdUIAAEB5sdl1QgAAgMur43VCAAAAuFPtdUIAAEAKTvd1QgAAwPb1AHZCAAAASfAKdkIAAECb6hR2QgAAQLztHXZCAACADugndkIAAAD7jzF2QgAAQE2KO3ZCAADAOTJFdkIAAACMLE92QgAAQN4mWXZCAADAys5idkIAAAAdyWx2QgAAgAlxdnZCAADAW2uAdkIAAACuZYp2QgAAAM9ok3ZCAABAIWOddkIAAMANC6d2QgAAAGAFsXZCAACATK26dkIAAMCep8R2QgAAAPGhznZCAACA3UnYdkIAAMAvROJ2QgAAQBzs63ZCAACAbub1dkIAAMDA4P92QgAAgEc2CXdCAADAmTATd0IAAECG2Bx3QgAAgNjSJndCAAAAxXowd0IAAEAXdTp3QgAAgGlvRHdCAAAAVhdOd0IAAECoEVh3QgAAwJS5YXdCAAAA57Nrd0IAAEA5rnV3QgAAQFqxfndCAACArKuId0IAAACZU5J3QgAAQOtNnHdCAADA1/Wld0I=\",\"dtype\":\"float64\",\"order\":\"little\",\"shape\":[139]},\"y\":[0,0,0,0,0,0,0,0,0,0,0,0,0,0,0,0,0,0,0,0,0,0,0,0,0,0,4,5,9,9,11,11,11,12,13,16,18,21,25,25,30,35,36,38,41,45,49,52,54,57,57,58,59,61,63,66,68,70,72,77,79,81,86,87,87,87,88,90,93,95,98,99,102,105,107,108,115,116,121,123,128,134,139,148,148,157,176,183,189,193,194,197,206,207,212,230,240,246,261,272,282,289,292,296,301,309,318,330,338,353,360,374,388,392,398,405,416,423,436,449,454,469,481,485,488,493,496,501,504,510,518,527,531,545,553,561,571,576,581]},\"selected\":{\"id\":\"32286\"},\"selection_policy\":{\"id\":\"32287\"}},\"id\":\"32274\",\"type\":\"ColumnDataSource\"},{\"attributes\":{},\"id\":\"32284\",\"type\":\"AllLabels\"},{\"attributes\":{},\"id\":\"32261\",\"type\":\"SaveTool\"},{\"attributes\":{},\"id\":\"32318\",\"type\":\"UnionRenderers\"},{\"attributes\":{},\"id\":\"32246\",\"type\":\"DataRange1d\"},{\"attributes\":{},\"id\":\"32285\",\"type\":\"BasicTickFormatter\"},{\"attributes\":{},\"id\":\"32248\",\"type\":\"LinearScale\"},{\"attributes\":{\"active_multi\":null,\"tools\":[{\"id\":\"32260\"},{\"id\":\"32261\"},{\"id\":\"32262\"},{\"id\":\"32263\"},{\"id\":\"32264\"},{\"id\":\"32265\"}]},\"id\":\"32267\",\"type\":\"Toolbar\"},{\"attributes\":{},\"id\":\"32257\",\"type\":\"BasicTicker\"},{\"attributes\":{\"data_source\":{\"id\":\"32274\"},\"glyph\":{\"id\":\"32275\"},\"hover_glyph\":null,\"muted_glyph\":null,\"nonselection_glyph\":{\"id\":\"32276\"},\"view\":{\"id\":\"32278\"}},\"id\":\"32277\",\"type\":\"GlyphRenderer\"},{\"attributes\":{},\"id\":\"32262\",\"type\":\"PanTool\"},{\"attributes\":{\"label\":{\"value\":\"Canceled contracts\"},\"renderers\":[{\"id\":\"32336\"}]},\"id\":\"32364\",\"type\":\"LegendItem\"},{\"attributes\":{\"axis\":{\"id\":\"32256\"},\"dimension\":1,\"ticker\":null},\"id\":\"32259\",\"type\":\"Grid\"},{\"attributes\":{\"data_source\":{\"id\":\"32303\"},\"glyph\":{\"id\":\"32304\"},\"hover_glyph\":null,\"muted_glyph\":null,\"nonselection_glyph\":{\"id\":\"32305\"},\"view\":{\"id\":\"32307\"}},\"id\":\"32306\",\"type\":\"GlyphRenderer\"},{\"attributes\":{},\"id\":\"32250\",\"type\":\"LinearScale\"},{\"attributes\":{},\"id\":\"32264\",\"type\":\"ResetTool\"},{\"attributes\":{\"num_minor_ticks\":5,\"tickers\":[{\"id\":\"32288\"},{\"id\":\"32289\"},{\"id\":\"32290\"},{\"id\":\"32291\"},{\"id\":\"32292\"},{\"id\":\"32293\"},{\"id\":\"32294\"},{\"id\":\"32295\"},{\"id\":\"32296\"},{\"id\":\"32297\"},{\"id\":\"32298\"},{\"id\":\"32299\"}]},\"id\":\"32253\",\"type\":\"DatetimeTicker\"},{\"attributes\":{},\"id\":\"32286\",\"type\":\"Selection\"},{\"attributes\":{\"axis\":{\"id\":\"32252\"},\"ticker\":null},\"id\":\"32255\",\"type\":\"Grid\"},{\"attributes\":{\"label\":{\"value\":\"New contracts\"},\"renderers\":[{\"id\":\"32306\"}]},\"id\":\"32332\",\"type\":\"LegendItem\"},{\"attributes\":{\"data\":{\"x\":{\"__ndarray__\":\"AACA53JeckIAAMA5bWhyQgAAwFpwcXJCAAAArWp7ckIAAICZEoVyQgAAwOsMj3JCAABA2LSYckIAAIAqr6JyQgAAwHyprHJCAABAaVG2ckIAAIC7S8ByQgAAAKjzyXJCAABA+u3TckIAAIBM6N1yQgAAgG3r5nJCAADAv+XwckIAAECsjfpyQgAAgP6HBHNCAAAA6y8Oc0IAAEA9KhhzQgAAgI8kInNCAAAAfMwrc0IAAEDOxjVzQgAAwLpuP3NCAAAADWlJc0IAAEBfY1NzQgAAAOa4XHNCAABAOLNmc0IAAMAkW3BzQgAAAHdVenNCAACAY/2Dc0IAAMC1941zQgAAAAjyl3NCAACA9Jmhc0IAAMBGlKtzQgAAQDM8tXNCAACAhTa/c0IAAMDXMMlzQgAAwPgz0nNCAAAASy7cc0IAAIA31uVzQgAAwInQ73NCAABAdnj5c0IAAIDIcgN0QgAAwBptDXRCAABABxUXdEIAAIBZDyF0QgAAAEa3KnRCAABAmLE0dEIAAIDqqz50QgAAgAuvR3RCAADAXalRdEIAAEBKUVt0QgAAgJxLZXRCAAAAifNudEIAAEDb7Xh0QgAAgC3ognRCAAAAGpCMdEIAAEBsipZ0QgAAwFgyoHRCAAAAqyyqdEIAAED9JrR0QgAAQB4qvXRCAACAcCTHdEIAAABdzNB0QgAAQK/G2nRCAADAm27kdEIAAADuaO50QgAAQEBj+HRCAADALAsCdUIAAAB/BQx1QgAAgGutFXVCAADAvacfdUIAAAAQoil1QgAAwJb3MnVCAAAA6fE8dUIAAIDVmUZ1QgAAwCeUUHVCAABAFDxadUIAAIBmNmR1QgAAwLgwbnVCAABApdh3dUIAAID30oF1QgAAAOR6i3VCAABANnWVdUIAAICIb591QgAAgKlyqHVCAADA+2yydUIAAEDoFLx1QgAAgDoPxnVCAAAAJ7fPdUIAAEB5sdl1QgAAgMur43VCAAAAuFPtdUIAAEAKTvd1QgAAwPb1AHZCAAAASfAKdkIAAECb6hR2QgAAQLztHXZCAACADugndkIAAAD7jzF2QgAAQE2KO3ZCAADAOTJFdkIAAACMLE92QgAAQN4mWXZCAADAys5idkIAAAAdyWx2QgAAgAlxdnZCAADAW2uAdkIAAACuZYp2QgAAAM9ok3ZCAABAIWOddkIAAMANC6d2QgAAAGAFsXZCAACATK26dkIAAMCep8R2QgAAAPGhznZCAACA3UnYdkIAAMAvROJ2QgAAQBzs63ZCAACAbub1dkIAAMDA4P92QgAAgEc2CXdCAADAmTATd0IAAECG2Bx3QgAAgNjSJndCAAAAxXowd0IAAEAXdTp3QgAAgGlvRHdCAAAAVhdOd0IAAECoEVh3QgAAwJS5YXdCAAAA57Nrd0IAAEA5rnV3QgAAQFqxfndCAACArKuId0IAAACZU5J3QgAAQOtNnHdCAADA1/Wld0I=\",\"dtype\":\"float64\",\"order\":\"little\",\"shape\":[139]},\"y\":[0,0,0,0,0,0,0,0,0,0,0,0,0,0,0,0,0,0,0,0,0,0,0,0,0,0,0,0,0,0,0,0,0,0,0,0,0,0,0,0,0,0,0,0,0,0,0,0,0,1,0,0,0,0,0,0,0,0,0,0,0,0,0,0,0,0,0,0,0,0,1,2,0,2,0,0,0,1,1,1,0,0,1,0,3,1,1,2,0,0,3,1,1,1,1,0,1,3,0,3,1,1,1,0,1,4,2,7,1,4,2,4,3,5,1,6,4,0,2,2,3,4,7,5,3,4,1,2,4,3,1,4,6,7,2,7,1,3,8]},\"selected\":{\"id\":\"32349\"},\"selection_policy\":{\"id\":\"32350\"}},\"id\":\"32333\",\"type\":\"ColumnDataSource\"},{\"attributes\":{\"axis_label\":\"Year\",\"formatter\":{\"id\":\"32282\"},\"major_label_policy\":{\"id\":\"32281\"},\"ticker\":{\"id\":\"32253\"}},\"id\":\"32252\",\"type\":\"DatetimeAxis\"},{\"attributes\":{},\"id\":\"32281\",\"type\":\"AllLabels\"},{\"attributes\":{},\"id\":\"32265\",\"type\":\"WheelZoomTool\"},{\"attributes\":{},\"id\":\"32287\",\"type\":\"UnionRenderers\"},{\"attributes\":{},\"id\":\"32282\",\"type\":\"DatetimeTickFormatter\"},{\"attributes\":{\"line_alpha\":0.1,\"line_color\":\"coral\",\"line_width\":3,\"x\":{\"field\":\"x\"},\"y\":{\"field\":\"y\"}},\"id\":\"32335\",\"type\":\"Line\"},{\"attributes\":{\"line_color\":\"coral\",\"line_width\":3,\"x\":{\"field\":\"x\"},\"y\":{\"field\":\"y\"}},\"id\":\"32334\",\"type\":\"Line\"},{\"attributes\":{\"data\":{\"x\":{\"__ndarray__\":\"AACA53JeckIAAMA5bWhyQgAAwFpwcXJCAAAArWp7ckIAAICZEoVyQgAAwOsMj3JCAABA2LSYckIAAIAqr6JyQgAAwHyprHJCAABAaVG2ckIAAIC7S8ByQgAAAKjzyXJCAABA+u3TckIAAIBM6N1yQgAAgG3r5nJCAADAv+XwckIAAECsjfpyQgAAgP6HBHNCAAAA6y8Oc0IAAEA9KhhzQgAAgI8kInNCAAAAfMwrc0IAAEDOxjVzQgAAwLpuP3NCAAAADWlJc0IAAEBfY1NzQgAAAOa4XHNCAABAOLNmc0IAAMAkW3BzQgAAAHdVenNCAACAY/2Dc0IAAMC1941zQgAAAAjyl3NCAACA9Jmhc0IAAMBGlKtzQgAAQDM8tXNCAACAhTa/c0IAAMDXMMlzQgAAwPgz0nNCAAAASy7cc0IAAIA31uVzQgAAwInQ73NCAABAdnj5c0IAAIDIcgN0QgAAwBptDXRCAABABxUXdEIAAIBZDyF0QgAAAEa3KnRCAABAmLE0dEIAAIDqqz50QgAAgAuvR3RCAADAXalRdEIAAEBKUVt0QgAAgJxLZXRCAAAAifNudEIAAEDb7Xh0QgAAgC3ognRCAAAAGpCMdEIAAEBsipZ0QgAAwFgyoHRCAAAAqyyqdEIAAED9JrR0QgAAQB4qvXRCAACAcCTHdEIAAABdzNB0QgAAQK/G2nRCAADAm27kdEIAAADuaO50QgAAQEBj+HRCAADALAsCdUIAAAB/BQx1QgAAgGutFXVCAADAvacfdUIAAAAQoil1QgAAwJb3MnVCAAAA6fE8dUIAAIDVmUZ1QgAAwCeUUHVCAABAFDxadUIAAIBmNmR1QgAAwLgwbnVCAABApdh3dUIAAID30oF1QgAAAOR6i3VCAABANnWVdUIAAICIb591QgAAgKlyqHVCAADA+2yydUIAAEDoFLx1QgAAgDoPxnVCAAAAJ7fPdUIAAEB5sdl1QgAAgMur43VCAAAAuFPtdUIAAEAKTvd1QgAAwPb1AHZCAAAASfAKdkIAAECb6hR2QgAAQLztHXZCAACADugndkIAAAD7jzF2QgAAQE2KO3ZCAADAOTJFdkIAAACMLE92QgAAQN4mWXZCAADAys5idkIAAAAdyWx2QgAAgAlxdnZCAADAW2uAdkIAAACuZYp2QgAAAM9ok3ZCAABAIWOddkIAAMANC6d2QgAAAGAFsXZCAACATK26dkIAAMCep8R2QgAAAPGhznZCAACA3UnYdkIAAMAvROJ2QgAAQBzs63ZCAACAbub1dkIAAMDA4P92QgAAgEc2CXdCAADAmTATd0IAAECG2Bx3QgAAgNjSJndCAAAAxXowd0IAAEAXdTp3QgAAgGlvRHdCAAAAVhdOd0IAAECoEVh3QgAAwJS5YXdCAAAA57Nrd0IAAEA5rnV3QgAAQFqxfndCAACArKuId0IAAACZU5J3QgAAQOtNnHdCAADA1/Wld0I=\",\"dtype\":\"float64\",\"order\":\"little\",\"shape\":[139]},\"y\":[0,0,0,0,0,0,0,0,0,0,0,0,0,0,0,0,0,0,0,0,0,0,0,0,0,0,4,1,4,0,2,0,0,1,1,3,2,3,4,0,5,5,1,2,3,4,4,3,2,4,0,1,1,2,2,3,2,2,2,5,2,2,5,1,0,0,1,2,3,2,4,3,3,5,2,1,7,2,6,3,5,6,6,9,3,10,20,9,6,4,4,4,10,2,6,18,11,9,15,14,11,8,4,4,6,12,11,19,9,19,9,18,16,8,7,13,15,7,14,15,8,19,19,9,6,9,4,7,7,9,9,13,10,21,10,14,11,8,13]},\"selected\":{\"id\":\"32317\"},\"selection_policy\":{\"id\":\"32318\"}},\"id\":\"32303\",\"type\":\"ColumnDataSource\"},{\"attributes\":{\"items\":[{\"id\":\"32302\"},{\"id\":\"32332\"},{\"id\":\"32364\"}],\"location\":\"top_left\"},\"id\":\"32301\",\"type\":\"Legend\"},{\"attributes\":{\"line_color\":\"blue\",\"line_width\":3,\"x\":{\"field\":\"x\"},\"y\":{\"field\":\"y\"}},\"id\":\"32304\",\"type\":\"Line\"},{\"attributes\":{},\"id\":\"32244\",\"type\":\"DataRange1d\"},{\"attributes\":{\"source\":{\"id\":\"32303\"}},\"id\":\"32307\",\"type\":\"CDSView\"},{\"attributes\":{\"source\":{\"id\":\"32333\"}},\"id\":\"32337\",\"type\":\"CDSView\"},{\"attributes\":{\"label\":{\"value\":\"contracts\"},\"renderers\":[{\"id\":\"32277\"}]},\"id\":\"32302\",\"type\":\"LegendItem\"},{\"attributes\":{\"line_alpha\":0.1,\"line_color\":\"blue\",\"line_width\":3,\"x\":{\"field\":\"x\"},\"y\":{\"field\":\"y\"}},\"id\":\"32305\",\"type\":\"Line\"},{\"attributes\":{\"mantissas\":[1,2,5],\"max_interval\":500.0,\"num_minor_ticks\":0},\"id\":\"32288\",\"type\":\"AdaptiveTicker\"},{\"attributes\":{\"text\":\"All contracts, New and Canceled contracts\"},\"id\":\"32242\",\"type\":\"Title\"},{\"attributes\":{\"base\":60,\"mantissas\":[1,2,5,10,15,20,30],\"max_interval\":1800000.0,\"min_interval\":1000.0,\"num_minor_ticks\":0},\"id\":\"32289\",\"type\":\"AdaptiveTicker\"},{\"attributes\":{\"days\":[1,2,3,4,5,6,7,8,9,10,11,12,13,14,15,16,17,18,19,20,21,22,23,24,25,26,27,28,29,30,31]},\"id\":\"32291\",\"type\":\"DaysTicker\"},{\"attributes\":{\"data_source\":{\"id\":\"32333\"},\"glyph\":{\"id\":\"32334\"},\"hover_glyph\":null,\"muted_glyph\":null,\"nonselection_glyph\":{\"id\":\"32335\"},\"view\":{\"id\":\"32337\"}},\"id\":\"32336\",\"type\":\"GlyphRenderer\"},{\"attributes\":{\"base\":24,\"mantissas\":[1,2,4,6,8,12],\"max_interval\":43200000.0,\"min_interval\":3600000.0,\"num_minor_ticks\":0},\"id\":\"32290\",\"type\":\"AdaptiveTicker\"},{\"attributes\":{\"months\":[0,1,2,3,4,5,6,7,8,9,10,11]},\"id\":\"32295\",\"type\":\"MonthsTicker\"},{\"attributes\":{\"line_alpha\":0.1,\"line_color\":\"purple\",\"line_width\":3,\"x\":{\"field\":\"x\"},\"y\":{\"field\":\"y\"}},\"id\":\"32276\",\"type\":\"Line\"},{\"attributes\":{\"months\":[0,2,4,6,8,10]},\"id\":\"32296\",\"type\":\"MonthsTicker\"},{\"attributes\":{\"source\":{\"id\":\"32274\"}},\"id\":\"32278\",\"type\":\"CDSView\"},{\"attributes\":{\"days\":[1,4,7,10,13,16,19,22,25,28]},\"id\":\"32292\",\"type\":\"DaysTicker\"},{\"attributes\":{\"line_color\":\"purple\",\"line_width\":3,\"x\":{\"field\":\"x\"},\"y\":{\"field\":\"y\"}},\"id\":\"32275\",\"type\":\"Line\"},{\"attributes\":{\"days\":[1,15]},\"id\":\"32294\",\"type\":\"DaysTicker\"},{\"attributes\":{\"months\":[0,6]},\"id\":\"32298\",\"type\":\"MonthsTicker\"},{\"attributes\":{},\"id\":\"32349\",\"type\":\"Selection\"},{\"attributes\":{\"days\":[1,8,15,22]},\"id\":\"32293\",\"type\":\"DaysTicker\"},{\"attributes\":{},\"id\":\"32299\",\"type\":\"YearsTicker\"},{\"attributes\":{\"months\":[0,4,8]},\"id\":\"32297\",\"type\":\"MonthsTicker\"},{\"attributes\":{},\"id\":\"32350\",\"type\":\"UnionRenderers\"},{\"attributes\":{\"axis_label\":\"Count\",\"formatter\":{\"id\":\"32285\"},\"major_label_policy\":{\"id\":\"32284\"},\"ticker\":{\"id\":\"32257\"}},\"id\":\"32256\",\"type\":\"LinearAxis\"},{\"attributes\":{\"bottom_units\":\"screen\",\"fill_alpha\":0.5,\"fill_color\":\"lightgrey\",\"left_units\":\"screen\",\"level\":\"overlay\",\"line_alpha\":1.0,\"line_color\":\"black\",\"line_dash\":[4,4],\"line_width\":2,\"right_units\":\"screen\",\"syncable\":false,\"top_units\":\"screen\"},\"id\":\"32266\",\"type\":\"BoxAnnotation\"},{\"attributes\":{\"overlay\":{\"id\":\"32266\"}},\"id\":\"32263\",\"type\":\"BoxZoomTool\"}],\"root_ids\":[\"32241\"]},\"title\":\"Bokeh Application\",\"version\":\"2.3.2\"}};\n",
       "  var render_items = [{\"docid\":\"ba4fd5b6-24f0-410e-a03f-2cc5c03a0015\",\"root_ids\":[\"32241\"],\"roots\":{\"32241\":\"fd6819a2-dfbc-4d74-8ccf-11a168999de2\"}}];\n",
       "  root.Bokeh.embed.embed_items_notebook(docs_json, render_items);\n",
       "\n",
       "  }\n",
       "  if (root.Bokeh !== undefined) {\n",
       "    embed_document(root);\n",
       "  } else {\n",
       "    var attempts = 0;\n",
       "    var timer = setInterval(function(root) {\n",
       "      if (root.Bokeh !== undefined) {\n",
       "        clearInterval(timer);\n",
       "        embed_document(root);\n",
       "      } else {\n",
       "        attempts++;\n",
       "        if (attempts > 100) {\n",
       "          clearInterval(timer);\n",
       "          console.log(\"Bokeh: ERROR: Unable to run BokehJS code because BokehJS library is missing\");\n",
       "        }\n",
       "      }\n",
       "    }, 10, root)\n",
       "  }\n",
       "})(window);"
      ],
      "application/vnd.bokehjs_exec.v0+json": ""
     },
     "metadata": {
      "application/vnd.bokehjs_exec.v0+json": {
       "id": "32241"
      }
     },
     "output_type": "display_data"
    },
    {
     "data": {
      "text/html": [
       "\n",
       "\n",
       "\n",
       "\n",
       "\n",
       "\n",
       "  <div class=\"bk-root\" id=\"fd13b69d-3455-4714-afe8-b6a7f1100e53\" data-root-id=\"33557\"></div>\n"
      ]
     },
     "metadata": {},
     "output_type": "display_data"
    },
    {
     "data": {
      "application/javascript": [
       "(function(root) {\n",
       "  function embed_document(root) {\n",
       "    \n",
       "  var docs_json = {\"7a591a4d-7d07-4545-b8ea-328ee01ada2d\":{\"defs\":[],\"roots\":{\"references\":[{\"attributes\":{\"below\":[{\"id\":\"33568\"}],\"center\":[{\"id\":\"33571\"},{\"id\":\"33575\"}],\"left\":[{\"id\":\"33572\"}],\"renderers\":[{\"id\":\"33595\"}],\"right\":[{\"id\":\"33599\"}],\"title\":{\"id\":\"33558\"},\"toolbar\":{\"id\":\"33583\"},\"toolbar_location\":\"above\",\"x_range\":{\"id\":\"33560\"},\"x_scale\":{\"id\":\"33564\"},\"y_range\":{\"id\":\"33562\"},\"y_scale\":{\"id\":\"33566\"}},\"id\":\"33557\",\"subtype\":\"Figure\",\"type\":\"Plot\"},{\"attributes\":{\"fill_color\":{\"field\":\"contracts\",\"transform\":{\"id\":\"33591\"}},\"height\":{\"value\":1},\"line_color\":{\"value\":null},\"width\":{\"value\":2},\"x\":{\"field\":\"year\"},\"y\":{\"field\":\"month\"}},\"id\":\"33593\",\"type\":\"Rect\"},{\"attributes\":{},\"id\":\"33564\",\"type\":\"LinearScale\"},{\"attributes\":{},\"id\":\"34381\",\"type\":\"AllLabels\"},{\"attributes\":{},\"id\":\"34378\",\"type\":\"BasicTickFormatter\"},{\"attributes\":{},\"id\":\"34379\",\"type\":\"NoOverlap\"},{\"attributes\":{},\"id\":\"34382\",\"type\":\"BasicTickFormatter\"},{\"attributes\":{},\"id\":\"33569\",\"type\":\"BasicTicker\"},{\"attributes\":{\"data\":{\"canceledcontracts\":[3,4,7,5,3,4,1,2,4,3,1,4,6],\"canceledmembers\":[0,0,0,0,0,0,0,0,0,1,0,0,0],\"canceledselfconsumptioncontracts\":[0,0,0,0,0,0,0,0,0,0,0,0,1],\"contracts\":[454,469,481,485,488,493,496,501,504,510,518,527,531],\"index\":[0,1,2,3,4,5,6,7,8,9,10,11,12],\"members\":[309,317,320,323,325,329,330,330,334,338,340,345,349],\"month\":[1,2,3,4,5,6,7,8,9,10,11,12,1],\"newcontracts\":[8,19,19,9,6,9,4,7,7,9,9,13,10],\"newmembers\":[5,8,3,3,2,4,1,0,4,5,2,5,4],\"newselfconsumptioncontracts\":[1,1,1,4,3,3,0,2,1,1,3,3,1],\"selfconsumptioncontracts\":[3,4,5,9,12,15,15,17,18,19,22,25,25],\"year\":[2020,2020,2020,2020,2020,2020,2020,2020,2020,2020,2020,2020,2021]},\"selected\":{\"id\":\"34383\"},\"selection_policy\":{\"id\":\"34384\"}},\"id\":\"33590\",\"type\":\"ColumnDataSource\"},{\"attributes\":{\"overlay\":{\"id\":\"33582\"}},\"id\":\"33579\",\"type\":\"BoxZoomTool\"},{\"attributes\":{},\"id\":\"33577\",\"type\":\"SaveTool\"},{\"attributes\":{},\"id\":\"34377\",\"type\":\"AllLabels\"},{\"attributes\":{\"axis\":{\"id\":\"33572\"},\"dimension\":1,\"ticker\":null},\"id\":\"33575\",\"type\":\"Grid\"},{\"attributes\":{\"bottom_units\":\"screen\",\"fill_alpha\":0.5,\"fill_color\":\"lightgrey\",\"left_units\":\"screen\",\"level\":\"overlay\",\"line_alpha\":1.0,\"line_color\":\"black\",\"line_dash\":[4,4],\"line_width\":2,\"right_units\":\"screen\",\"syncable\":false,\"top_units\":\"screen\"},\"id\":\"33582\",\"type\":\"BoxAnnotation\"},{\"attributes\":{\"axis\":{\"id\":\"33568\"},\"ticker\":null},\"id\":\"33571\",\"type\":\"Grid\"},{\"attributes\":{},\"id\":\"33578\",\"type\":\"PanTool\"},{\"attributes\":{\"text\":\"Year Month contracts\"},\"id\":\"33558\",\"type\":\"Title\"},{\"attributes\":{},\"id\":\"33573\",\"type\":\"BasicTicker\"},{\"attributes\":{},\"id\":\"34383\",\"type\":\"Selection\"},{\"attributes\":{},\"id\":\"33562\",\"type\":\"DataRange1d\"},{\"attributes\":{},\"id\":\"33566\",\"type\":\"LinearScale\"},{\"attributes\":{},\"id\":\"34384\",\"type\":\"UnionRenderers\"},{\"attributes\":{\"color_mapper\":{\"id\":\"33591\"},\"formatter\":{\"id\":\"33598\"},\"label_standoff\":6,\"location\":[0,0],\"major_label_policy\":{\"id\":\"34379\"},\"major_label_text_font_size\":\"10pt\",\"ticker\":{\"id\":\"33597\"}},\"id\":\"33599\",\"type\":\"ColorBar\"},{\"attributes\":{},\"id\":\"33576\",\"type\":\"CrosshairTool\"},{\"attributes\":{\"data_source\":{\"id\":\"33590\"},\"glyph\":{\"id\":\"33593\"},\"hover_glyph\":null,\"muted_glyph\":null,\"nonselection_glyph\":{\"id\":\"33594\"},\"view\":{\"id\":\"33596\"}},\"id\":\"33595\",\"type\":\"GlyphRenderer\"},{\"attributes\":{},\"id\":\"33581\",\"type\":\"WheelZoomTool\"},{\"attributes\":{\"axis_label\":\"Month\",\"formatter\":{\"id\":\"34382\"},\"major_label_policy\":{\"id\":\"34381\"},\"ticker\":{\"id\":\"33573\"}},\"id\":\"33572\",\"type\":\"LinearAxis\"},{\"attributes\":{\"fill_alpha\":{\"value\":0.1},\"fill_color\":{\"field\":\"contracts\",\"transform\":{\"id\":\"33591\"}},\"height\":{\"value\":1},\"line_alpha\":{\"value\":0.1},\"line_color\":{\"value\":null},\"width\":{\"value\":2},\"x\":{\"field\":\"year\"},\"y\":{\"field\":\"month\"}},\"id\":\"33594\",\"type\":\"Rect\"},{\"attributes\":{\"source\":{\"id\":\"33590\"}},\"id\":\"33596\",\"type\":\"CDSView\"},{\"attributes\":{},\"id\":\"33560\",\"type\":\"DataRange1d\"},{\"attributes\":{\"desired_num_ticks\":9},\"id\":\"33597\",\"type\":\"BasicTicker\"},{\"attributes\":{},\"id\":\"33580\",\"type\":\"ResetTool\"},{\"attributes\":{\"axis_label\":\"Year\",\"formatter\":{\"id\":\"34378\"},\"major_label_policy\":{\"id\":\"34377\"},\"ticker\":{\"id\":\"33569\"}},\"id\":\"33568\",\"type\":\"LinearAxis\"},{\"attributes\":{},\"id\":\"33598\",\"type\":\"PrintfTickFormatter\"},{\"attributes\":{\"active_multi\":null,\"tools\":[{\"id\":\"33576\"},{\"id\":\"33577\"},{\"id\":\"33578\"},{\"id\":\"33579\"},{\"id\":\"33580\"},{\"id\":\"33581\"}]},\"id\":\"33583\",\"type\":\"Toolbar\"},{\"attributes\":{\"high\":531,\"low\":454,\"palette\":[\"#f7fcfd\",\"#e5f5f9\",\"#ccece6\",\"#99d8c9\",\"#66c2a4\",\"#41ae76\",\"#238b45\",\"#006d2c\",\"#00441b\"]},\"id\":\"33591\",\"type\":\"LinearColorMapper\"}],\"root_ids\":[\"33557\"]},\"title\":\"Bokeh Application\",\"version\":\"2.3.2\"}};\n",
       "  var render_items = [{\"docid\":\"7a591a4d-7d07-4545-b8ea-328ee01ada2d\",\"root_ids\":[\"33557\"],\"roots\":{\"33557\":\"fd13b69d-3455-4714-afe8-b6a7f1100e53\"}}];\n",
       "  root.Bokeh.embed.embed_items_notebook(docs_json, render_items);\n",
       "\n",
       "  }\n",
       "  if (root.Bokeh !== undefined) {\n",
       "    embed_document(root);\n",
       "  } else {\n",
       "    var attempts = 0;\n",
       "    var timer = setInterval(function(root) {\n",
       "      if (root.Bokeh !== undefined) {\n",
       "        clearInterval(timer);\n",
       "        embed_document(root);\n",
       "      } else {\n",
       "        attempts++;\n",
       "        if (attempts > 100) {\n",
       "          clearInterval(timer);\n",
       "          console.log(\"Bokeh: ERROR: Unable to run BokehJS code because BokehJS library is missing\");\n",
       "        }\n",
       "      }\n",
       "    }, 10, root)\n",
       "  }\n",
       "})(window);"
      ],
      "application/vnd.bokehjs_exec.v0+json": ""
     },
     "metadata": {
      "application/vnd.bokehjs_exec.v0+json": {
       "id": "33557"
      }
     },
     "output_type": "display_data"
    },
    {
     "data": {
      "text/html": [
       "\n",
       "\n",
       "\n",
       "\n",
       "\n",
       "\n",
       "  <div class=\"bk-root\" id=\"ce408b69-cafc-4391-a3c8-011520135349\" data-root-id=\"34563\"></div>\n"
      ]
     },
     "metadata": {},
     "output_type": "display_data"
    },
    {
     "data": {
      "application/javascript": [
       "(function(root) {\n",
       "  function embed_document(root) {\n",
       "    \n",
       "  var docs_json = {\"2cf23593-6ae7-48cc-a005-7fa74966ba46\":{\"defs\":[],\"roots\":{\"references\":[{\"attributes\":{\"below\":[{\"id\":\"34574\"}],\"center\":[{\"id\":\"34577\"},{\"id\":\"34581\"}],\"height\":350,\"left\":[{\"id\":\"34578\"}],\"outline_line_color\":null,\"renderers\":[{\"id\":\"34599\"}],\"title\":{\"id\":\"34564\"},\"toolbar\":{\"id\":\"34589\"},\"toolbar_location\":\"above\",\"x_range\":{\"id\":\"34566\"},\"x_scale\":{\"id\":\"34570\"},\"y_range\":{\"id\":\"34568\"},\"y_scale\":{\"id\":\"34572\"}},\"id\":\"34563\",\"subtype\":\"Figure\",\"type\":\"Plot\"},{\"attributes\":{\"text\":\"AVG contracts\"},\"id\":\"34564\",\"type\":\"Title\"},{\"attributes\":{\"axis_label\":\"Month\",\"formatter\":{\"id\":\"35390\"},\"major_label_policy\":{\"id\":\"35389\"},\"minor_tick_line_color\":null,\"ticker\":{\"id\":\"34575\"}},\"id\":\"34574\",\"type\":\"LinearAxis\"},{\"attributes\":{\"active_multi\":null,\"tools\":[{\"id\":\"34582\"},{\"id\":\"34583\"},{\"id\":\"34584\"},{\"id\":\"34585\"},{\"id\":\"34586\"},{\"id\":\"34587\"}]},\"id\":\"34589\",\"type\":\"Toolbar\"},{\"attributes\":{\"overlay\":{\"id\":\"34588\"}},\"id\":\"34584\",\"type\":\"BoxZoomTool\"},{\"attributes\":{},\"id\":\"34585\",\"type\":\"SaveTool\"},{\"attributes\":{},\"id\":\"34587\",\"type\":\"HelpTool\"},{\"attributes\":{},\"id\":\"34566\",\"type\":\"DataRange1d\"},{\"attributes\":{},\"id\":\"34586\",\"type\":\"ResetTool\"},{\"attributes\":{\"fill_color\":{\"value\":\"#1f77b4\"},\"line_color\":{\"value\":\"#1f77b4\"},\"top\":{\"field\":\"top\"},\"width\":{\"value\":0.9},\"x\":{\"field\":\"x\"}},\"id\":\"34597\",\"type\":\"VBar\"},{\"attributes\":{},\"id\":\"34570\",\"type\":\"LinearScale\"},{\"attributes\":{},\"id\":\"35392\",\"type\":\"AllLabels\"},{\"attributes\":{\"data\":{\"top\":[454,469,481,485,488,493,496,501,504,510,518,527,531],\"x\":[1,2,3,4,5,6,7,8,9,10,11,12,1]},\"selected\":{\"id\":\"35394\"},\"selection_policy\":{\"id\":\"35395\"}},\"id\":\"34596\",\"type\":\"ColumnDataSource\"},{\"attributes\":{\"fill_alpha\":{\"value\":0.1},\"fill_color\":{\"value\":\"#1f77b4\"},\"line_alpha\":{\"value\":0.1},\"line_color\":{\"value\":\"#1f77b4\"},\"top\":{\"field\":\"top\"},\"width\":{\"value\":0.9},\"x\":{\"field\":\"x\"}},\"id\":\"34598\",\"type\":\"VBar\"},{\"attributes\":{},\"id\":\"34572\",\"type\":\"LinearScale\"},{\"attributes\":{\"source\":{\"id\":\"34596\"}},\"id\":\"34600\",\"type\":\"CDSView\"},{\"attributes\":{},\"id\":\"35393\",\"type\":\"BasicTickFormatter\"},{\"attributes\":{\"data_source\":{\"id\":\"34596\"},\"glyph\":{\"id\":\"34597\"},\"hover_glyph\":null,\"muted_glyph\":null,\"nonselection_glyph\":{\"id\":\"34598\"},\"view\":{\"id\":\"34600\"}},\"id\":\"34599\",\"type\":\"GlyphRenderer\"},{\"attributes\":{},\"id\":\"35390\",\"type\":\"BasicTickFormatter\"},{\"attributes\":{\"bottom_units\":\"screen\",\"fill_alpha\":0.5,\"fill_color\":\"lightgrey\",\"left_units\":\"screen\",\"level\":\"overlay\",\"line_alpha\":1.0,\"line_color\":\"black\",\"line_dash\":[4,4],\"line_width\":2,\"right_units\":\"screen\",\"syncable\":false,\"top_units\":\"screen\"},\"id\":\"34588\",\"type\":\"BoxAnnotation\"},{\"attributes\":{},\"id\":\"35394\",\"type\":\"Selection\"},{\"attributes\":{\"axis\":{\"id\":\"34578\"},\"dimension\":1,\"ticker\":null},\"id\":\"34581\",\"type\":\"Grid\"},{\"attributes\":{},\"id\":\"34575\",\"type\":\"BasicTicker\"},{\"attributes\":{},\"id\":\"35395\",\"type\":\"UnionRenderers\"},{\"attributes\":{},\"id\":\"35389\",\"type\":\"AllLabels\"},{\"attributes\":{},\"id\":\"34582\",\"type\":\"PanTool\"},{\"attributes\":{\"axis\":{\"id\":\"34574\"},\"grid_line_color\":null,\"ticker\":null},\"id\":\"34577\",\"type\":\"Grid\"},{\"attributes\":{},\"id\":\"34579\",\"type\":\"BasicTicker\"},{\"attributes\":{\"axis_label\":\"AVG contracts\",\"formatter\":{\"id\":\"35393\"},\"major_label_policy\":{\"id\":\"35392\"},\"minor_tick_line_color\":null,\"ticker\":{\"id\":\"34579\"}},\"id\":\"34578\",\"type\":\"LinearAxis\"},{\"attributes\":{},\"id\":\"34583\",\"type\":\"WheelZoomTool\"},{\"attributes\":{\"start\":0},\"id\":\"34568\",\"type\":\"DataRange1d\"}],\"root_ids\":[\"34563\"]},\"title\":\"Bokeh Application\",\"version\":\"2.3.2\"}};\n",
       "  var render_items = [{\"docid\":\"2cf23593-6ae7-48cc-a005-7fa74966ba46\",\"root_ids\":[\"34563\"],\"roots\":{\"34563\":\"ce408b69-cafc-4391-a3c8-011520135349\"}}];\n",
       "  root.Bokeh.embed.embed_items_notebook(docs_json, render_items);\n",
       "\n",
       "  }\n",
       "  if (root.Bokeh !== undefined) {\n",
       "    embed_document(root);\n",
       "  } else {\n",
       "    var attempts = 0;\n",
       "    var timer = setInterval(function(root) {\n",
       "      if (root.Bokeh !== undefined) {\n",
       "        clearInterval(timer);\n",
       "        embed_document(root);\n",
       "      } else {\n",
       "        attempts++;\n",
       "        if (attempts > 100) {\n",
       "          clearInterval(timer);\n",
       "          console.log(\"Bokeh: ERROR: Unable to run BokehJS code because BokehJS library is missing\");\n",
       "        }\n",
       "      }\n",
       "    }, 10, root)\n",
       "  }\n",
       "})(window);"
      ],
      "application/vnd.bokehjs_exec.v0+json": ""
     },
     "metadata": {
      "application/vnd.bokehjs_exec.v0+json": {
       "id": "34563"
      }
     },
     "output_type": "display_data"
    },
    {
     "data": {
      "text/html": [
       "\n",
       "\n",
       "\n",
       "\n",
       "\n",
       "\n",
       "  <div class=\"bk-root\" id=\"b7fb3305-f0ff-49e7-88de-128a3b08821a\" data-root-id=\"35558\"></div>\n"
      ]
     },
     "metadata": {},
     "output_type": "display_data"
    },
    {
     "data": {
      "application/javascript": [
       "(function(root) {\n",
       "  function embed_document(root) {\n",
       "    \n",
       "  var docs_json = {\"5260d6ee-7c16-418c-baf3-74dce9a9d619\":{\"defs\":[],\"roots\":{\"references\":[{\"attributes\":{\"below\":[{\"id\":\"35569\"}],\"center\":[{\"id\":\"35572\"},{\"id\":\"35576\"},{\"id\":\"35618\"}],\"left\":[{\"id\":\"35573\"}],\"renderers\":[{\"id\":\"35594\"},{\"id\":\"35623\"},{\"id\":\"35653\"}],\"title\":{\"id\":\"35559\"},\"toolbar\":{\"id\":\"35584\"},\"x_range\":{\"id\":\"35561\"},\"x_scale\":{\"id\":\"35565\"},\"y_range\":{\"id\":\"35563\"},\"y_scale\":{\"id\":\"35567\"}},\"id\":\"35558\",\"subtype\":\"Figure\",\"type\":\"Plot\"},{\"attributes\":{\"line_alpha\":0.1,\"line_color\":\"coral\",\"line_width\":3,\"x\":{\"field\":\"x\"},\"y\":{\"field\":\"y\"}},\"id\":\"35652\",\"type\":\"Line\"},{\"attributes\":{\"line_color\":\"blue\",\"line_width\":3,\"x\":{\"field\":\"x\"},\"y\":{\"field\":\"y\"}},\"id\":\"35621\",\"type\":\"Line\"},{\"attributes\":{\"line_color\":\"coral\",\"line_width\":3,\"x\":{\"field\":\"x\"},\"y\":{\"field\":\"y\"}},\"id\":\"35651\",\"type\":\"Line\"},{\"attributes\":{},\"id\":\"35599\",\"type\":\"DatetimeTickFormatter\"},{\"attributes\":{\"source\":{\"id\":\"35650\"}},\"id\":\"35654\",\"type\":\"CDSView\"},{\"attributes\":{},\"id\":\"35603\",\"type\":\"Selection\"},{\"attributes\":{\"line_color\":\"purple\",\"line_width\":3,\"x\":{\"field\":\"x\"},\"y\":{\"field\":\"y\"}},\"id\":\"35592\",\"type\":\"Line\"},{\"attributes\":{\"label\":{\"value\":\"New selfconsumptioncontracts\"},\"renderers\":[{\"id\":\"35623\"}]},\"id\":\"35649\",\"type\":\"LegendItem\"},{\"attributes\":{\"source\":{\"id\":\"35620\"}},\"id\":\"35624\",\"type\":\"CDSView\"},{\"attributes\":{\"mantissas\":[1,2,5],\"max_interval\":500.0,\"num_minor_ticks\":0},\"id\":\"35605\",\"type\":\"AdaptiveTicker\"},{\"attributes\":{\"line_alpha\":0.1,\"line_color\":\"purple\",\"line_width\":3,\"x\":{\"field\":\"x\"},\"y\":{\"field\":\"y\"}},\"id\":\"35593\",\"type\":\"Line\"},{\"attributes\":{\"data\":{\"x\":{\"__ndarray__\":\"AACA53JeckIAAMA5bWhyQgAAwFpwcXJCAAAArWp7ckIAAICZEoVyQgAAwOsMj3JCAABA2LSYckIAAIAqr6JyQgAAwHyprHJCAABAaVG2ckIAAIC7S8ByQgAAAKjzyXJCAABA+u3TckIAAIBM6N1yQgAAgG3r5nJCAADAv+XwckIAAECsjfpyQgAAgP6HBHNCAAAA6y8Oc0IAAEA9KhhzQgAAgI8kInNCAAAAfMwrc0IAAEDOxjVzQgAAwLpuP3NCAAAADWlJc0IAAEBfY1NzQgAAAOa4XHNCAABAOLNmc0IAAMAkW3BzQgAAAHdVenNCAACAY/2Dc0IAAMC1941zQgAAAAjyl3NCAACA9Jmhc0IAAMBGlKtzQgAAQDM8tXNCAACAhTa/c0IAAMDXMMlzQgAAwPgz0nNCAAAASy7cc0IAAIA31uVzQgAAwInQ73NCAABAdnj5c0IAAIDIcgN0QgAAwBptDXRCAABABxUXdEIAAIBZDyF0QgAAAEa3KnRCAABAmLE0dEIAAIDqqz50QgAAgAuvR3RCAADAXalRdEIAAEBKUVt0QgAAgJxLZXRCAAAAifNudEIAAEDb7Xh0QgAAgC3ognRCAAAAGpCMdEIAAEBsipZ0QgAAwFgyoHRCAAAAqyyqdEIAAED9JrR0QgAAQB4qvXRCAACAcCTHdEIAAABdzNB0QgAAQK/G2nRCAADAm27kdEIAAADuaO50QgAAQEBj+HRCAADALAsCdUIAAAB/BQx1QgAAgGutFXVCAADAvacfdUIAAAAQoil1QgAAwJb3MnVCAAAA6fE8dUIAAIDVmUZ1QgAAwCeUUHVCAABAFDxadUIAAIBmNmR1QgAAwLgwbnVCAABApdh3dUIAAID30oF1QgAAAOR6i3VCAABANnWVdUIAAICIb591QgAAgKlyqHVCAADA+2yydUIAAEDoFLx1QgAAgDoPxnVCAAAAJ7fPdUIAAEB5sdl1QgAAgMur43VCAAAAuFPtdUIAAEAKTvd1QgAAwPb1AHZCAAAASfAKdkIAAECb6hR2QgAAQLztHXZCAACADugndkIAAAD7jzF2QgAAQE2KO3ZCAADAOTJFdkIAAACMLE92QgAAQN4mWXZCAADAys5idkIAAAAdyWx2QgAAgAlxdnZCAADAW2uAdkIAAACuZYp2QgAAAM9ok3ZCAABAIWOddkIAAMANC6d2QgAAAGAFsXZCAACATK26dkIAAMCep8R2QgAAAPGhznZCAACA3UnYdkIAAMAvROJ2QgAAQBzs63ZCAACAbub1dkIAAMDA4P92QgAAgEc2CXdCAADAmTATd0IAAECG2Bx3QgAAgNjSJndCAAAAxXowd0IAAEAXdTp3QgAAgGlvRHdCAAAAVhdOd0IAAECoEVh3QgAAwJS5YXdCAAAA57Nrd0IAAEA5rnV3QgAAQFqxfndCAACArKuId0IAAACZU5J3QgAAQOtNnHdCAADA1/Wld0I=\",\"dtype\":\"float64\",\"order\":\"little\",\"shape\":[139]},\"y\":[0,0,0,0,0,0,0,0,0,0,0,0,0,0,0,0,0,0,0,0,0,0,0,0,0,0,0,0,0,0,0,0,0,0,0,0,0,0,0,0,0,0,0,0,0,0,0,0,0,0,0,0,0,0,0,0,0,0,0,0,0,0,0,0,0,0,0,0,0,0,0,0,0,0,0,0,0,0,0,0,0,0,0,0,0,0,0,0,0,0,0,0,0,0,0,0,0,0,0,0,0,0,0,0,1,1,1,1,1,1,1,1,1,1,1,1,1,1,1,2,3,4,5,9,12,15,15,17,18,19,22,25,25,27,30,31,31,31,32]},\"selected\":{\"id\":\"35603\"},\"selection_policy\":{\"id\":\"35604\"}},\"id\":\"35591\",\"type\":\"ColumnDataSource\"},{\"attributes\":{\"line_alpha\":0.1,\"line_color\":\"blue\",\"line_width\":3,\"x\":{\"field\":\"x\"},\"y\":{\"field\":\"y\"}},\"id\":\"35622\",\"type\":\"Line\"},{\"attributes\":{},\"id\":\"35598\",\"type\":\"AllLabels\"},{\"attributes\":{\"base\":60,\"mantissas\":[1,2,5,10,15,20,30],\"max_interval\":1800000.0,\"min_interval\":1000.0,\"num_minor_ticks\":0},\"id\":\"35606\",\"type\":\"AdaptiveTicker\"},{\"attributes\":{\"days\":[1,2,3,4,5,6,7,8,9,10,11,12,13,14,15,16,17,18,19,20,21,22,23,24,25,26,27,28,29,30,31]},\"id\":\"35608\",\"type\":\"DaysTicker\"},{\"attributes\":{\"base\":24,\"mantissas\":[1,2,4,6,8,12],\"max_interval\":43200000.0,\"min_interval\":3600000.0,\"num_minor_ticks\":0},\"id\":\"35607\",\"type\":\"AdaptiveTicker\"},{\"attributes\":{\"label\":{\"value\":\"Canceled selfconsumptioncontracts\"},\"renderers\":[{\"id\":\"35653\"}]},\"id\":\"35681\",\"type\":\"LegendItem\"},{\"attributes\":{\"months\":[0,1,2,3,4,5,6,7,8,9,10,11]},\"id\":\"35612\",\"type\":\"MonthsTicker\"},{\"attributes\":{},\"id\":\"35579\",\"type\":\"PanTool\"},{\"attributes\":{\"months\":[0,2,4,6,8,10]},\"id\":\"35613\",\"type\":\"MonthsTicker\"},{\"attributes\":{},\"id\":\"35578\",\"type\":\"SaveTool\"},{\"attributes\":{\"days\":[1,4,7,10,13,16,19,22,25,28]},\"id\":\"35609\",\"type\":\"DaysTicker\"},{\"attributes\":{\"axis_label\":\"Count\",\"formatter\":{\"id\":\"35602\"},\"major_label_policy\":{\"id\":\"35601\"},\"ticker\":{\"id\":\"35574\"}},\"id\":\"35573\",\"type\":\"LinearAxis\"},{\"attributes\":{\"days\":[1,15]},\"id\":\"35611\",\"type\":\"DaysTicker\"},{\"attributes\":{\"source\":{\"id\":\"35591\"}},\"id\":\"35595\",\"type\":\"CDSView\"},{\"attributes\":{\"data\":{\"x\":{\"__ndarray__\":\"AACA53JeckIAAMA5bWhyQgAAwFpwcXJCAAAArWp7ckIAAICZEoVyQgAAwOsMj3JCAABA2LSYckIAAIAqr6JyQgAAwHyprHJCAABAaVG2ckIAAIC7S8ByQgAAAKjzyXJCAABA+u3TckIAAIBM6N1yQgAAgG3r5nJCAADAv+XwckIAAECsjfpyQgAAgP6HBHNCAAAA6y8Oc0IAAEA9KhhzQgAAgI8kInNCAAAAfMwrc0IAAEDOxjVzQgAAwLpuP3NCAAAADWlJc0IAAEBfY1NzQgAAAOa4XHNCAABAOLNmc0IAAMAkW3BzQgAAAHdVenNCAACAY/2Dc0IAAMC1941zQgAAAAjyl3NCAACA9Jmhc0IAAMBGlKtzQgAAQDM8tXNCAACAhTa/c0IAAMDXMMlzQgAAwPgz0nNCAAAASy7cc0IAAIA31uVzQgAAwInQ73NCAABAdnj5c0IAAIDIcgN0QgAAwBptDXRCAABABxUXdEIAAIBZDyF0QgAAAEa3KnRCAABAmLE0dEIAAIDqqz50QgAAgAuvR3RCAADAXalRdEIAAEBKUVt0QgAAgJxLZXRCAAAAifNudEIAAEDb7Xh0QgAAgC3ognRCAAAAGpCMdEIAAEBsipZ0QgAAwFgyoHRCAAAAqyyqdEIAAED9JrR0QgAAQB4qvXRCAACAcCTHdEIAAABdzNB0QgAAQK/G2nRCAADAm27kdEIAAADuaO50QgAAQEBj+HRCAADALAsCdUIAAAB/BQx1QgAAgGutFXVCAADAvacfdUIAAAAQoil1QgAAwJb3MnVCAAAA6fE8dUIAAIDVmUZ1QgAAwCeUUHVCAABAFDxadUIAAIBmNmR1QgAAwLgwbnVCAABApdh3dUIAAID30oF1QgAAAOR6i3VCAABANnWVdUIAAICIb591QgAAgKlyqHVCAADA+2yydUIAAEDoFLx1QgAAgDoPxnVCAAAAJ7fPdUIAAEB5sdl1QgAAgMur43VCAAAAuFPtdUIAAEAKTvd1QgAAwPb1AHZCAAAASfAKdkIAAECb6hR2QgAAQLztHXZCAACADugndkIAAAD7jzF2QgAAQE2KO3ZCAADAOTJFdkIAAACMLE92QgAAQN4mWXZCAADAys5idkIAAAAdyWx2QgAAgAlxdnZCAADAW2uAdkIAAACuZYp2QgAAAM9ok3ZCAABAIWOddkIAAMANC6d2QgAAAGAFsXZCAACATK26dkIAAMCep8R2QgAAAPGhznZCAACA3UnYdkIAAMAvROJ2QgAAQBzs63ZCAACAbub1dkIAAMDA4P92QgAAgEc2CXdCAADAmTATd0IAAECG2Bx3QgAAgNjSJndCAAAAxXowd0IAAEAXdTp3QgAAgGlvRHdCAAAAVhdOd0IAAECoEVh3QgAAwJS5YXdCAAAA57Nrd0IAAEA5rnV3QgAAQFqxfndCAACArKuId0IAAACZU5J3QgAAQOtNnHdCAADA1/Wld0I=\",\"dtype\":\"float64\",\"order\":\"little\",\"shape\":[139]},\"y\":[0,0,0,0,0,0,0,0,0,0,0,0,0,0,0,0,0,0,0,0,0,0,0,0,0,0,0,0,0,0,0,0,0,0,0,0,0,0,0,0,0,0,0,0,0,0,0,0,0,0,0,0,0,0,0,0,0,0,0,0,0,0,0,0,0,0,0,0,0,0,0,0,0,0,0,0,0,0,0,0,0,0,0,0,0,0,0,0,0,0,0,0,0,0,0,0,0,0,0,0,0,0,0,0,1,0,0,0,0,0,0,0,0,0,0,0,0,0,0,1,1,1,1,4,3,3,0,2,1,1,3,3,1,2,3,1,0,0,1]},\"selected\":{\"id\":\"35634\"},\"selection_policy\":{\"id\":\"35635\"}},\"id\":\"35620\",\"type\":\"ColumnDataSource\"},{\"attributes\":{},\"id\":\"35666\",\"type\":\"Selection\"},{\"attributes\":{\"axis\":{\"id\":\"35573\"},\"dimension\":1,\"ticker\":null},\"id\":\"35576\",\"type\":\"Grid\"},{\"attributes\":{\"months\":[0,6]},\"id\":\"35615\",\"type\":\"MonthsTicker\"},{\"attributes\":{\"days\":[1,8,15,22]},\"id\":\"35610\",\"type\":\"DaysTicker\"},{\"attributes\":{\"label\":{\"value\":\"selfconsumptioncontracts\"},\"renderers\":[{\"id\":\"35594\"}]},\"id\":\"35619\",\"type\":\"LegendItem\"},{\"attributes\":{},\"id\":\"35616\",\"type\":\"YearsTicker\"},{\"attributes\":{\"axis_label\":\"Year\",\"formatter\":{\"id\":\"35599\"},\"major_label_policy\":{\"id\":\"35598\"},\"ticker\":{\"id\":\"35570\"}},\"id\":\"35569\",\"type\":\"DatetimeAxis\"},{\"attributes\":{},\"id\":\"35667\",\"type\":\"UnionRenderers\"},{\"attributes\":{},\"id\":\"35604\",\"type\":\"UnionRenderers\"},{\"attributes\":{\"text\":\"All selfconsumptioncontracts, New and Canceled selfconsumptioncontracts\"},\"id\":\"35559\",\"type\":\"Title\"},{\"attributes\":{\"months\":[0,4,8]},\"id\":\"35614\",\"type\":\"MonthsTicker\"},{\"attributes\":{\"bottom_units\":\"screen\",\"fill_alpha\":0.5,\"fill_color\":\"lightgrey\",\"left_units\":\"screen\",\"level\":\"overlay\",\"line_alpha\":1.0,\"line_color\":\"black\",\"line_dash\":[4,4],\"line_width\":2,\"right_units\":\"screen\",\"syncable\":false,\"top_units\":\"screen\"},\"id\":\"35583\",\"type\":\"BoxAnnotation\"},{\"attributes\":{\"overlay\":{\"id\":\"35583\"}},\"id\":\"35580\",\"type\":\"BoxZoomTool\"},{\"attributes\":{},\"id\":\"35634\",\"type\":\"Selection\"},{\"attributes\":{},\"id\":\"35601\",\"type\":\"AllLabels\"},{\"attributes\":{\"axis\":{\"id\":\"35569\"},\"ticker\":null},\"id\":\"35572\",\"type\":\"Grid\"},{\"attributes\":{},\"id\":\"35635\",\"type\":\"UnionRenderers\"},{\"attributes\":{},\"id\":\"35574\",\"type\":\"BasicTicker\"},{\"attributes\":{},\"id\":\"35577\",\"type\":\"CrosshairTool\"},{\"attributes\":{\"num_minor_ticks\":5,\"tickers\":[{\"id\":\"35605\"},{\"id\":\"35606\"},{\"id\":\"35607\"},{\"id\":\"35608\"},{\"id\":\"35609\"},{\"id\":\"35610\"},{\"id\":\"35611\"},{\"id\":\"35612\"},{\"id\":\"35613\"},{\"id\":\"35614\"},{\"id\":\"35615\"},{\"id\":\"35616\"}]},\"id\":\"35570\",\"type\":\"DatetimeTicker\"},{\"attributes\":{},\"id\":\"35602\",\"type\":\"BasicTickFormatter\"},{\"attributes\":{\"items\":[{\"id\":\"35619\"},{\"id\":\"35649\"},{\"id\":\"35681\"}],\"location\":\"top_left\"},\"id\":\"35618\",\"type\":\"Legend\"},{\"attributes\":{\"active_multi\":null,\"tools\":[{\"id\":\"35577\"},{\"id\":\"35578\"},{\"id\":\"35579\"},{\"id\":\"35580\"},{\"id\":\"35581\"},{\"id\":\"35582\"}]},\"id\":\"35584\",\"type\":\"Toolbar\"},{\"attributes\":{\"data_source\":{\"id\":\"35650\"},\"glyph\":{\"id\":\"35651\"},\"hover_glyph\":null,\"muted_glyph\":null,\"nonselection_glyph\":{\"id\":\"35652\"},\"view\":{\"id\":\"35654\"}},\"id\":\"35653\",\"type\":\"GlyphRenderer\"},{\"attributes\":{\"data_source\":{\"id\":\"35591\"},\"glyph\":{\"id\":\"35592\"},\"hover_glyph\":null,\"muted_glyph\":null,\"nonselection_glyph\":{\"id\":\"35593\"},\"view\":{\"id\":\"35595\"}},\"id\":\"35594\",\"type\":\"GlyphRenderer\"},{\"attributes\":{},\"id\":\"35565\",\"type\":\"LinearScale\"},{\"attributes\":{\"data_source\":{\"id\":\"35620\"},\"glyph\":{\"id\":\"35621\"},\"hover_glyph\":null,\"muted_glyph\":null,\"nonselection_glyph\":{\"id\":\"35622\"},\"view\":{\"id\":\"35624\"}},\"id\":\"35623\",\"type\":\"GlyphRenderer\"},{\"attributes\":{},\"id\":\"35581\",\"type\":\"ResetTool\"},{\"attributes\":{},\"id\":\"35563\",\"type\":\"DataRange1d\"},{\"attributes\":{},\"id\":\"35567\",\"type\":\"LinearScale\"},{\"attributes\":{\"data\":{\"x\":{\"__ndarray__\":\"AACA53JeckIAAMA5bWhyQgAAwFpwcXJCAAAArWp7ckIAAICZEoVyQgAAwOsMj3JCAABA2LSYckIAAIAqr6JyQgAAwHyprHJCAABAaVG2ckIAAIC7S8ByQgAAAKjzyXJCAABA+u3TckIAAIBM6N1yQgAAgG3r5nJCAADAv+XwckIAAECsjfpyQgAAgP6HBHNCAAAA6y8Oc0IAAEA9KhhzQgAAgI8kInNCAAAAfMwrc0IAAEDOxjVzQgAAwLpuP3NCAAAADWlJc0IAAEBfY1NzQgAAAOa4XHNCAABAOLNmc0IAAMAkW3BzQgAAAHdVenNCAACAY/2Dc0IAAMC1941zQgAAAAjyl3NCAACA9Jmhc0IAAMBGlKtzQgAAQDM8tXNCAACAhTa/c0IAAMDXMMlzQgAAwPgz0nNCAAAASy7cc0IAAIA31uVzQgAAwInQ73NCAABAdnj5c0IAAIDIcgN0QgAAwBptDXRCAABABxUXdEIAAIBZDyF0QgAAAEa3KnRCAABAmLE0dEIAAIDqqz50QgAAgAuvR3RCAADAXalRdEIAAEBKUVt0QgAAgJxLZXRCAAAAifNudEIAAEDb7Xh0QgAAgC3ognRCAAAAGpCMdEIAAEBsipZ0QgAAwFgyoHRCAAAAqyyqdEIAAED9JrR0QgAAQB4qvXRCAACAcCTHdEIAAABdzNB0QgAAQK/G2nRCAADAm27kdEIAAADuaO50QgAAQEBj+HRCAADALAsCdUIAAAB/BQx1QgAAgGutFXVCAADAvacfdUIAAAAQoil1QgAAwJb3MnVCAAAA6fE8dUIAAIDVmUZ1QgAAwCeUUHVCAABAFDxadUIAAIBmNmR1QgAAwLgwbnVCAABApdh3dUIAAID30oF1QgAAAOR6i3VCAABANnWVdUIAAICIb591QgAAgKlyqHVCAADA+2yydUIAAEDoFLx1QgAAgDoPxnVCAAAAJ7fPdUIAAEB5sdl1QgAAgMur43VCAAAAuFPtdUIAAEAKTvd1QgAAwPb1AHZCAAAASfAKdkIAAECb6hR2QgAAQLztHXZCAACADugndkIAAAD7jzF2QgAAQE2KO3ZCAADAOTJFdkIAAACMLE92QgAAQN4mWXZCAADAys5idkIAAAAdyWx2QgAAgAlxdnZCAADAW2uAdkIAAACuZYp2QgAAAM9ok3ZCAABAIWOddkIAAMANC6d2QgAAAGAFsXZCAACATK26dkIAAMCep8R2QgAAAPGhznZCAACA3UnYdkIAAMAvROJ2QgAAQBzs63ZCAACAbub1dkIAAMDA4P92QgAAgEc2CXdCAADAmTATd0IAAECG2Bx3QgAAgNjSJndCAAAAxXowd0IAAEAXdTp3QgAAgGlvRHdCAAAAVhdOd0IAAECoEVh3QgAAwJS5YXdCAAAA57Nrd0IAAEA5rnV3QgAAQFqxfndCAACArKuId0IAAACZU5J3QgAAQOtNnHdCAADA1/Wld0I=\",\"dtype\":\"float64\",\"order\":\"little\",\"shape\":[139]},\"y\":[0,0,0,0,0,0,0,0,0,0,0,0,0,0,0,0,0,0,0,0,0,0,0,0,0,0,0,0,0,0,0,0,0,0,0,0,0,0,0,0,0,0,0,0,0,0,0,0,0,0,0,0,0,0,0,0,0,0,0,0,0,0,0,0,0,0,0,0,0,0,0,0,0,0,0,0,0,0,0,0,0,0,0,0,0,0,0,0,0,0,0,0,0,0,0,0,0,0,0,0,0,0,0,0,0,0,0,0,0,0,0,0,0,0,0,0,0,0,0,0,0,0,0,0,0,0,0,0,0,0,0,0,1,0,0,0,0,0,0]},\"selected\":{\"id\":\"35666\"},\"selection_policy\":{\"id\":\"35667\"}},\"id\":\"35650\",\"type\":\"ColumnDataSource\"},{\"attributes\":{},\"id\":\"35561\",\"type\":\"DataRange1d\"},{\"attributes\":{},\"id\":\"35582\",\"type\":\"WheelZoomTool\"}],\"root_ids\":[\"35558\"]},\"title\":\"Bokeh Application\",\"version\":\"2.3.2\"}};\n",
       "  var render_items = [{\"docid\":\"5260d6ee-7c16-418c-baf3-74dce9a9d619\",\"root_ids\":[\"35558\"],\"roots\":{\"35558\":\"b7fb3305-f0ff-49e7-88de-128a3b08821a\"}}];\n",
       "  root.Bokeh.embed.embed_items_notebook(docs_json, render_items);\n",
       "\n",
       "  }\n",
       "  if (root.Bokeh !== undefined) {\n",
       "    embed_document(root);\n",
       "  } else {\n",
       "    var attempts = 0;\n",
       "    var timer = setInterval(function(root) {\n",
       "      if (root.Bokeh !== undefined) {\n",
       "        clearInterval(timer);\n",
       "        embed_document(root);\n",
       "      } else {\n",
       "        attempts++;\n",
       "        if (attempts > 100) {\n",
       "          clearInterval(timer);\n",
       "          console.log(\"Bokeh: ERROR: Unable to run BokehJS code because BokehJS library is missing\");\n",
       "        }\n",
       "      }\n",
       "    }, 10, root)\n",
       "  }\n",
       "})(window);"
      ],
      "application/vnd.bokehjs_exec.v0+json": ""
     },
     "metadata": {
      "application/vnd.bokehjs_exec.v0+json": {
       "id": "35558"
      }
     },
     "output_type": "display_data"
    },
    {
     "data": {
      "text/html": [
       "\n",
       "\n",
       "\n",
       "\n",
       "\n",
       "\n",
       "  <div class=\"bk-root\" id=\"5a8ffb86-b319-4aaa-bfb2-dad2826d1cb0\" data-root-id=\"36921\"></div>\n"
      ]
     },
     "metadata": {},
     "output_type": "display_data"
    },
    {
     "data": {
      "application/javascript": [
       "(function(root) {\n",
       "  function embed_document(root) {\n",
       "    \n",
       "  var docs_json = {\"dc836e2e-1041-4b22-9eb1-8f6abe6fb5b4\":{\"defs\":[],\"roots\":{\"references\":[{\"attributes\":{\"below\":[{\"id\":\"36932\"}],\"center\":[{\"id\":\"36935\"},{\"id\":\"36939\"}],\"left\":[{\"id\":\"36936\"}],\"renderers\":[{\"id\":\"36959\"}],\"right\":[{\"id\":\"36963\"}],\"title\":{\"id\":\"36922\"},\"toolbar\":{\"id\":\"36947\"},\"toolbar_location\":\"above\",\"x_range\":{\"id\":\"36924\"},\"x_scale\":{\"id\":\"36928\"},\"y_range\":{\"id\":\"36926\"},\"y_scale\":{\"id\":\"36930\"}},\"id\":\"36921\",\"subtype\":\"Figure\",\"type\":\"Plot\"},{\"attributes\":{},\"id\":\"37794\",\"type\":\"Selection\"},{\"attributes\":{},\"id\":\"37789\",\"type\":\"BasicTickFormatter\"},{\"attributes\":{},\"id\":\"36940\",\"type\":\"CrosshairTool\"},{\"attributes\":{},\"id\":\"36930\",\"type\":\"LinearScale\"},{\"attributes\":{\"axis\":{\"id\":\"36936\"},\"dimension\":1,\"ticker\":null},\"id\":\"36939\",\"type\":\"Grid\"},{\"attributes\":{},\"id\":\"36942\",\"type\":\"PanTool\"},{\"attributes\":{\"axis_label\":\"Year\",\"formatter\":{\"id\":\"37789\"},\"major_label_policy\":{\"id\":\"37788\"},\"ticker\":{\"id\":\"36933\"}},\"id\":\"36932\",\"type\":\"LinearAxis\"},{\"attributes\":{},\"id\":\"37795\",\"type\":\"UnionRenderers\"},{\"attributes\":{\"axis_label\":\"Month\",\"formatter\":{\"id\":\"37793\"},\"major_label_policy\":{\"id\":\"37792\"},\"ticker\":{\"id\":\"36937\"}},\"id\":\"36936\",\"type\":\"LinearAxis\"},{\"attributes\":{\"overlay\":{\"id\":\"36946\"}},\"id\":\"36943\",\"type\":\"BoxZoomTool\"},{\"attributes\":{},\"id\":\"36941\",\"type\":\"SaveTool\"},{\"attributes\":{\"desired_num_ticks\":9},\"id\":\"36961\",\"type\":\"BasicTicker\"},{\"attributes\":{},\"id\":\"36944\",\"type\":\"ResetTool\"},{\"attributes\":{},\"id\":\"36937\",\"type\":\"BasicTicker\"},{\"attributes\":{},\"id\":\"36933\",\"type\":\"BasicTicker\"},{\"attributes\":{\"active_multi\":null,\"tools\":[{\"id\":\"36940\"},{\"id\":\"36941\"},{\"id\":\"36942\"},{\"id\":\"36943\"},{\"id\":\"36944\"},{\"id\":\"36945\"}]},\"id\":\"36947\",\"type\":\"Toolbar\"},{\"attributes\":{},\"id\":\"37790\",\"type\":\"NoOverlap\"},{\"attributes\":{},\"id\":\"36945\",\"type\":\"WheelZoomTool\"},{\"attributes\":{\"axis\":{\"id\":\"36932\"},\"ticker\":null},\"id\":\"36935\",\"type\":\"Grid\"},{\"attributes\":{},\"id\":\"37788\",\"type\":\"AllLabels\"},{\"attributes\":{\"high\":25,\"low\":3,\"palette\":[\"#f7fcfd\",\"#e5f5f9\",\"#ccece6\",\"#99d8c9\",\"#66c2a4\",\"#41ae76\",\"#238b45\",\"#006d2c\",\"#00441b\"]},\"id\":\"36955\",\"type\":\"LinearColorMapper\"},{\"attributes\":{},\"id\":\"37792\",\"type\":\"AllLabels\"},{\"attributes\":{},\"id\":\"37793\",\"type\":\"BasicTickFormatter\"},{\"attributes\":{\"source\":{\"id\":\"36954\"}},\"id\":\"36960\",\"type\":\"CDSView\"},{\"attributes\":{\"data\":{\"canceledcontracts\":[3,4,7,5,3,4,1,2,4,3,1,4,6],\"canceledmembers\":[0,0,0,0,0,0,0,0,0,1,0,0,0],\"canceledselfconsumptioncontracts\":[0,0,0,0,0,0,0,0,0,0,0,0,1],\"contracts\":[454,469,481,485,488,493,496,501,504,510,518,527,531],\"index\":[0,1,2,3,4,5,6,7,8,9,10,11,12],\"members\":[309,317,320,323,325,329,330,330,334,338,340,345,349],\"month\":[1,2,3,4,5,6,7,8,9,10,11,12,1],\"newcontracts\":[8,19,19,9,6,9,4,7,7,9,9,13,10],\"newmembers\":[5,8,3,3,2,4,1,0,4,5,2,5,4],\"newselfconsumptioncontracts\":[1,1,1,4,3,3,0,2,1,1,3,3,1],\"selfconsumptioncontracts\":[3,4,5,9,12,15,15,17,18,19,22,25,25],\"year\":[2020,2020,2020,2020,2020,2020,2020,2020,2020,2020,2020,2020,2021]},\"selected\":{\"id\":\"37794\"},\"selection_policy\":{\"id\":\"37795\"}},\"id\":\"36954\",\"type\":\"ColumnDataSource\"},{\"attributes\":{\"text\":\"Year Month selfconsumptioncontracts\"},\"id\":\"36922\",\"type\":\"Title\"},{\"attributes\":{},\"id\":\"36928\",\"type\":\"LinearScale\"},{\"attributes\":{\"color_mapper\":{\"id\":\"36955\"},\"formatter\":{\"id\":\"36962\"},\"label_standoff\":6,\"location\":[0,0],\"major_label_policy\":{\"id\":\"37790\"},\"major_label_text_font_size\":\"10pt\",\"ticker\":{\"id\":\"36961\"}},\"id\":\"36963\",\"type\":\"ColorBar\"},{\"attributes\":{},\"id\":\"36926\",\"type\":\"DataRange1d\"},{\"attributes\":{},\"id\":\"36962\",\"type\":\"PrintfTickFormatter\"},{\"attributes\":{\"fill_color\":{\"field\":\"selfconsumptioncontracts\",\"transform\":{\"id\":\"36955\"}},\"height\":{\"value\":1},\"line_color\":{\"value\":null},\"width\":{\"value\":2},\"x\":{\"field\":\"year\"},\"y\":{\"field\":\"month\"}},\"id\":\"36957\",\"type\":\"Rect\"},{\"attributes\":{\"data_source\":{\"id\":\"36954\"},\"glyph\":{\"id\":\"36957\"},\"hover_glyph\":null,\"muted_glyph\":null,\"nonselection_glyph\":{\"id\":\"36958\"},\"view\":{\"id\":\"36960\"}},\"id\":\"36959\",\"type\":\"GlyphRenderer\"},{\"attributes\":{\"bottom_units\":\"screen\",\"fill_alpha\":0.5,\"fill_color\":\"lightgrey\",\"left_units\":\"screen\",\"level\":\"overlay\",\"line_alpha\":1.0,\"line_color\":\"black\",\"line_dash\":[4,4],\"line_width\":2,\"right_units\":\"screen\",\"syncable\":false,\"top_units\":\"screen\"},\"id\":\"36946\",\"type\":\"BoxAnnotation\"},{\"attributes\":{},\"id\":\"36924\",\"type\":\"DataRange1d\"},{\"attributes\":{\"fill_alpha\":{\"value\":0.1},\"fill_color\":{\"field\":\"selfconsumptioncontracts\",\"transform\":{\"id\":\"36955\"}},\"height\":{\"value\":1},\"line_alpha\":{\"value\":0.1},\"line_color\":{\"value\":null},\"width\":{\"value\":2},\"x\":{\"field\":\"year\"},\"y\":{\"field\":\"month\"}},\"id\":\"36958\",\"type\":\"Rect\"}],\"root_ids\":[\"36921\"]},\"title\":\"Bokeh Application\",\"version\":\"2.3.2\"}};\n",
       "  var render_items = [{\"docid\":\"dc836e2e-1041-4b22-9eb1-8f6abe6fb5b4\",\"root_ids\":[\"36921\"],\"roots\":{\"36921\":\"5a8ffb86-b319-4aaa-bfb2-dad2826d1cb0\"}}];\n",
       "  root.Bokeh.embed.embed_items_notebook(docs_json, render_items);\n",
       "\n",
       "  }\n",
       "  if (root.Bokeh !== undefined) {\n",
       "    embed_document(root);\n",
       "  } else {\n",
       "    var attempts = 0;\n",
       "    var timer = setInterval(function(root) {\n",
       "      if (root.Bokeh !== undefined) {\n",
       "        clearInterval(timer);\n",
       "        embed_document(root);\n",
       "      } else {\n",
       "        attempts++;\n",
       "        if (attempts > 100) {\n",
       "          clearInterval(timer);\n",
       "          console.log(\"Bokeh: ERROR: Unable to run BokehJS code because BokehJS library is missing\");\n",
       "        }\n",
       "      }\n",
       "    }, 10, root)\n",
       "  }\n",
       "})(window);"
      ],
      "application/vnd.bokehjs_exec.v0+json": ""
     },
     "metadata": {
      "application/vnd.bokehjs_exec.v0+json": {
       "id": "36921"
      }
     },
     "output_type": "display_data"
    },
    {
     "data": {
      "text/html": [
       "\n",
       "\n",
       "\n",
       "\n",
       "\n",
       "\n",
       "  <div class=\"bk-root\" id=\"b2db5b92-e938-4d96-a22d-067accca580b\" data-root-id=\"37974\"></div>\n"
      ]
     },
     "metadata": {},
     "output_type": "display_data"
    },
    {
     "data": {
      "application/javascript": [
       "(function(root) {\n",
       "  function embed_document(root) {\n",
       "    \n",
       "  var docs_json = {\"06807e82-77ca-4055-b170-0188b940250f\":{\"defs\":[],\"roots\":{\"references\":[{\"attributes\":{\"below\":[{\"id\":\"37985\"}],\"center\":[{\"id\":\"37988\"},{\"id\":\"37992\"}],\"height\":350,\"left\":[{\"id\":\"37989\"}],\"outline_line_color\":null,\"renderers\":[{\"id\":\"38010\"}],\"title\":{\"id\":\"37975\"},\"toolbar\":{\"id\":\"38000\"},\"toolbar_location\":\"above\",\"x_range\":{\"id\":\"37977\"},\"x_scale\":{\"id\":\"37981\"},\"y_range\":{\"id\":\"37979\"},\"y_scale\":{\"id\":\"37983\"}},\"id\":\"37974\",\"subtype\":\"Figure\",\"type\":\"Plot\"},{\"attributes\":{\"bottom_units\":\"screen\",\"fill_alpha\":0.5,\"fill_color\":\"lightgrey\",\"left_units\":\"screen\",\"level\":\"overlay\",\"line_alpha\":1.0,\"line_color\":\"black\",\"line_dash\":[4,4],\"line_width\":2,\"right_units\":\"screen\",\"syncable\":false,\"top_units\":\"screen\"},\"id\":\"37999\",\"type\":\"BoxAnnotation\"},{\"attributes\":{},\"id\":\"38852\",\"type\":\"Selection\"},{\"attributes\":{},\"id\":\"38847\",\"type\":\"AllLabels\"},{\"attributes\":{\"axis_label\":\"AVG selfconsumptioncontracts\",\"formatter\":{\"id\":\"38851\"},\"major_label_policy\":{\"id\":\"38850\"},\"minor_tick_line_color\":null,\"ticker\":{\"id\":\"37990\"}},\"id\":\"37989\",\"type\":\"LinearAxis\"},{\"attributes\":{},\"id\":\"37981\",\"type\":\"LinearScale\"},{\"attributes\":{\"overlay\":{\"id\":\"37999\"}},\"id\":\"37995\",\"type\":\"BoxZoomTool\"},{\"attributes\":{},\"id\":\"38853\",\"type\":\"UnionRenderers\"},{\"attributes\":{},\"id\":\"38848\",\"type\":\"BasicTickFormatter\"},{\"attributes\":{},\"id\":\"37998\",\"type\":\"HelpTool\"},{\"attributes\":{},\"id\":\"37986\",\"type\":\"BasicTicker\"},{\"attributes\":{},\"id\":\"37993\",\"type\":\"PanTool\"},{\"attributes\":{\"axis_label\":\"Month\",\"formatter\":{\"id\":\"38848\"},\"major_label_policy\":{\"id\":\"38847\"},\"minor_tick_line_color\":null,\"ticker\":{\"id\":\"37986\"}},\"id\":\"37985\",\"type\":\"LinearAxis\"},{\"attributes\":{},\"id\":\"37994\",\"type\":\"WheelZoomTool\"},{\"attributes\":{},\"id\":\"37990\",\"type\":\"BasicTicker\"},{\"attributes\":{\"axis\":{\"id\":\"37985\"},\"grid_line_color\":null,\"ticker\":null},\"id\":\"37988\",\"type\":\"Grid\"},{\"attributes\":{},\"id\":\"37996\",\"type\":\"SaveTool\"},{\"attributes\":{\"active_multi\":null,\"tools\":[{\"id\":\"37993\"},{\"id\":\"37994\"},{\"id\":\"37995\"},{\"id\":\"37996\"},{\"id\":\"37997\"},{\"id\":\"37998\"}]},\"id\":\"38000\",\"type\":\"Toolbar\"},{\"attributes\":{\"start\":0},\"id\":\"37979\",\"type\":\"DataRange1d\"},{\"attributes\":{\"axis\":{\"id\":\"37989\"},\"dimension\":1,\"ticker\":null},\"id\":\"37992\",\"type\":\"Grid\"},{\"attributes\":{\"text\":\"AVG selfconsumptioncontracts\"},\"id\":\"37975\",\"type\":\"Title\"},{\"attributes\":{},\"id\":\"37997\",\"type\":\"ResetTool\"},{\"attributes\":{\"fill_color\":{\"value\":\"#1f77b4\"},\"line_color\":{\"value\":\"#1f77b4\"},\"top\":{\"field\":\"top\"},\"width\":{\"value\":0.9},\"x\":{\"field\":\"x\"}},\"id\":\"38008\",\"type\":\"VBar\"},{\"attributes\":{},\"id\":\"37977\",\"type\":\"DataRange1d\"},{\"attributes\":{},\"id\":\"38850\",\"type\":\"AllLabels\"},{\"attributes\":{\"data\":{\"top\":[3,4,5,9,12,15,15,17,18,19,22,25,25],\"x\":[1,2,3,4,5,6,7,8,9,10,11,12,1]},\"selected\":{\"id\":\"38852\"},\"selection_policy\":{\"id\":\"38853\"}},\"id\":\"38007\",\"type\":\"ColumnDataSource\"},{\"attributes\":{\"fill_alpha\":{\"value\":0.1},\"fill_color\":{\"value\":\"#1f77b4\"},\"line_alpha\":{\"value\":0.1},\"line_color\":{\"value\":\"#1f77b4\"},\"top\":{\"field\":\"top\"},\"width\":{\"value\":0.9},\"x\":{\"field\":\"x\"}},\"id\":\"38009\",\"type\":\"VBar\"},{\"attributes\":{\"source\":{\"id\":\"38007\"}},\"id\":\"38011\",\"type\":\"CDSView\"},{\"attributes\":{},\"id\":\"38851\",\"type\":\"BasicTickFormatter\"},{\"attributes\":{\"data_source\":{\"id\":\"38007\"},\"glyph\":{\"id\":\"38008\"},\"hover_glyph\":null,\"muted_glyph\":null,\"nonselection_glyph\":{\"id\":\"38009\"},\"view\":{\"id\":\"38011\"}},\"id\":\"38010\",\"type\":\"GlyphRenderer\"},{\"attributes\":{},\"id\":\"37983\",\"type\":\"LinearScale\"}],\"root_ids\":[\"37974\"]},\"title\":\"Bokeh Application\",\"version\":\"2.3.2\"}};\n",
       "  var render_items = [{\"docid\":\"06807e82-77ca-4055-b170-0188b940250f\",\"root_ids\":[\"37974\"],\"roots\":{\"37974\":\"b2db5b92-e938-4d96-a22d-067accca580b\"}}];\n",
       "  root.Bokeh.embed.embed_items_notebook(docs_json, render_items);\n",
       "\n",
       "  }\n",
       "  if (root.Bokeh !== undefined) {\n",
       "    embed_document(root);\n",
       "  } else {\n",
       "    var attempts = 0;\n",
       "    var timer = setInterval(function(root) {\n",
       "      if (root.Bokeh !== undefined) {\n",
       "        clearInterval(timer);\n",
       "        embed_document(root);\n",
       "      } else {\n",
       "        attempts++;\n",
       "        if (attempts > 100) {\n",
       "          clearInterval(timer);\n",
       "          console.log(\"Bokeh: ERROR: Unable to run BokehJS code because BokehJS library is missing\");\n",
       "        }\n",
       "      }\n",
       "    }, 10, root)\n",
       "  }\n",
       "})(window);"
      ],
      "application/vnd.bokehjs_exec.v0+json": ""
     },
     "metadata": {
      "application/vnd.bokehjs_exec.v0+json": {
       "id": "37974"
      }
     },
     "output_type": "display_data"
    }
   ],
   "source": [
    "output_notebook()\n",
    "for m in [\"members\",\"contracts\",\"selfconsumptioncontracts\"]:\n",
    "    show(plot_mapa_calor(last_year,m))"
   ]
  },
  {
   "cell_type": "markdown",
   "id": "69166cba",
   "metadata": {},
   "source": [
    " **Gràfica plot_avg_barres**"
   ]
  },
  {
   "cell_type": "code",
   "execution_count": 1,
   "id": "0e3206ab",
   "metadata": {
    "scrolled": true
   },
   "outputs": [
    {
     "ename": "NameError",
     "evalue": "name 'show' is not defined",
     "output_type": "error",
     "traceback": [
      "\u001b[1;31m---------------------------------------------------------------------------\u001b[0m",
      "\u001b[1;31mNameError\u001b[0m                                 Traceback (most recent call last)",
      "\u001b[1;32m<ipython-input-1-829795456b44>\u001b[0m in \u001b[0;36m<module>\u001b[1;34m\u001b[0m\n\u001b[0;32m      1\u001b[0m \u001b[1;32mfor\u001b[0m \u001b[0mm\u001b[0m \u001b[1;32min\u001b[0m \u001b[1;33m[\u001b[0m\u001b[1;34m\"members\"\u001b[0m\u001b[1;33m,\u001b[0m\u001b[1;34m\"contracts\"\u001b[0m\u001b[1;33m,\u001b[0m\u001b[1;34m\"selfconsumptioncontracts\"\u001b[0m\u001b[1;33m]\u001b[0m\u001b[1;33m:\u001b[0m\u001b[1;33m\u001b[0m\u001b[1;33m\u001b[0m\u001b[0m\n\u001b[1;32m----> 2\u001b[1;33m     \u001b[0mshow\u001b[0m\u001b[1;33m(\u001b[0m\u001b[0mplot_avg_barres\u001b[0m\u001b[1;33m(\u001b[0m\u001b[0mlast_year\u001b[0m\u001b[1;33m,\u001b[0m\u001b[0mm\u001b[0m\u001b[1;33m)\u001b[0m\u001b[1;33m)\u001b[0m\u001b[1;33m\u001b[0m\u001b[1;33m\u001b[0m\u001b[0m\n\u001b[0m",
      "\u001b[1;31mNameError\u001b[0m: name 'show' is not defined"
     ]
    }
   ],
   "source": [
    "output_notebook()\n",
    "for m in [\"members\",\"contracts\",\"selfconsumptioncontracts\"]:\n",
    "    show(plot_avg_barres(last_year,m))"
   ]
  }
 ],
 "metadata": {
  "kernelspec": {
   "display_name": "Python 3",
   "language": "python",
   "name": "python3"
  },
  "language_info": {
   "codemirror_mode": {
    "name": "ipython",
    "version": 3
   },
   "file_extension": ".py",
   "mimetype": "text/x-python",
   "name": "python",
   "nbconvert_exporter": "python",
   "pygments_lexer": "ipython3",
   "version": "3.8.8"
  }
 },
 "nbformat": 4,
 "nbformat_minor": 5
}
